{
 "cells": [
  {
   "cell_type": "code",
   "execution_count": 1,
   "id": "4a25517d",
   "metadata": {},
   "outputs": [
    {
     "name": "stderr",
     "output_type": "stream",
     "text": [
      "2022-04-29 09:05:56.562479: W tensorflow/stream_executor/platform/default/dso_loader.cc:64] Could not load dynamic library 'libcudart.so.11.0'; dlerror: libcudart.so.11.0: cannot open shared object file: No such file or directory\n",
      "2022-04-29 09:05:56.562514: I tensorflow/stream_executor/cuda/cudart_stub.cc:29] Ignore above cudart dlerror if you do not have a GPU set up on your machine.\n"
     ]
    }
   ],
   "source": [
    "import numpy as np\n",
    "import pandas as pd\n",
    "\n",
    "from sklearn.ensemble import IsolationForest\n",
    "from sklearn.svm import OneClassSVM\n",
    "from sklearn.preprocessing import StandardScaler\n",
    "from sklearn.model_selection import train_test_split\n",
    "from sklearn.metrics import confusion_matrix, recall_score, f1_score, accuracy_score, precision_score\n",
    "from sklearn.ensemble import VotingClassifier, RandomForestClassifier\n",
    "from sklearn.decomposition import PCA, IncrementalPCA, LatentDirichletAllocation\n",
    "from sklearn.manifold import TSNE\n",
    "\n",
    "from tqdm.notebook import tqdm, trange\n",
    "from typing import NoReturn, Union, List\n",
    "from mlxtend.classifier import EnsembleVoteClassifier\n",
    "import matplotlib.pyplot as plt\n",
    "import seaborn as sns\n",
    "import tensorflow as tf\n",
    "from umap import UMAP\n"
   ]
  },
  {
   "cell_type": "code",
   "execution_count": 2,
   "id": "e332406b",
   "metadata": {},
   "outputs": [],
   "source": [
    "df = pd.read_csv('creditcard.csv')"
   ]
  },
  {
   "cell_type": "code",
   "execution_count": 3,
   "id": "17625113",
   "metadata": {},
   "outputs": [],
   "source": [
    "dev = False"
   ]
  },
  {
   "cell_type": "code",
   "execution_count": 4,
   "id": "53e9fdf1",
   "metadata": {},
   "outputs": [],
   "source": [
    "# time and amount scaling\n",
    "df['Time'] = StandardScaler().fit_transform(df['Time'].values.reshape(-1, 1))\n",
    "df['Amount'] = StandardScaler().fit_transform(df['Amount'].values.reshape(-1, 1))\n",
    "\n",
    "df_anom = df[df['Class'] == 1]\n",
    "df_norm = df[df['Class'] == 0]\n",
    "\n",
    "if dev:\n",
    "    df_norm = df_norm.sample(5000, random_state=42)\n",
    "df_test_norm = df_norm.sample(df_anom.shape[0])\n",
    "df_test = pd.concat([\n",
    "    df_anom,\n",
    "    df_test_norm\n",
    "])\n",
    "df_train = df_norm.drop(df_test_norm.index)\n",
    "\n",
    "feature_cols = [_ for _ in df.columns if _ != 'Class']"
   ]
  },
  {
   "cell_type": "code",
   "execution_count": 5,
   "id": "32cb301b",
   "metadata": {},
   "outputs": [
    {
     "name": "stdout",
     "output_type": "stream",
     "text": [
      "\n",
      "train: [  283823 x 30   ]\n",
      " test: [     984 x 30   ]\n",
      "\n"
     ]
    }
   ],
   "source": [
    "X_train = df_train[feature_cols]\n",
    "y_train = df_train['Class'] # will not be used\n",
    "X_test = df_test[feature_cols]\n",
    "y_test = df_test['Class'] # for evaluation\n",
    "print('''\n",
    "train: [{:>8} x {:<5}]\n",
    " test: [{:>8} x {:<5}]\n",
    "'''.format(*X_train.shape, *X_test.shape))"
   ]
  },
  {
   "cell_type": "code",
   "execution_count": 6,
   "id": "38b40c8a",
   "metadata": {},
   "outputs": [],
   "source": [
    "def sensitivity_keras(y_true, y_pred):\n",
    "    \"\"\"credits: https://datascience.stackexchange.com/a/40746/28592\n",
    "    \n",
    "    param:\n",
    "    y_pred - Predicted labels\n",
    "    y_true - True labels \n",
    "    Returns:\n",
    "    Specificity score\n",
    "    \"\"\"\n",
    "    neg_y_true = 1 - y_true\n",
    "    neg_y_pred = 1 - y_pred\n",
    "    fp = tf.keras.backend.sum(neg_y_true * y_pred)\n",
    "    tn = tf.keras.backend.sum(neg_y_true * neg_y_pred)\n",
    "    specificity = tn / (tn + fp + tf.keras.backend.epsilon())\n",
    "    return specificity"
   ]
  },
  {
   "cell_type": "code",
   "execution_count": 7,
   "id": "409d5efc",
   "metadata": {},
   "outputs": [],
   "source": [
    "class Scaled_IsolationForest(IsolationForest):\n",
    "    \"\"\"The purpose of this sub-class is to transform prediction values from {-1, 1} to {1,0}\n",
    "    \"\"\"\n",
    "    def predict(self, X):\n",
    "        pred = super().predict(X)\n",
    "        scale_func = np.vectorize(lambda x: 1 if x == -1 else 0)\n",
    "        return scale_func(pred)\n",
    "\n",
    "class Scaled_OneClass_SVM(OneClassSVM):\n",
    "    \"\"\"The purpose of this sub-class is to transform prediction values from {-1, 1} to {1,0}\n",
    "    \"\"\"\n",
    "    def predict(self, X):\n",
    "        return np.array([y==-1 for y in super().predict(X)])\n",
    "    \n",
    "class NoveltyDetection_Sequential(tf.keras.models.Sequential):\n",
    "    \"\"\"This custom `tf.keras.models.Sequential` sub-class transforms autoencoder's output into {1,0}.\n",
    "    Output value is determined based on reproduction (decode) loss. If reproduction loss is more than a threashold then, the input sample is considered as anomaly (outlier).\n",
    "    Based on few experiments, 1.5 is a dissent threashold (don't as why :P). Future work: determine the threashold using a more sophisticated method.\n",
    "    \"\"\"\n",
    "    def predict(self, x, *args, **kwargs):\n",
    "        pred = super().predict(x, *args, **kwargs)\n",
    "        mse = np.mean(np.power(x - pred, 2), axis=1)\n",
    "        scale_func = np.vectorize(lambda x: 1 if x > 1.5 else 0)\n",
    "        return scale_func(mse)"
   ]
  },
  {
   "cell_type": "code",
   "execution_count": 8,
   "id": "871b2d1d",
   "metadata": {},
   "outputs": [],
   "source": [
    "# define early stop in order to prevent overfitting and useless training\n",
    "early_stop = tf.keras.callbacks.EarlyStopping(\n",
    "    monitor='mse',\n",
    "    patience=10,\n",
    "    verbose=1, \n",
    "    mode='min',\n",
    "    restore_best_weights=True,\n",
    ")\n",
    "\n",
    "# it's a common practice to store the best model\n",
    "checkpoint = tf.keras.callbacks.ModelCheckpoint(\n",
    "    filepath='autoenc.hdf5',\n",
    "    save_best_only=True,\n",
    "    monitor='val_loss',\n",
    "    mode='min',\n",
    "    verbose=0\n",
    ")\n",
    "\n",
    "def get_autoencoder() -> tf.keras.models.Sequential:\n",
    "    \"\"\"Build an autoencoder\n",
    "    \"\"\"\n",
    "    model = NoveltyDetection_Sequential([\n",
    "        tf.keras.layers.Dense(X_train.shape[1], activation='relu', input_shape=(X_train.shape[1], )),\n",
    "        # add some noise to prevent overfitting\n",
    "        tf.keras.layers.GaussianNoise(0.05),\n",
    "        tf.keras.layers.Dense(2, activation='relu'),\n",
    "        tf.keras.layers.Dense(X_train.shape[1], activation='relu')\n",
    "    ])\n",
    "    model.compile(optimizer='adam', \n",
    "                        loss='mse',\n",
    "                        metrics=['acc', sensitivity_keras])\n",
    "    return model"
   ]
  },
  {
   "cell_type": "code",
   "execution_count": 9,
   "id": "1c7d385f",
   "metadata": {},
   "outputs": [],
   "source": [
    "clfs = {\n",
    "    'isolation_forest': {\n",
    "        'label': 'Isolation Forest',\n",
    "        'clb': Scaled_IsolationForest,\n",
    "        'params': {\n",
    "            'contamination': 'auto',\n",
    "            'n_estimators': 300\n",
    "        },\n",
    "        'predictions': None,\n",
    "        'model': None\n",
    "    },\n",
    "    'ocsvm': {\n",
    "        'label': 'OneClass SVM',\n",
    "        'clb': Scaled_OneClass_SVM,\n",
    "        'params': {\n",
    "            'kernel': 'rbf',\n",
    "            'gamma': 0.3,\n",
    "            'nu': 0.01,\n",
    "        },\n",
    "        'prediction': None,\n",
    "        'model': None\n",
    "    },\n",
    "    'auto-encoder': {\n",
    "        'label': 'Autoncoder',\n",
    "        'clb': get_autoencoder,\n",
    "        'params': {},\n",
    "        'fit_params': {\n",
    "            'x': X_train, 'y': X_train,\n",
    "            'validation_split': 0.2,\n",
    "            'callbacks': [early_stop, checkpoint],\n",
    "            'epochs': 64,\n",
    "            'batch_size': 256,\n",
    "            'verbose': 0\n",
    "        },\n",
    "        'predictions': None,\n",
    "        'model': None\n",
    "    }\n",
    "}"
   ]
  },
  {
   "cell_type": "code",
   "execution_count": 10,
   "id": "24c7f27e",
   "metadata": {},
   "outputs": [
    {
     "data": {
      "application/vnd.jupyter.widget-view+json": {
       "model_id": "3c577d9a27e4486186ee9e92dba23484",
       "version_major": 2,
       "version_minor": 0
      },
      "text/plain": [
       "  0%|          | 0/3 [00:00<?, ?it/s]"
      ]
     },
     "metadata": {},
     "output_type": "display_data"
    },
    {
     "name": "stderr",
     "output_type": "stream",
     "text": [
      "2022-04-29 10:53:26.576352: I tensorflow/stream_executor/cuda/cuda_gpu_executor.cc:936] successful NUMA node read from SysFS had negative value (-1), but there must be at least one NUMA node, so returning NUMA node zero\n",
      "2022-04-29 10:53:26.577020: W tensorflow/stream_executor/platform/default/dso_loader.cc:64] Could not load dynamic library 'libcudart.so.11.0'; dlerror: libcudart.so.11.0: cannot open shared object file: No such file or directory\n",
      "2022-04-29 10:53:26.577293: W tensorflow/stream_executor/platform/default/dso_loader.cc:64] Could not load dynamic library 'libcublas.so.11'; dlerror: libcublas.so.11: cannot open shared object file: No such file or directory\n",
      "2022-04-29 10:53:26.577530: W tensorflow/stream_executor/platform/default/dso_loader.cc:64] Could not load dynamic library 'libcublasLt.so.11'; dlerror: libcublasLt.so.11: cannot open shared object file: No such file or directory\n",
      "2022-04-29 10:53:26.577761: W tensorflow/stream_executor/platform/default/dso_loader.cc:64] Could not load dynamic library 'libcufft.so.10'; dlerror: libcufft.so.10: cannot open shared object file: No such file or directory\n",
      "2022-04-29 10:53:26.577989: W tensorflow/stream_executor/platform/default/dso_loader.cc:64] Could not load dynamic library 'libcurand.so.10'; dlerror: libcurand.so.10: cannot open shared object file: No such file or directory\n",
      "2022-04-29 10:53:26.578217: W tensorflow/stream_executor/platform/default/dso_loader.cc:64] Could not load dynamic library 'libcusolver.so.11'; dlerror: libcusolver.so.11: cannot open shared object file: No such file or directory\n",
      "2022-04-29 10:53:26.578440: W tensorflow/stream_executor/platform/default/dso_loader.cc:64] Could not load dynamic library 'libcusparse.so.11'; dlerror: libcusparse.so.11: cannot open shared object file: No such file or directory\n",
      "2022-04-29 10:53:26.578703: W tensorflow/stream_executor/platform/default/dso_loader.cc:64] Could not load dynamic library 'libcudnn.so.8'; dlerror: libcudnn.so.8: cannot open shared object file: No such file or directory\n",
      "2022-04-29 10:53:26.578736: W tensorflow/core/common_runtime/gpu/gpu_device.cc:1850] Cannot dlopen some GPU libraries. Please make sure the missing libraries mentioned above are installed properly if you would like to use GPU. Follow the guide at https://www.tensorflow.org/install/gpu for how to download and setup the required libraries for your platform.\n",
      "Skipping registering GPU devices...\n",
      "2022-04-29 10:53:26.579324: I tensorflow/core/platform/cpu_feature_guard.cc:151] This TensorFlow binary is optimized with oneAPI Deep Neural Network Library (oneDNN) to use the following CPU instructions in performance-critical operations:  AVX2 FMA\n",
      "To enable them in other operations, rebuild TensorFlow with the appropriate compiler flags.\n"
     ]
    },
    {
     "name": "stdout",
     "output_type": "stream",
     "text": [
      "WARNING:tensorflow:Early stopping conditioned on metric `mse` which is not available. Available metrics are: loss,acc,sensitivity_keras,val_loss,val_acc,val_sensitivity_keras\n",
      "WARNING:tensorflow:Early stopping conditioned on metric `mse` which is not available. Available metrics are: loss,acc,sensitivity_keras,val_loss,val_acc,val_sensitivity_keras\n",
      "WARNING:tensorflow:Early stopping conditioned on metric `mse` which is not available. Available metrics are: loss,acc,sensitivity_keras,val_loss,val_acc,val_sensitivity_keras\n",
      "WARNING:tensorflow:Early stopping conditioned on metric `mse` which is not available. Available metrics are: loss,acc,sensitivity_keras,val_loss,val_acc,val_sensitivity_keras\n",
      "WARNING:tensorflow:Early stopping conditioned on metric `mse` which is not available. Available metrics are: loss,acc,sensitivity_keras,val_loss,val_acc,val_sensitivity_keras\n",
      "WARNING:tensorflow:Early stopping conditioned on metric `mse` which is not available. Available metrics are: loss,acc,sensitivity_keras,val_loss,val_acc,val_sensitivity_keras\n",
      "WARNING:tensorflow:Early stopping conditioned on metric `mse` which is not available. Available metrics are: loss,acc,sensitivity_keras,val_loss,val_acc,val_sensitivity_keras\n",
      "WARNING:tensorflow:Early stopping conditioned on metric `mse` which is not available. Available metrics are: loss,acc,sensitivity_keras,val_loss,val_acc,val_sensitivity_keras\n",
      "WARNING:tensorflow:Early stopping conditioned on metric `mse` which is not available. Available metrics are: loss,acc,sensitivity_keras,val_loss,val_acc,val_sensitivity_keras\n",
      "WARNING:tensorflow:Early stopping conditioned on metric `mse` which is not available. Available metrics are: loss,acc,sensitivity_keras,val_loss,val_acc,val_sensitivity_keras\n",
      "WARNING:tensorflow:Early stopping conditioned on metric `mse` which is not available. Available metrics are: loss,acc,sensitivity_keras,val_loss,val_acc,val_sensitivity_keras\n",
      "WARNING:tensorflow:Early stopping conditioned on metric `mse` which is not available. Available metrics are: loss,acc,sensitivity_keras,val_loss,val_acc,val_sensitivity_keras\n",
      "WARNING:tensorflow:Early stopping conditioned on metric `mse` which is not available. Available metrics are: loss,acc,sensitivity_keras,val_loss,val_acc,val_sensitivity_keras\n",
      "WARNING:tensorflow:Early stopping conditioned on metric `mse` which is not available. Available metrics are: loss,acc,sensitivity_keras,val_loss,val_acc,val_sensitivity_keras\n",
      "WARNING:tensorflow:Early stopping conditioned on metric `mse` which is not available. Available metrics are: loss,acc,sensitivity_keras,val_loss,val_acc,val_sensitivity_keras\n",
      "WARNING:tensorflow:Early stopping conditioned on metric `mse` which is not available. Available metrics are: loss,acc,sensitivity_keras,val_loss,val_acc,val_sensitivity_keras\n",
      "WARNING:tensorflow:Early stopping conditioned on metric `mse` which is not available. Available metrics are: loss,acc,sensitivity_keras,val_loss,val_acc,val_sensitivity_keras\n",
      "WARNING:tensorflow:Early stopping conditioned on metric `mse` which is not available. Available metrics are: loss,acc,sensitivity_keras,val_loss,val_acc,val_sensitivity_keras\n",
      "WARNING:tensorflow:Early stopping conditioned on metric `mse` which is not available. Available metrics are: loss,acc,sensitivity_keras,val_loss,val_acc,val_sensitivity_keras\n",
      "WARNING:tensorflow:Early stopping conditioned on metric `mse` which is not available. Available metrics are: loss,acc,sensitivity_keras,val_loss,val_acc,val_sensitivity_keras\n",
      "WARNING:tensorflow:Early stopping conditioned on metric `mse` which is not available. Available metrics are: loss,acc,sensitivity_keras,val_loss,val_acc,val_sensitivity_keras\n",
      "WARNING:tensorflow:Early stopping conditioned on metric `mse` which is not available. Available metrics are: loss,acc,sensitivity_keras,val_loss,val_acc,val_sensitivity_keras\n",
      "WARNING:tensorflow:Early stopping conditioned on metric `mse` which is not available. Available metrics are: loss,acc,sensitivity_keras,val_loss,val_acc,val_sensitivity_keras\n",
      "WARNING:tensorflow:Early stopping conditioned on metric `mse` which is not available. Available metrics are: loss,acc,sensitivity_keras,val_loss,val_acc,val_sensitivity_keras\n",
      "WARNING:tensorflow:Early stopping conditioned on metric `mse` which is not available. Available metrics are: loss,acc,sensitivity_keras,val_loss,val_acc,val_sensitivity_keras\n",
      "WARNING:tensorflow:Early stopping conditioned on metric `mse` which is not available. Available metrics are: loss,acc,sensitivity_keras,val_loss,val_acc,val_sensitivity_keras\n",
      "WARNING:tensorflow:Early stopping conditioned on metric `mse` which is not available. Available metrics are: loss,acc,sensitivity_keras,val_loss,val_acc,val_sensitivity_keras\n",
      "WARNING:tensorflow:Early stopping conditioned on metric `mse` which is not available. Available metrics are: loss,acc,sensitivity_keras,val_loss,val_acc,val_sensitivity_keras\n",
      "WARNING:tensorflow:Early stopping conditioned on metric `mse` which is not available. Available metrics are: loss,acc,sensitivity_keras,val_loss,val_acc,val_sensitivity_keras\n",
      "WARNING:tensorflow:Early stopping conditioned on metric `mse` which is not available. Available metrics are: loss,acc,sensitivity_keras,val_loss,val_acc,val_sensitivity_keras\n",
      "WARNING:tensorflow:Early stopping conditioned on metric `mse` which is not available. Available metrics are: loss,acc,sensitivity_keras,val_loss,val_acc,val_sensitivity_keras\n",
      "WARNING:tensorflow:Early stopping conditioned on metric `mse` which is not available. Available metrics are: loss,acc,sensitivity_keras,val_loss,val_acc,val_sensitivity_keras\n",
      "WARNING:tensorflow:Early stopping conditioned on metric `mse` which is not available. Available metrics are: loss,acc,sensitivity_keras,val_loss,val_acc,val_sensitivity_keras\n",
      "WARNING:tensorflow:Early stopping conditioned on metric `mse` which is not available. Available metrics are: loss,acc,sensitivity_keras,val_loss,val_acc,val_sensitivity_keras\n",
      "WARNING:tensorflow:Early stopping conditioned on metric `mse` which is not available. Available metrics are: loss,acc,sensitivity_keras,val_loss,val_acc,val_sensitivity_keras\n",
      "WARNING:tensorflow:Early stopping conditioned on metric `mse` which is not available. Available metrics are: loss,acc,sensitivity_keras,val_loss,val_acc,val_sensitivity_keras\n",
      "WARNING:tensorflow:Early stopping conditioned on metric `mse` which is not available. Available metrics are: loss,acc,sensitivity_keras,val_loss,val_acc,val_sensitivity_keras\n",
      "WARNING:tensorflow:Early stopping conditioned on metric `mse` which is not available. Available metrics are: loss,acc,sensitivity_keras,val_loss,val_acc,val_sensitivity_keras\n",
      "WARNING:tensorflow:Early stopping conditioned on metric `mse` which is not available. Available metrics are: loss,acc,sensitivity_keras,val_loss,val_acc,val_sensitivity_keras\n",
      "WARNING:tensorflow:Early stopping conditioned on metric `mse` which is not available. Available metrics are: loss,acc,sensitivity_keras,val_loss,val_acc,val_sensitivity_keras\n",
      "WARNING:tensorflow:Early stopping conditioned on metric `mse` which is not available. Available metrics are: loss,acc,sensitivity_keras,val_loss,val_acc,val_sensitivity_keras\n",
      "WARNING:tensorflow:Early stopping conditioned on metric `mse` which is not available. Available metrics are: loss,acc,sensitivity_keras,val_loss,val_acc,val_sensitivity_keras\n",
      "WARNING:tensorflow:Early stopping conditioned on metric `mse` which is not available. Available metrics are: loss,acc,sensitivity_keras,val_loss,val_acc,val_sensitivity_keras\n",
      "WARNING:tensorflow:Early stopping conditioned on metric `mse` which is not available. Available metrics are: loss,acc,sensitivity_keras,val_loss,val_acc,val_sensitivity_keras\n",
      "WARNING:tensorflow:Early stopping conditioned on metric `mse` which is not available. Available metrics are: loss,acc,sensitivity_keras,val_loss,val_acc,val_sensitivity_keras\n",
      "WARNING:tensorflow:Early stopping conditioned on metric `mse` which is not available. Available metrics are: loss,acc,sensitivity_keras,val_loss,val_acc,val_sensitivity_keras\n",
      "WARNING:tensorflow:Early stopping conditioned on metric `mse` which is not available. Available metrics are: loss,acc,sensitivity_keras,val_loss,val_acc,val_sensitivity_keras\n"
     ]
    },
    {
     "name": "stdout",
     "output_type": "stream",
     "text": [
      "WARNING:tensorflow:Early stopping conditioned on metric `mse` which is not available. Available metrics are: loss,acc,sensitivity_keras,val_loss,val_acc,val_sensitivity_keras\n",
      "WARNING:tensorflow:Early stopping conditioned on metric `mse` which is not available. Available metrics are: loss,acc,sensitivity_keras,val_loss,val_acc,val_sensitivity_keras\n",
      "WARNING:tensorflow:Early stopping conditioned on metric `mse` which is not available. Available metrics are: loss,acc,sensitivity_keras,val_loss,val_acc,val_sensitivity_keras\n",
      "WARNING:tensorflow:Early stopping conditioned on metric `mse` which is not available. Available metrics are: loss,acc,sensitivity_keras,val_loss,val_acc,val_sensitivity_keras\n",
      "WARNING:tensorflow:Early stopping conditioned on metric `mse` which is not available. Available metrics are: loss,acc,sensitivity_keras,val_loss,val_acc,val_sensitivity_keras\n",
      "WARNING:tensorflow:Early stopping conditioned on metric `mse` which is not available. Available metrics are: loss,acc,sensitivity_keras,val_loss,val_acc,val_sensitivity_keras\n",
      "WARNING:tensorflow:Early stopping conditioned on metric `mse` which is not available. Available metrics are: loss,acc,sensitivity_keras,val_loss,val_acc,val_sensitivity_keras\n",
      "WARNING:tensorflow:Early stopping conditioned on metric `mse` which is not available. Available metrics are: loss,acc,sensitivity_keras,val_loss,val_acc,val_sensitivity_keras\n",
      "WARNING:tensorflow:Early stopping conditioned on metric `mse` which is not available. Available metrics are: loss,acc,sensitivity_keras,val_loss,val_acc,val_sensitivity_keras\n",
      "WARNING:tensorflow:Early stopping conditioned on metric `mse` which is not available. Available metrics are: loss,acc,sensitivity_keras,val_loss,val_acc,val_sensitivity_keras\n",
      "WARNING:tensorflow:Early stopping conditioned on metric `mse` which is not available. Available metrics are: loss,acc,sensitivity_keras,val_loss,val_acc,val_sensitivity_keras\n",
      "WARNING:tensorflow:Early stopping conditioned on metric `mse` which is not available. Available metrics are: loss,acc,sensitivity_keras,val_loss,val_acc,val_sensitivity_keras\n",
      "WARNING:tensorflow:Early stopping conditioned on metric `mse` which is not available. Available metrics are: loss,acc,sensitivity_keras,val_loss,val_acc,val_sensitivity_keras\n",
      "WARNING:tensorflow:Early stopping conditioned on metric `mse` which is not available. Available metrics are: loss,acc,sensitivity_keras,val_loss,val_acc,val_sensitivity_keras\n",
      "WARNING:tensorflow:Early stopping conditioned on metric `mse` which is not available. Available metrics are: loss,acc,sensitivity_keras,val_loss,val_acc,val_sensitivity_keras\n",
      "WARNING:tensorflow:Early stopping conditioned on metric `mse` which is not available. Available metrics are: loss,acc,sensitivity_keras,val_loss,val_acc,val_sensitivity_keras\n",
      "WARNING:tensorflow:Early stopping conditioned on metric `mse` which is not available. Available metrics are: loss,acc,sensitivity_keras,val_loss,val_acc,val_sensitivity_keras\n",
      "CPU times: user 1h 48min 28s, sys: 16.2 s, total: 1h 48min 44s\n",
      "Wall time: 1h 48min 20s\n"
     ]
    }
   ],
   "source": [
    "%%time\n",
    "\n",
    "t = trange(len(clfs))\n",
    "for name in clfs:\n",
    "    t.set_description(clfs[name]['label'])\n",
    "    clfs[name]['model'] = clfs[name]['clb'](**clfs[name]['params'])\n",
    "    if 'fit_params' in clfs[name]:\n",
    "        clfs[name]['model'].fit(**clfs[name].get('fit_params', {}))\n",
    "    else:\n",
    "        clfs[name]['model'].fit(X_train)\n",
    "    clfs[name]['predictions'] = clfs[name]['model'].predict(X_test)\n",
    "    t.update()\n",
    "t.close()"
   ]
  },
  {
   "cell_type": "code",
   "execution_count": 11,
   "id": "670f7d11",
   "metadata": {},
   "outputs": [],
   "source": [
    "def print_eval_metrics(y_true, y_pred, name='', header=True):\n",
    "    \"\"\"Function for printing purposes\n",
    "    \"\"\"\n",
    "    if header:\n",
    "        print('{:>20}\\t{:>10}\\t{:>10}\\t{:>8}\\t{:>5}'.format('Algorith', 'Accuracy', 'Recall', 'Precision', 'f1'))\n",
    "    acc = accuracy_score(y_true, y_pred)\n",
    "    recall = recall_score(y_true, y_pred)\n",
    "    prec = precision_score(y_true, y_pred)\n",
    "    f1 = f1_score(y_true, y_pred)\n",
    "    print('{:>20}\\t{:>1.8f}\\t{:>1.8f}\\t{:>1.6f}\\t{:>1.3f}'.format(\n",
    "        name, acc, recall, prec, f1\n",
    "    ))"
   ]
  },
  {
   "cell_type": "code",
   "execution_count": 35,
   "id": "95ec1e08",
   "metadata": {},
   "outputs": [],
   "source": [
    "\n",
    "def plot_confusion_matrix(cm, classes,\n",
    "                          normalize=False,\n",
    "                          title='Confusion matrix',\n",
    "                          cmap=plt.cm.Blues):\n",
    "    \"\"\"\n",
    "    This function prints and plots the confusion matrix.\n",
    "    Normalization can be applied by setting `normalize=True`.\n",
    "    Copyed from a kernel by joparga3 https://www.kaggle.com/joparga3/kernels\n",
    "    \"\"\"\n",
    "    plt.figure()\n",
    "    plt.imshow(cm, interpolation='nearest', cmap=cmap)\n",
    "    plt.title(title)\n",
    "    plt.colorbar()\n",
    "    tick_marks = np.arange(len(classes))\n",
    "    plt.xticks(tick_marks, classes, rotation=0)\n",
    "    plt.yticks(tick_marks, classes)\n",
    "\n",
    "    thresh = cm.max() / 2.\n",
    "    for i, j in itertools.product(range(cm.shape[0]), range(cm.shape[1])):\n",
    "        plt.text(j, i, cm[i, j],\n",
    "                 horizontalalignment=\"center\",\n",
    "                 color=\"white\" if cm[i, j] > thresh else \"black\")\n",
    "\n",
    "    plt.tight_layout()\n",
    "    plt.ylabel('True label')\n",
    "    plt.xlabel('Predicted label')\n",
    "    plt.show()"
   ]
  },
  {
   "cell_type": "code",
   "execution_count": 12,
   "id": "982ffede",
   "metadata": {},
   "outputs": [],
   "source": [
    "y_preds = np.column_stack([clfs[_]['predictions'] for _ in clfs])\n",
    "enseble_preds = []"
   ]
  },
  {
   "cell_type": "code",
   "execution_count": 13,
   "id": "96f22c47",
   "metadata": {},
   "outputs": [
    {
     "name": "stderr",
     "output_type": "stream",
     "text": [
      "/home/victor/Victor/Work/CIC/.pyenv/lib/python3.10/site-packages/mlxtend/classifier/ensemble_vote.py:166: UserWarning: fit_base_estimators=False enforces use_clones to be `False`\n",
      "  warnings.warn(\"fit_base_estimators=False \"\n"
     ]
    }
   ],
   "source": [
    "hard_vot = EnsembleVoteClassifier([clfs[_]['model'] for _ in clfs], fit_base_estimators=False)\n",
    "hard_vot.fit(X_test, y_test)\n",
    "enseble_preds.append((hard_vot.predict(X_test), 'Hard Voting'))"
   ]
  },
  {
   "cell_type": "code",
   "execution_count": 14,
   "id": "0c60b89f",
   "metadata": {},
   "outputs": [
    {
     "name": "stderr",
     "output_type": "stream",
     "text": [
      "/home/victor/Victor/Work/CIC/.pyenv/lib/python3.10/site-packages/mlxtend/classifier/ensemble_vote.py:166: UserWarning: fit_base_estimators=False enforces use_clones to be `False`\n",
      "  warnings.warn(\"fit_base_estimators=False \"\n"
     ]
    }
   ],
   "source": [
    "wei_hard_vot = EnsembleVoteClassifier([clfs[_]['model'] for _ in clfs], weights=[\n",
    "        0.4,\n",
    "        0.1,\n",
    "        0.8\n",
    "    ], fit_base_estimators=False)\n",
    "wei_hard_vot.fit(X_test, y_test)\n",
    "enseble_preds.append((wei_hard_vot.predict(X_test), 'Weighted Hard Voting'))"
   ]
  },
  {
   "cell_type": "code",
   "execution_count": 15,
   "id": "b2476831",
   "metadata": {},
   "outputs": [
    {
     "data": {
      "text/plain": [
       "RandomForestClassifier()"
      ]
     },
     "execution_count": 15,
     "metadata": {},
     "output_type": "execute_result"
    }
   ],
   "source": [
    "rf = RandomForestClassifier()\n",
    "\n",
    "x_tr_ens, x_ts_ens, y_tr_ens, y_ts_ens = train_test_split(y_preds, y_test, test_size=.5)\n",
    "rf.fit(x_tr_ens, y_tr_ens)"
   ]
  },
  {
   "cell_type": "code",
   "execution_count": 16,
   "id": "a1458577",
   "metadata": {
    "scrolled": true
   },
   "outputs": [
    {
     "name": "stdout",
     "output_type": "stream",
     "text": [
      "            Algorith\t  Accuracy\t    Recall\tPrecision\t   f1\n",
      "    Isolation Forest\t0.90040650\t0.83130081\t0.964623\t0.893\n",
      "        OneClass SVM\t0.87804878\t0.93699187\t0.838182\t0.885\n",
      "          Autoncoder\t0.90955285\t0.88821138\t0.927813\t0.908\n",
      "\n",
      "\n",
      "         Hard Voting\t0.91260163\t0.88414634\t0.937500\t0.910\n",
      "Weighted Hard Voting\t0.90955285\t0.88821138\t0.927813\t0.908\n",
      "\n",
      "\n",
      "    Bleding using RF\t0.92073171\t0.88510638\t0.945455\t0.914\n"
     ]
    }
   ],
   "source": [
    "print_header = True\n",
    "for k, v in clfs.items():\n",
    "    print_eval_metrics(y_test, v['predictions'], v['label'], print_header)\n",
    "    print_header = False\n",
    "\n",
    "print('\\n')\n",
    "\n",
    "for prds, l in enseble_preds:\n",
    "    print_eval_metrics(y_test, prds, l, print_header)\n",
    "    print_header = False\n",
    "\n",
    "print('\\n')\n",
    "    \n",
    "print_eval_metrics(\n",
    "    y_ts_ens,\n",
    "    rf.predict(x_ts_ens),\n",
    "    'Bleding using RF', False\n",
    ")"
   ]
  },
  {
   "cell_type": "code",
   "execution_count": 38,
   "id": "9694b4bd",
   "metadata": {},
   "outputs": [
    {
     "data": {
      "image/png": "[encoded data removed]",
      "text/plain": [
       "<Figure size 432x288 with 2 Axes>"
      ]
     },
     "metadata": {
      "needs_background": "light"
     },
     "output_type": "display_data"
    },
    {
     "data": {
      "image/png": "[encoded data removed]",
      "text/plain": [
       "<Figure size 432x288 with 2 Axes>"
      ]
     },
     "metadata": {
      "needs_background": "light"
     },
     "output_type": "display_data"
    },
    {
     "data": {
      "image/png": "[encoded data removed]",
      "text/plain": [
       "<Figure size 432x288 with 2 Axes>"
      ]
     },
     "metadata": {
      "needs_background": "light"
     },
     "output_type": "display_data"
    },
    {
     "data": {
      "image/png": "[encoded data removed]",
      "text/plain": [
       "<Figure size 432x288 with 2 Axes>"
      ]
     },
     "metadata": {
      "needs_background": "light"
     },
     "output_type": "display_data"
    },
    {
     "data": {
      "image/png": "[encoded data removed]",
      "text/plain": [
       "<Figure size 432x288 with 2 Axes>"
      ]
     },
     "metadata": {
      "needs_background": "light"
     },
     "output_type": "display_data"
    }
   ],
   "source": [
    "import itertools\n",
    "for k, v in clfs.items():\n",
    "    cnf = confusion_matrix(y_test, v['predictions'])\n",
    "    plot_confusion_matrix(cnf,classes=[\"0\",\"1\"], title=v[\"label\"])\n",
    "    \n",
    "for prds, l in enseble_preds:\n",
    "    cnf = confusion_matrix(y_test, prds)\n",
    "    plot_confusion_matrix(cnf,classes=[\"0\",\"1\"], title=l)"
   ]
  },
  {
   "cell_type": "code",
   "execution_count": 29,
   "id": "a3acb0c2",
   "metadata": {},
   "outputs": [
    {
     "data": {
      "text/plain": [
       "(283823, 30)"
      ]
     },
     "execution_count": 29,
     "metadata": {},
     "output_type": "execute_result"
    }
   ],
   "source": [
    "X_train.shape"
   ]
  },
  {
   "cell_type": "code",
   "execution_count": 26,
   "id": "c3a85af7",
   "metadata": {},
   "outputs": [
    {
     "data": {
      "text/html": [
       "<div>\n",
       "<style scoped>\n",
       "    .dataframe tbody tr th:only-of-type {\n",
       "        vertical-align: middle;\n",
       "    }\n",
       "\n",
       "    .dataframe tbody tr th {\n",
       "        vertical-align: top;\n",
       "    }\n",
       "\n",
       "    .dataframe thead th {\n",
       "        text-align: right;\n",
       "    }\n",
       "</style>\n",
       "<table border=\"1\" class=\"dataframe\">\n",
       "  <thead>\n",
       "    <tr style=\"text-align: right;\">\n",
       "      <th></th>\n",
       "      <th>Time</th>\n",
       "      <th>V1</th>\n",
       "      <th>V2</th>\n",
       "      <th>V3</th>\n",
       "      <th>V4</th>\n",
       "      <th>V5</th>\n",
       "      <th>V6</th>\n",
       "      <th>V7</th>\n",
       "      <th>V8</th>\n",
       "      <th>V9</th>\n",
       "      <th>...</th>\n",
       "      <th>V20</th>\n",
       "      <th>V21</th>\n",
       "      <th>V22</th>\n",
       "      <th>V23</th>\n",
       "      <th>V24</th>\n",
       "      <th>V25</th>\n",
       "      <th>V26</th>\n",
       "      <th>V27</th>\n",
       "      <th>V28</th>\n",
       "      <th>Amount</th>\n",
       "    </tr>\n",
       "  </thead>\n",
       "  <tbody>\n",
       "    <tr>\n",
       "      <th>541</th>\n",
       "      <td>-1.988034</td>\n",
       "      <td>-2.312227</td>\n",
       "      <td>1.951992</td>\n",
       "      <td>-1.609851</td>\n",
       "      <td>3.997906</td>\n",
       "      <td>-0.522188</td>\n",
       "      <td>-1.426545</td>\n",
       "      <td>-2.537387</td>\n",
       "      <td>1.391657</td>\n",
       "      <td>-2.770089</td>\n",
       "      <td>...</td>\n",
       "      <td>0.126911</td>\n",
       "      <td>0.517232</td>\n",
       "      <td>-0.035049</td>\n",
       "      <td>-0.465211</td>\n",
       "      <td>0.320198</td>\n",
       "      <td>0.044519</td>\n",
       "      <td>0.177840</td>\n",
       "      <td>0.261145</td>\n",
       "      <td>-0.143276</td>\n",
       "      <td>-0.353229</td>\n",
       "    </tr>\n",
       "    <tr>\n",
       "      <th>623</th>\n",
       "      <td>-1.986644</td>\n",
       "      <td>-3.043541</td>\n",
       "      <td>-3.157307</td>\n",
       "      <td>1.088463</td>\n",
       "      <td>2.288644</td>\n",
       "      <td>1.359805</td>\n",
       "      <td>-1.064823</td>\n",
       "      <td>0.325574</td>\n",
       "      <td>-0.067794</td>\n",
       "      <td>-0.270953</td>\n",
       "      <td>...</td>\n",
       "      <td>2.102339</td>\n",
       "      <td>0.661696</td>\n",
       "      <td>0.435477</td>\n",
       "      <td>1.375966</td>\n",
       "      <td>-0.293803</td>\n",
       "      <td>0.279798</td>\n",
       "      <td>-0.145362</td>\n",
       "      <td>-0.252773</td>\n",
       "      <td>0.035764</td>\n",
       "      <td>1.761758</td>\n",
       "    </tr>\n",
       "    <tr>\n",
       "      <th>4920</th>\n",
       "      <td>-1.902623</td>\n",
       "      <td>-2.303350</td>\n",
       "      <td>1.759247</td>\n",
       "      <td>-0.359745</td>\n",
       "      <td>2.330243</td>\n",
       "      <td>-0.821628</td>\n",
       "      <td>-0.075788</td>\n",
       "      <td>0.562320</td>\n",
       "      <td>-0.399147</td>\n",
       "      <td>-0.238253</td>\n",
       "      <td>...</td>\n",
       "      <td>-0.430022</td>\n",
       "      <td>-0.294166</td>\n",
       "      <td>-0.932391</td>\n",
       "      <td>0.172726</td>\n",
       "      <td>-0.087330</td>\n",
       "      <td>-0.156114</td>\n",
       "      <td>-0.542628</td>\n",
       "      <td>0.039566</td>\n",
       "      <td>-0.153029</td>\n",
       "      <td>0.606031</td>\n",
       "    </tr>\n",
       "    <tr>\n",
       "      <th>6108</th>\n",
       "      <td>-1.849472</td>\n",
       "      <td>-4.397974</td>\n",
       "      <td>1.358367</td>\n",
       "      <td>-2.592844</td>\n",
       "      <td>2.679787</td>\n",
       "      <td>-1.128131</td>\n",
       "      <td>-1.706536</td>\n",
       "      <td>-3.496197</td>\n",
       "      <td>-0.248778</td>\n",
       "      <td>-0.247768</td>\n",
       "      <td>...</td>\n",
       "      <td>-0.171608</td>\n",
       "      <td>0.573574</td>\n",
       "      <td>0.176968</td>\n",
       "      <td>-0.436207</td>\n",
       "      <td>-0.053502</td>\n",
       "      <td>0.252405</td>\n",
       "      <td>-0.657488</td>\n",
       "      <td>-0.827136</td>\n",
       "      <td>0.849573</td>\n",
       "      <td>-0.117342</td>\n",
       "    </tr>\n",
       "    <tr>\n",
       "      <th>6329</th>\n",
       "      <td>-1.838248</td>\n",
       "      <td>1.234235</td>\n",
       "      <td>3.019740</td>\n",
       "      <td>-4.304597</td>\n",
       "      <td>4.732795</td>\n",
       "      <td>3.624201</td>\n",
       "      <td>-1.357746</td>\n",
       "      <td>1.713445</td>\n",
       "      <td>-0.496358</td>\n",
       "      <td>-1.282858</td>\n",
       "      <td>...</td>\n",
       "      <td>0.009061</td>\n",
       "      <td>-0.379068</td>\n",
       "      <td>-0.704181</td>\n",
       "      <td>-0.656805</td>\n",
       "      <td>-1.632653</td>\n",
       "      <td>1.488901</td>\n",
       "      <td>0.566797</td>\n",
       "      <td>-0.010016</td>\n",
       "      <td>0.146793</td>\n",
       "      <td>-0.349231</td>\n",
       "    </tr>\n",
       "  </tbody>\n",
       "</table>\n",
       "<p>5 rows × 30 columns</p>\n",
       "</div>"
      ],
      "text/plain": [
       "          Time        V1        V2        V3        V4        V5        V6  \\\n",
       "541  -1.988034 -2.312227  1.951992 -1.609851  3.997906 -0.522188 -1.426545   \n",
       "623  -1.986644 -3.043541 -3.157307  1.088463  2.288644  1.359805 -1.064823   \n",
       "4920 -1.902623 -2.303350  1.759247 -0.359745  2.330243 -0.821628 -0.075788   \n",
       "6108 -1.849472 -4.397974  1.358367 -2.592844  2.679787 -1.128131 -1.706536   \n",
       "6329 -1.838248  1.234235  3.019740 -4.304597  4.732795  3.624201 -1.357746   \n",
       "\n",
       "            V7        V8        V9  ...       V20       V21       V22  \\\n",
       "541  -2.537387  1.391657 -2.770089  ...  0.126911  0.517232 -0.035049   \n",
       "623   0.325574 -0.067794 -0.270953  ...  2.102339  0.661696  0.435477   \n",
       "4920  0.562320 -0.399147 -0.238253  ... -0.430022 -0.294166 -0.932391   \n",
       "6108 -3.496197 -0.248778 -0.247768  ... -0.171608  0.573574  0.176968   \n",
       "6329  1.713445 -0.496358 -1.282858  ...  0.009061 -0.379068 -0.704181   \n",
       "\n",
       "           V23       V24       V25       V26       V27       V28    Amount  \n",
       "541  -0.465211  0.320198  0.044519  0.177840  0.261145 -0.143276 -0.353229  \n",
       "623   1.375966 -0.293803  0.279798 -0.145362 -0.252773  0.035764  1.761758  \n",
       "4920  0.172726 -0.087330 -0.156114 -0.542628  0.039566 -0.153029  0.606031  \n",
       "6108 -0.436207 -0.053502  0.252405 -0.657488 -0.827136  0.849573 -0.117342  \n",
       "6329 -0.656805 -1.632653  1.488901  0.566797 -0.010016  0.146793 -0.349231  \n",
       "\n",
       "[5 rows x 30 columns]"
      ]
     },
     "execution_count": 26,
     "metadata": {},
     "output_type": "execute_result"
    }
   ],
   "source": [
    "X_test.head()"
   ]
  },
  {
   "cell_type": "code",
   "execution_count": 28,
   "id": "7259571b",
   "metadata": {},
   "outputs": [
    {
     "data": {
      "text/plain": [
       "0    283823\n",
       "Name: Class, dtype: int64"
      ]
     },
     "execution_count": 28,
     "metadata": {},
     "output_type": "execute_result"
    }
   ],
   "source": [
    "y_train.value_counts()"
   ]
  },
  {
   "cell_type": "code",
   "execution_count": 30,
   "id": "7b4af835",
   "metadata": {},
   "outputs": [
    {
     "data": {
      "text/plain": [
       "1    492\n",
       "0    492\n",
       "Name: Class, dtype: int64"
      ]
     },
     "execution_count": 30,
     "metadata": {},
     "output_type": "execute_result"
    }
   ],
   "source": [
    "y_test.value_counts()"
   ]
  },
  {
   "cell_type": "code",
   "execution_count": 34,
   "id": "225240b6",
   "metadata": {},
   "outputs": [
    {
     "data": {
      "text/plain": [
       "(984,)"
      ]
     },
     "execution_count": 34,
     "metadata": {},
     "output_type": "execute_result"
    }
   ],
   "source": [
    "clfs[\"auto-encoder\"][\"predictions\"].shape"
   ]
  }
 ],
 "metadata": {
  "kernelspec": {
   "display_name": "Python 3 (ipykernel)",
   "language": "python",
   "name": "python3"
  },
  "language_info": {
   "codemirror_mode": {
    "name": "ipython",
    "version": 3
   },
   "file_extension": ".py",
   "mimetype": "text/x-python",
   "name": "python",
   "nbconvert_exporter": "python",
   "pygments_lexer": "ipython3",
   "version": "3.10.4"
  }
 },
 "nbformat": 4,
 "nbformat_minor": 5
}
