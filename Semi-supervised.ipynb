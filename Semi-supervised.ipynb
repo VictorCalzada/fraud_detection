{
 "cells": [
  {
   "cell_type": "code",
   "execution_count": 1,
   "id": "5d07ea18",
   "metadata": {},
   "outputs": [],
   "source": [
    "import pandas as pd # for data analytics\n",
    "import numpy as np # for numerical computation\n",
    "from matplotlib import pyplot as plt, style # for ploting\n",
    "import seaborn as sns # for ploting\n",
    "from sklearn.metrics import fbeta_score, precision_score, recall_score, confusion_matrix # for evaluation\n",
    "import itertools\n",
    "\n",
    "np.random.seed(42) \n",
    "\n",
    "def plot_confusion_matrix(cm, classes,\n",
    "                          normalize=False,\n",
    "                          title='Confusion matrix',\n",
    "                          cmap=plt.cm.Blues):\n",
    "    \"\"\"\n",
    "    This function prints and plots the confusion matrix.\n",
    "    Normalization can be applied by setting `normalize=True`.\n",
    "    Copyed from a kernel by joparga3 https://www.kaggle.com/joparga3/kernels\n",
    "    \"\"\"\n",
    "    plt.figure()\n",
    "    plt.imshow(cm, interpolation='nearest', cmap=cmap)\n",
    "    plt.title(title)\n",
    "    plt.colorbar()\n",
    "    tick_marks = np.arange(len(classes))\n",
    "    plt.xticks(tick_marks, classes, rotation=0)\n",
    "    plt.yticks(tick_marks, classes)\n",
    "\n",
    "    thresh = cm.max() / 2.\n",
    "    for i, j in itertools.product(range(cm.shape[0]), range(cm.shape[1])):\n",
    "        plt.text(j, i, cm[i, j],\n",
    "                 horizontalalignment=\"center\",\n",
    "                 color=\"white\" if cm[i, j] > thresh else \"black\")\n",
    "\n",
    "    plt.tight_layout()\n",
    "    plt.ylabel('True label')\n",
    "    plt.xlabel('Predicted label')\n",
    "    plt.show()"
   ]
  },
  {
   "cell_type": "code",
   "execution_count": 2,
   "id": "f8de5021",
   "metadata": {},
   "outputs": [
    {
     "name": "stdout",
     "output_type": "stream",
     "text": [
      "(284315, 31)\n",
      "(492, 31)\n"
     ]
    }
   ],
   "source": [
    "dataset = pd.read_csv('./creditcard.csv')#.drop('Time', axis=1)\n",
    "\n",
    "dataset['Amount'] = np.log(dataset['Amount'] + 1)\n",
    "dataset['Time'] = np.log(dataset['Time'] + 1)\n",
    "normal = dataset[dataset['Class'] == 0]\n",
    "\n",
    "anomaly = dataset[dataset['Class'] == 1]\n",
    "print(normal.shape)\n",
    "print(anomaly.shape)"
   ]
  },
  {
   "cell_type": "code",
   "execution_count": 3,
   "id": "7826c90f",
   "metadata": {},
   "outputs": [
    {
     "name": "stdout",
     "output_type": "stream",
     "text": [
      "Train shape:  (227452, 31)\n",
      "Proportion os anomaly in training set: 0.00\n",
      "\n",
      "Valid shape:  (28677, 31)\n",
      "Proportion os anomaly in validation set: 0.01\n",
      "\n",
      "Test shape:,  (28678, 31)\n",
      "Proportion os anomaly in test set: 0.01\n",
      "\n"
     ]
    },
    {
     "name": "stderr",
     "output_type": "stream",
     "text": [
      "/tmp/ipykernel_9051/2620657688.py:9: FutureWarning: The frame.append method is deprecated and will be removed from pandas in a future version. Use pandas.concat instead.\n",
      "  valid = normal_valid.append(anormal_valid).sample(frac=1).reset_index(drop=True)\n",
      "/tmp/ipykernel_9051/2620657688.py:10: FutureWarning: The frame.append method is deprecated and will be removed from pandas in a future version. Use pandas.concat instead.\n",
      "  test = normal_test.append(anormal_test).sample(frac=1).reset_index(drop=True)\n"
     ]
    }
   ],
   "source": [
    "from sklearn.model_selection import train_test_split\n",
    "\n",
    "train, normal_test, _, _ = train_test_split(normal, normal, test_size=.2, random_state=42)\n",
    "\n",
    "normal_valid, normal_test, _, _ = train_test_split(normal_test, normal_test, test_size=.5, random_state=42)\n",
    "anormal_valid, anormal_test, _, _ = train_test_split(anomaly, anomaly, test_size=.5, random_state=42)\n",
    "\n",
    "train = train.reset_index(drop=True)\n",
    "valid = normal_valid.append(anormal_valid).sample(frac=1).reset_index(drop=True)\n",
    "test = normal_test.append(anormal_test).sample(frac=1).reset_index(drop=True)\n",
    "\n",
    "print('Train shape: ', train.shape)\n",
    "print('Proportion os anomaly in training set: %.2f\\n' % train['Class'].mean())\n",
    "print('Valid shape: ', valid.shape)\n",
    "print('Proportion os anomaly in validation set: %.2f\\n' % valid['Class'].mean())\n",
    "print('Test shape:, ', test.shape)\n",
    "print('Proportion os anomaly in test set: %.2f\\n' % test['Class'].mean())"
   ]
  },
  {
   "cell_type": "code",
   "execution_count": null,
   "id": "a116d7fd",
   "metadata": {},
   "outputs": [],
   "source": [
    "from scipy.stats import multivariate_normal\n",
    "\n",
    "mu = train.drop('Class', axis=1).mean(axis=0).values\n",
    "sigma = train.drop('Class', axis=1).cov().values\n",
    "model = multivariate_normal(cov=sigma, mean=mu, allow_singular=True)\n",
    "\n",
    "print(np.median(model.logpdf(valid[valid['Class'] == 0].drop('Class', axis=1).values))) \n",
    "print(np.median(model.logpdf(valid[valid['Class'] == 1].drop('Class', axis=1).values))) "
   ]
  },
  {
   "cell_type": "code",
   "execution_count": null,
   "id": "e398f806",
   "metadata": {},
   "outputs": [],
   "source": [
    "tresholds = np.linspace(-1000,-10, 150)\n",
    "scores = []\n",
    "for treshold in tresholds:\n",
    "    y_hat = (model.logpdf(valid.drop('Class', axis=1).values) < treshold).astype(int)\n",
    "    scores.append([recall_score(y_pred=y_hat, y_true=valid['Class'].values),\n",
    "                 precision_score(y_pred=y_hat, y_true=valid['Class'].values),\n",
    "                 fbeta_score(y_pred=y_hat, y_true=valid['Class'].values, beta=2)])\n",
    "\n",
    "scores = np.array(scores)\n",
    "print(f'Precision score: {scores[:, 2].max()}\\nPosicion: {scores[:, 2].argmax()}')"
   ]
  },
  {
   "cell_type": "code",
   "execution_count": null,
   "id": "d4ae8817",
   "metadata": {},
   "outputs": [],
   "source": [
    "scores.shape"
   ]
  },
  {
   "cell_type": "code",
   "execution_count": null,
   "id": "c3c870a7",
   "metadata": {},
   "outputs": [],
   "source": [
    "fig = plt.figure(figsize=(10,8))\n",
    "plt.plot(tresholds, scores[:, 0], label='$Recall$')\n",
    "plt.plot(tresholds, scores[:, 1], label='$Precision$')\n",
    "plt.plot(tresholds, scores[:, 2], label='$F_2$')\n",
    "plt.ylabel('Score')\n",
    "# plt.xticks(np.logspace(-10, -200, 3))\n",
    "plt.xlabel('Threshold')\n",
    "plt.legend(loc='best')\n",
    "plt.show()"
   ]
  },
  {
   "cell_type": "code",
   "execution_count": null,
   "id": "b4c88aeb",
   "metadata": {},
   "outputs": [],
   "source": [
    "final_tresh = tresholds[scores[:, 2].argmax()]\n",
    "y_hat_test = (model.logpdf(test.drop('Class', axis=1).values) < final_tresh).astype(int)\n",
    "\n",
    "print('Final threshold: %d' % final_tresh)\n",
    "print('Test Recall Score: %.3f' % recall_score(y_pred=y_hat_test, y_true=test['Class'].values))\n",
    "print('Test Precision Score: %.3f' % precision_score(y_pred=y_hat_test, y_true=test['Class'].values))\n",
    "print('Test F2 Score: %.3f' % fbeta_score(y_pred=y_hat_test, y_true=test['Class'].values, beta=2))\n",
    "\n",
    "\n",
    "cnf_matrix = confusion_matrix(test['Class'].values, y_hat_test)\n",
    "plot_confusion_matrix(cnf_matrix, classes=['Normal','Anormal']\n",
    "                      , title='Confusion matrix')"
   ]
  },
  {
   "cell_type": "markdown",
   "id": "f6200276",
   "metadata": {},
   "source": [
    "# Histogram based "
   ]
  },
  {
   "cell_type": "code",
   "execution_count": null,
   "id": "ed3f9405",
   "metadata": {},
   "outputs": [],
   "source": [
    "import matplotlib.gridspec as gridspec\n",
    "\n",
    "# plt.figure(figsize=(12,28*5))\n",
    "# gs = gridspec.GridSpec(28, 1)\n",
    "for feature in ['Amount', 'V4', 'V10', 'V11', 'V15']:\n",
    "    ax = plt.subplot()\n",
    "    sns.distplot(dataset[feature][dataset.Class == 1], bins=50, label='Anormal')\n",
    "    sns.distplot(dataset[feature][dataset.Class == 0], bins=50, label='Normal')\n",
    "    ax.set_xlabel('')\n",
    "    ax.set_title('histogram of feature: ' + str(feature))\n",
    "    plt.legend(loc='best')\n",
    "    plt.show()"
   ]
  },
  {
   "cell_type": "code",
   "execution_count": null,
   "id": "aa1273f1",
   "metadata": {},
   "outputs": [],
   "source": [
    "class hist_model(object):\n",
    "    \n",
    "    def __init__(self, bins=50):\n",
    "        self.bins = bins\n",
    "        \n",
    "    def fit(self, X):\n",
    "        \n",
    "        bin_hight, bin_edge = [], []\n",
    "        \n",
    "        for var in X.T:\n",
    "            # get bins hight and interval\n",
    "            bh, bedge = np.histogram(var, bins=self.bins)\n",
    "            bin_hight.append(bh)\n",
    "            bin_edge.append(bedge)\n",
    "        \n",
    "        self.bin_hight = np.array(bin_hight)\n",
    "        self.bin_edge = np.array(bin_edge)\n",
    "   \n",
    "\n",
    "    def predict(self, X):\n",
    "        \n",
    "        scores = []\n",
    "        for obs in X:\n",
    "            obs_score = []\n",
    "            for i, var in enumerate(obs):\n",
    "                # find wich bin obs is in\n",
    "                bin_num = (var > self.bin_edge[i]).argmin()-1\n",
    "                obs_score.append(self.bin_hight[i, bin_num]) # find bin hitght\n",
    "            \n",
    "            scores.append(np.mean(obs_score))\n",
    "        \n",
    "        return np.array(scores)\n",
    "                \n",
    "\n",
    "        \n",
    "model = hist_model()\n",
    "model.fit(train.drop('Class', axis=1).values)\n",
    "print(np.median(model.predict(valid[valid['Class'] == 0].drop('Class', axis=1).values))) \n",
    "print(np.median(model.predict(valid[valid['Class'] == 1].drop('Class', axis=1).values)))"
   ]
  },
  {
   "cell_type": "code",
   "execution_count": null,
   "id": "d28de2ba",
   "metadata": {},
   "outputs": [],
   "source": [
    "\n",
    "\n",
    "tresholds = np.linspace(10000, 80000, 100)\n",
    "scores = []\n",
    "y_pred_score = model.predict(valid.drop('Class', axis=1).values)\n",
    "for treshold in tresholds:\n",
    "    y_hat = (y_pred_score < treshold).astype(int)\n",
    "    scores.append([recall_score(y_pred=y_hat, y_true=valid['Class'].values),\n",
    "                 precision_score(y_pred=y_hat, y_true=valid['Class'].values),\n",
    "                 fbeta_score(y_pred=y_hat, y_true=valid['Class'].values, beta=2)])\n",
    "\n",
    "scores = np.array(scores)\n",
    "\n"
   ]
  },
  {
   "cell_type": "code",
   "execution_count": null,
   "id": "eb0877b1",
   "metadata": {},
   "outputs": [],
   "source": [
    "plt.plot(tresholds, scores[:, 0], label='$Recall$')\n",
    "plt.plot(tresholds, scores[:, 1], label='$Precision$')\n",
    "plt.plot(tresholds, scores[:, 2], label='$F_2$')\n",
    "plt.ylabel('Score')\n",
    "plt.xlabel('Threshold')\n",
    "plt.legend(loc='best')\n",
    "plt.show()"
   ]
  },
  {
   "cell_type": "code",
   "execution_count": null,
   "id": "72003367",
   "metadata": {},
   "outputs": [],
   "source": [
    "\n",
    "\n",
    "final_tresh = tresholds[scores[:, 2].argmax()]\n",
    "y_hat_test = (model.predict(test.drop('Class', axis=1).values) < final_tresh).astype(int)\n",
    "\n",
    "print('Final threshold: %d' % final_tresh)\n",
    "print('Test Recall Score: %.3f' % recall_score(y_pred=y_hat_test, y_true=test['Class'].values))\n",
    "print('Test Precision Score: %.3f' % precision_score(y_pred=y_hat_test, y_true=test['Class'].values))\n",
    "print('Test F2 Score: %.3f' % fbeta_score(y_pred=y_hat_test, y_true=test['Class'].values, beta=2))\n",
    "\n",
    "cnf_matrix = confusion_matrix(test['Class'].values, y_hat_test)\n",
    "plot_confusion_matrix(cnf_matrix, classes=['Normal','Anormal'], title='Confusion matrix')\n",
    "\n"
   ]
  },
  {
   "cell_type": "markdown",
   "id": "9f38cfb4",
   "metadata": {},
   "source": [
    "# Cluster based technique "
   ]
  },
  {
   "cell_type": "code",
   "execution_count": null,
   "id": "7d56a4eb",
   "metadata": {},
   "outputs": [],
   "source": [
    "from sklearn.mixture import GaussianMixture, BayesianGaussianMixture\n",
    "\n",
    "gmm = BayesianGaussianMixture(n_components=3, n_init=4, random_state=42)\n",
    "gmm.fit(train.drop('Class', axis=1).values)\n",
    "print(gmm.score(valid[valid['Class'] == 0].drop('Class', axis=1).values))\n",
    "print(gmm.score(valid[valid['Class'] == 1].drop('Class', axis=1).values))"
   ]
  },
  {
   "cell_type": "code",
   "execution_count": null,
   "id": "42fccd63",
   "metadata": {},
   "outputs": [],
   "source": [
    "\n",
    "\n",
    "tresholds = np.linspace(-400, 0, 100)\n",
    "y_scores = gmm.score_samples(valid.drop('Class', axis=1).values)\n",
    "scores = []\n",
    "for treshold in tresholds:\n",
    "    y_hat = (y_scores < treshold).astype(int)\n",
    "    scores.append([recall_score(y_pred=y_hat, y_true=valid['Class'].values),\n",
    "                 precision_score(y_pred=y_hat, y_true=valid['Class'].values),\n",
    "                 fbeta_score(y_pred=y_hat, y_true=valid['Class'].values, beta=2)])\n",
    "\n",
    "scores = np.array(scores)\n",
    "print(scores[:, 2].max(), scores[:, 2].argmax())\n",
    "\n"
   ]
  },
  {
   "cell_type": "code",
   "execution_count": null,
   "id": "9ba39aaa",
   "metadata": {},
   "outputs": [],
   "source": [
    "plt.plot(tresholds, scores[:, 0], label='$Recall$')\n",
    "plt.plot(tresholds, scores[:, 1], label='$Precision$')\n",
    "plt.plot(tresholds, scores[:, 2], label='$F_2$')\n",
    "plt.ylabel('Score')\n",
    "plt.xlabel('Threshold')\n",
    "plt.legend(loc='best')\n",
    "plt.show()"
   ]
  },
  {
   "cell_type": "code",
   "execution_count": null,
   "id": "260bbadc",
   "metadata": {},
   "outputs": [],
   "source": [
    "\n",
    "\n",
    "final_tresh = tresholds[scores[:, 2].argmax()]\n",
    "y_hat_test = (gmm.score_samples(test.drop('Class', axis=1).values) < final_tresh).astype(int)\n",
    "\n",
    "print('Final threshold: %f' % final_tresh)\n",
    "print('Test Recall Score: %.3f' % recall_score(y_pred=y_hat_test, y_true=test['Class'].values))\n",
    "print('Test Precision Score: %.3f' % precision_score(y_pred=y_hat_test, y_true=test['Class'].values))\n",
    "print('Test F2 Score: %.3f' % fbeta_score(y_pred=y_hat_test, y_true=test['Class'].values, beta=2))\n",
    "\n",
    "cnf_matrix = confusion_matrix(test['Class'].values, y_hat_test)\n",
    "plot_confusion_matrix(cnf_matrix, classes=['Normal','Anormal'], title='Confusion matrix')\n",
    "\n"
   ]
  },
  {
   "cell_type": "markdown",
   "id": "7eb34a41",
   "metadata": {},
   "source": [
    "# SVM "
   ]
  },
  {
   "cell_type": "code",
   "execution_count": 4,
   "id": "5cf6628f",
   "metadata": {},
   "outputs": [
    {
     "name": "stdout",
     "output_type": "stream",
     "text": [
      "-2485.552110954542\n",
      "-56372.96470386428\n"
     ]
    }
   ],
   "source": [
    "from sklearn.svm import OneClassSVM\n",
    "np.random.seed(42)\n",
    "\n",
    "model = OneClassSVM(gamma=0.000562, nu=.95, kernel='rbf')\n",
    "model.fit(train.drop('Class', axis=1).values)\n",
    "print(model.decision_function(valid[valid['Class'] == 0].drop('Class', axis=1).values).mean())\n",
    "print(model.decision_function(valid[valid['Class'] == 1].drop('Class', axis=1).values).mean())"
   ]
  },
  {
   "cell_type": "code",
   "execution_count": 5,
   "id": "8401f7f1",
   "metadata": {},
   "outputs": [
    {
     "name": "stdout",
     "output_type": "stream",
     "text": [
      "0.5264945652173914 277\n"
     ]
    }
   ],
   "source": [
    "tresholds = np.linspace(-50000, -400, 500)\n",
    "y_scores = model.decision_function(valid.drop('Class', axis=1).values)\n",
    "scores = []\n",
    "for treshold in tresholds:\n",
    "    y_hat = (y_scores < treshold).astype(int)\n",
    "    scores.append([recall_score(y_pred=y_hat, y_true=valid['Class'].values),\n",
    "                 precision_score(y_pred=y_hat, y_true=valid['Class'].values),\n",
    "                 fbeta_score(y_pred=y_hat, y_true=valid['Class'].values, beta=2)])\n",
    "\n",
    "scores = np.array(scores)\n",
    "print(scores[:, 2].max(), scores[:, 2].argmax())"
   ]
  },
  {
   "cell_type": "code",
   "execution_count": 6,
   "id": "e57c6771",
   "metadata": {},
   "outputs": [
    {
     "data": {
      "image/png": "[encoded data removed]",
      "text/plain": [
       "<Figure size 432x288 with 1 Axes>"
      ]
     },
     "metadata": {
      "needs_background": "light"
     },
     "output_type": "display_data"
    }
   ],
   "source": [
    "plt.plot(tresholds, scores[:, 0], label='$Recall$')\n",
    "plt.plot(tresholds, scores[:, 1], label='$Precision$')\n",
    "plt.plot(tresholds, scores[:, 2], label='$F_2$')\n",
    "plt.ylabel('Score')\n",
    "plt.xlabel('Threshold')\n",
    "plt.legend(loc='best')\n",
    "plt.show()"
   ]
  },
  {
   "cell_type": "code",
   "execution_count": 7,
   "id": "badcec55",
   "metadata": {},
   "outputs": [
    {
     "name": "stdout",
     "output_type": "stream",
     "text": [
      "Final threshold: -22466.533066\n",
      "Test Recall Score: 0.630\n",
      "Test Precision Score: 0.323\n",
      "Test F2 Score: 0.529\n"
     ]
    }
   ],
   "source": [
    "final_tresh = tresholds[scores[:, 2].argmax()]\n",
    "y_hat_test = (model.decision_function(test.drop('Class', axis=1).values) < final_tresh).astype(int)\n",
    "\n",
    "print('Final threshold: %f' % final_tresh)\n",
    "print('Test Recall Score: %.3f' % recall_score(y_pred=y_hat_test, y_true=test['Class'].values))\n",
    "print('Test Precision Score: %.3f' % precision_score(y_pred=y_hat_test, y_true=test['Class'].values))\n",
    "print('Test F2 Score: %.3f' % fbeta_score(y_pred=y_hat_test, y_true=test['Class'].values, beta=2))"
   ]
  },
  {
   "cell_type": "code",
   "execution_count": null,
   "id": "df9a5570",
   "metadata": {},
   "outputs": [],
   "source": []
  }
 ],
 "metadata": {
  "kernelspec": {
   "display_name": "Python 3 (ipykernel)",
   "language": "python",
   "name": "python3"
  },
  "language_info": {
   "codemirror_mode": {
    "name": "ipython",
    "version": 3
   },
   "file_extension": ".py",
   "mimetype": "text/x-python",
   "name": "python",
   "nbconvert_exporter": "python",
   "pygments_lexer": "ipython3",
   "version": "3.8.6"
  }
 },
 "nbformat": 4,
 "nbformat_minor": 5
}
