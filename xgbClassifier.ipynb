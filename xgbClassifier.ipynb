{
 "cells": [
  {
   "cell_type": "code",
   "execution_count": 58,
   "id": "0bf4b6f7",
   "metadata": {},
   "outputs": [],
   "source": [
    "import ast\n",
    "import pandas as pd\n",
    "\n",
    "import matplotlib.pyplot as plt\n",
    "\n",
    "import numpy as np\n",
    "\n",
    "pd.set_option('display.max_columns', None)"
   ]
  },
  {
   "cell_type": "markdown",
   "id": "feb4db6f",
   "metadata": {},
   "source": [
    "## Lectura dataset"
   ]
  },
  {
   "cell_type": "code",
   "execution_count": 59,
   "id": "53d22d60",
   "metadata": {
    "scrolled": true
   },
   "outputs": [
    {
     "data": {
      "text/html": [
       "<div>\n",
       "<style scoped>\n",
       "    .dataframe tbody tr th:only-of-type {\n",
       "        vertical-align: middle;\n",
       "    }\n",
       "\n",
       "    .dataframe tbody tr th {\n",
       "        vertical-align: top;\n",
       "    }\n",
       "\n",
       "    .dataframe thead tr th {\n",
       "        text-align: left;\n",
       "    }\n",
       "</style>\n",
       "<table border=\"1\" class=\"dataframe\">\n",
       "  <thead>\n",
       "    <tr>\n",
       "      <th></th>\n",
       "      <th colspan=\"41\" halign=\"left\">casos_cc</th>\n",
       "      <th colspan=\"9\" halign=\"left\">casos_ep</th>\n",
       "      <th colspan=\"25\" halign=\"left\">aut</th>\n",
       "      <th colspan=\"2\" halign=\"left\">aut_fijo</th>\n",
       "      <th colspan=\"14\" halign=\"left\">criterios</th>\n",
       "      <th>detectives</th>\n",
       "      <th colspan=\"19\" halign=\"left\">creadas</th>\n",
       "    </tr>\n",
       "    <tr>\n",
       "      <th></th>\n",
       "      <th>nsin</th>\n",
       "      <th>ncaso</th>\n",
       "      <th>pos</th>\n",
       "      <th>nexp</th>\n",
       "      <th>nepi</th>\n",
       "      <th>tipo</th>\n",
       "      <th>ccc</th>\n",
       "      <th>regimen</th>\n",
       "      <th>regccc</th>\n",
       "      <th>situacion</th>\n",
       "      <th>es_atipico</th>\n",
       "      <th>es_recaida</th>\n",
       "      <th>hay_at_previo</th>\n",
       "      <th>duracion</th>\n",
       "      <th>dur_previo</th>\n",
       "      <th>dur_std</th>\n",
       "      <th>v_std</th>\n",
       "      <th>f_parte</th>\n",
       "      <th>f_graba</th>\n",
       "      <th>f_baja</th>\n",
       "      <th>f_alta_adm</th>\n",
       "      <th>f_alta_med</th>\n",
       "      <th>med_clave</th>\n",
       "      <th>cie9_cod</th>\n",
       "      <th>cie9_descr</th>\n",
       "      <th>dele_cod</th>\n",
       "      <th>dele_nombre</th>\n",
       "      <th>d_sem_baja</th>\n",
       "      <th>mes_baja</th>\n",
       "      <th>es_trafico</th>\n",
       "      <th>gestor</th>\n",
       "      <th>es_pl_empleado</th>\n",
       "      <th>es_pl_activo</th>\n",
       "      <th>es_pago_dir</th>\n",
       "      <th>es_susp_ext</th>\n",
       "      <th>f_susp_ext</th>\n",
       "      <th>es_derecho_cobro</th>\n",
       "      <th>es_alta_prev_insp</th>\n",
       "      <th>es_recaida_ip_denegada</th>\n",
       "      <th>es_covid</th>\n",
       "      <th>mpq</th>\n",
       "      <th>es_atrium</th>\n",
       "      <th>f_atrium</th>\n",
       "      <th>prop_atrium</th>\n",
       "      <th>f_resp_atrium</th>\n",
       "      <th>resp_atrium</th>\n",
       "      <th>f_ini_pd</th>\n",
       "      <th>motivo_pd</th>\n",
       "      <th>nrehab</th>\n",
       "      <th>nbio</th>\n",
       "      <th>registro</th>\n",
       "      <th>ent_at</th>\n",
       "      <th>sit_trab</th>\n",
       "      <th>UG_TGSS</th>\n",
       "      <th>sexo</th>\n",
       "      <th>FECHA_AT</th>\n",
       "      <th>OPCION_IT</th>\n",
       "      <th>FECHA_OPCION</th>\n",
       "      <th>MUTUA_IT</th>\n",
       "      <th>FECHA_MUTUA_IT</th>\n",
       "      <th>base_coti</th>\n",
       "      <th>colectivo</th>\n",
       "      <th>f_alta_o_ss</th>\n",
       "      <th>HORA_PRE</th>\n",
       "      <th>N_RED</th>\n",
       "      <th>i_auto</th>\n",
       "      <th>nacion</th>\n",
       "      <th>sist_es</th>\n",
       "      <th>i_trade</th>\n",
       "      <th>f_trade</th>\n",
       "      <th>cnae9</th>\n",
       "      <th>cese</th>\n",
       "      <th>f_cese</th>\n",
       "      <th>dele</th>\n",
       "      <th>tipo_situ</th>\n",
       "      <th>f_nacm</th>\n",
       "      <th>historico</th>\n",
       "      <th>c1</th>\n",
       "      <th>c2</th>\n",
       "      <th>c3</th>\n",
       "      <th>c4</th>\n",
       "      <th>c5</th>\n",
       "      <th>c6</th>\n",
       "      <th>c7</th>\n",
       "      <th>c8</th>\n",
       "      <th>c9</th>\n",
       "      <th>c10</th>\n",
       "      <th>c11</th>\n",
       "      <th>c12</th>\n",
       "      <th>c13</th>\n",
       "      <th>c14</th>\n",
       "      <th>resultado</th>\n",
       "      <th>edad</th>\n",
       "      <th>gr_edad</th>\n",
       "      <th>f_alta</th>\n",
       "      <th>f_baja</th>\n",
       "      <th>naltas</th>\n",
       "      <th>dist_ult_baja</th>\n",
       "      <th>avg_altas</th>\n",
       "      <th>alta_oficio</th>\n",
       "      <th>nrecaidas</th>\n",
       "      <th>ncasos</th>\n",
       "      <th>diff_ant_caso</th>\n",
       "      <th>diff_ant_med_adm</th>\n",
       "      <th>mean_ant_med_adm</th>\n",
       "      <th>prev_rechazado</th>\n",
       "      <th>provincia</th>\n",
       "      <th>next_fest</th>\n",
       "      <th>past_fest</th>\n",
       "      <th>nfest_14</th>\n",
       "      <th>peso</th>\n",
       "    </tr>\n",
       "  </thead>\n",
       "  <tbody>\n",
       "    <tr>\n",
       "      <th>0</th>\n",
       "      <td>29899501</td>\n",
       "      <td>1300298995</td>\n",
       "      <td>1</td>\n",
       "      <td>1300298995</td>\n",
       "      <td>2019E0001248</td>\n",
       "      <td>ANL</td>\n",
       "      <td>0810971910</td>\n",
       "      <td>0521</td>\n",
       "      <td>0521/0810971910</td>\n",
       "      <td>Cerrado</td>\n",
       "      <td>False</td>\n",
       "      <td>False</td>\n",
       "      <td>No hay AT previo</td>\n",
       "      <td>6</td>\n",
       "      <td>0.0</td>\n",
       "      <td>15.0</td>\n",
       "      <td>9.0</td>\n",
       "      <td>2019-01-04</td>\n",
       "      <td>2019-01-04</td>\n",
       "      <td>2019-01-02</td>\n",
       "      <td>2019-01-07</td>\n",
       "      <td>2019-01-07</td>\n",
       "      <td>469</td>\n",
       "      <td>959.8</td>\n",
       "      <td>TRAUMISMO NO ESPECIF. OTROS SITIOS ESPECIFICAD...</td>\n",
       "      <td>108</td>\n",
       "      <td>DELEGACION DE BARCELONA</td>\n",
       "      <td>MIERCOLES</td>\n",
       "      <td>ENERO</td>\n",
       "      <td>False</td>\n",
       "      <td>1042</td>\n",
       "      <td>False</td>\n",
       "      <td>False</td>\n",
       "      <td>False</td>\n",
       "      <td>False</td>\n",
       "      <td>NaN</td>\n",
       "      <td>True</td>\n",
       "      <td>False</td>\n",
       "      <td>False</td>\n",
       "      <td>False</td>\n",
       "      <td>NaN</td>\n",
       "      <td>False</td>\n",
       "      <td>NaN</td>\n",
       "      <td>NaN</td>\n",
       "      <td>NaN</td>\n",
       "      <td>NaN</td>\n",
       "      <td>NaN</td>\n",
       "      <td>NaN</td>\n",
       "      <td>0.0</td>\n",
       "      <td>0.0</td>\n",
       "      <td>01</td>\n",
       "      <td>007</td>\n",
       "      <td>52</td>\n",
       "      <td>082020</td>\n",
       "      <td>M</td>\n",
       "      <td>2017-07-01</td>\n",
       "      <td>True</td>\n",
       "      <td>2017-07-01</td>\n",
       "      <td>007</td>\n",
       "      <td>2017-07-01</td>\n",
       "      <td>2000.69</td>\n",
       "      <td>0200069</td>\n",
       "      <td>2017-07-03</td>\n",
       "      <td>NaN</td>\n",
       "      <td>NaN</td>\n",
       "      <td>False</td>\n",
       "      <td>724</td>\n",
       "      <td>False</td>\n",
       "      <td>False</td>\n",
       "      <td>NaN</td>\n",
       "      <td>4726</td>\n",
       "      <td>True</td>\n",
       "      <td>2017-07-01</td>\n",
       "      <td>108</td>\n",
       "      <td>NaN</td>\n",
       "      <td>1979-02-12</td>\n",
       "      <td>[['01.07.2017', '31.01.2019']]</td>\n",
       "      <td>False</td>\n",
       "      <td>False</td>\n",
       "      <td>False</td>\n",
       "      <td>False</td>\n",
       "      <td>False</td>\n",
       "      <td>False</td>\n",
       "      <td>False</td>\n",
       "      <td>False</td>\n",
       "      <td>False</td>\n",
       "      <td>False</td>\n",
       "      <td>False</td>\n",
       "      <td>False</td>\n",
       "      <td>False</td>\n",
       "      <td>False</td>\n",
       "      <td>Sin detective</td>\n",
       "      <td>39.92</td>\n",
       "      <td>36-45</td>\n",
       "      <td>2017-07-01</td>\n",
       "      <td>2019-01-31</td>\n",
       "      <td>1</td>\n",
       "      <td>10000</td>\n",
       "      <td>579.0</td>\n",
       "      <td>0</td>\n",
       "      <td>1</td>\n",
       "      <td>1</td>\n",
       "      <td>10000</td>\n",
       "      <td>10000</td>\n",
       "      <td>10000</td>\n",
       "      <td>0</td>\n",
       "      <td>08</td>\n",
       "      <td>107</td>\n",
       "      <td>-1</td>\n",
       "      <td>3</td>\n",
       "      <td>0</td>\n",
       "    </tr>\n",
       "    <tr>\n",
       "      <th>1</th>\n",
       "      <td>29901901</td>\n",
       "      <td>1300299019</td>\n",
       "      <td>1</td>\n",
       "      <td>1300299019</td>\n",
       "      <td>2019E0001274</td>\n",
       "      <td>EC</td>\n",
       "      <td>0802448664</td>\n",
       "      <td>0521</td>\n",
       "      <td>0521/0802448664</td>\n",
       "      <td>Cerrado</td>\n",
       "      <td>False</td>\n",
       "      <td>False</td>\n",
       "      <td>No hay AT previo</td>\n",
       "      <td>153</td>\n",
       "      <td>0.0</td>\n",
       "      <td>30.0</td>\n",
       "      <td>-123.0</td>\n",
       "      <td>2019-01-04</td>\n",
       "      <td>2019-01-04</td>\n",
       "      <td>2019-01-02</td>\n",
       "      <td>2019-06-03</td>\n",
       "      <td>2019-06-03</td>\n",
       "      <td>856</td>\n",
       "      <td>726.90</td>\n",
       "      <td>ENTESOPATIA, LUGAR NO LOCALIZADO</td>\n",
       "      <td>108</td>\n",
       "      <td>DELEGACION DE BARCELONA</td>\n",
       "      <td>MIERCOLES</td>\n",
       "      <td>ENERO</td>\n",
       "      <td>False</td>\n",
       "      <td>1042</td>\n",
       "      <td>False</td>\n",
       "      <td>False</td>\n",
       "      <td>True</td>\n",
       "      <td>False</td>\n",
       "      <td>NaN</td>\n",
       "      <td>True</td>\n",
       "      <td>False</td>\n",
       "      <td>False</td>\n",
       "      <td>False</td>\n",
       "      <td>M</td>\n",
       "      <td>False</td>\n",
       "      <td>NaN</td>\n",
       "      <td>NaN</td>\n",
       "      <td>NaN</td>\n",
       "      <td>NaN</td>\n",
       "      <td>2019-01-05</td>\n",
       "      <td>1.2 SETA</td>\n",
       "      <td>16.0</td>\n",
       "      <td>0.0</td>\n",
       "      <td>01</td>\n",
       "      <td>007</td>\n",
       "      <td>01</td>\n",
       "      <td>081111</td>\n",
       "      <td>H</td>\n",
       "      <td>2019-01-01</td>\n",
       "      <td>True</td>\n",
       "      <td>1996-01-01</td>\n",
       "      <td>007</td>\n",
       "      <td>2015-01-01</td>\n",
       "      <td>2077.8</td>\n",
       "      <td>0207780</td>\n",
       "      <td>NaN</td>\n",
       "      <td>NaN</td>\n",
       "      <td>008327</td>\n",
       "      <td>True</td>\n",
       "      <td>724</td>\n",
       "      <td>False</td>\n",
       "      <td>False</td>\n",
       "      <td>NaN</td>\n",
       "      <td>4321</td>\n",
       "      <td>True</td>\n",
       "      <td>2019-01-01</td>\n",
       "      <td>108</td>\n",
       "      <td>NaN</td>\n",
       "      <td>1953-12-18</td>\n",
       "      <td>[['01.01.2015', '31.07.2020']]</td>\n",
       "      <td>False</td>\n",
       "      <td>False</td>\n",
       "      <td>False</td>\n",
       "      <td>False</td>\n",
       "      <td>False</td>\n",
       "      <td>False</td>\n",
       "      <td>False</td>\n",
       "      <td>False</td>\n",
       "      <td>False</td>\n",
       "      <td>False</td>\n",
       "      <td>False</td>\n",
       "      <td>False</td>\n",
       "      <td>False</td>\n",
       "      <td>False</td>\n",
       "      <td>POSB</td>\n",
       "      <td>65.08</td>\n",
       "      <td>56-plus</td>\n",
       "      <td>2015-01-01</td>\n",
       "      <td>2020-07-31</td>\n",
       "      <td>1</td>\n",
       "      <td>10000</td>\n",
       "      <td>2038.0</td>\n",
       "      <td>0</td>\n",
       "      <td>1</td>\n",
       "      <td>1</td>\n",
       "      <td>10000</td>\n",
       "      <td>10000</td>\n",
       "      <td>10000</td>\n",
       "      <td>0</td>\n",
       "      <td>08</td>\n",
       "      <td>107</td>\n",
       "      <td>-1</td>\n",
       "      <td>3</td>\n",
       "      <td>0</td>\n",
       "    </tr>\n",
       "    <tr>\n",
       "      <th>2</th>\n",
       "      <td>29902501</td>\n",
       "      <td>1300299025</td>\n",
       "      <td>1</td>\n",
       "      <td>1300299025</td>\n",
       "      <td>2019E0001281</td>\n",
       "      <td>EC</td>\n",
       "      <td>0803609685</td>\n",
       "      <td>0521</td>\n",
       "      <td>0521/0803609685</td>\n",
       "      <td>Cerrado</td>\n",
       "      <td>False</td>\n",
       "      <td>False</td>\n",
       "      <td>No hay AT previo</td>\n",
       "      <td>30</td>\n",
       "      <td>0.0</td>\n",
       "      <td>15.0</td>\n",
       "      <td>-15.0</td>\n",
       "      <td>2019-01-04</td>\n",
       "      <td>2019-01-04</td>\n",
       "      <td>2019-01-03</td>\n",
       "      <td>2019-02-01</td>\n",
       "      <td>2019-02-01</td>\n",
       "      <td>222</td>\n",
       "      <td>490.</td>\n",
       "      <td>BRONQUITIS NO ESPECIFICADA COMO AGUDA NI COMO ...</td>\n",
       "      <td>117</td>\n",
       "      <td>DELEGACION DE OLOT</td>\n",
       "      <td>JUEVES</td>\n",
       "      <td>ENERO</td>\n",
       "      <td>False</td>\n",
       "      <td>1021</td>\n",
       "      <td>False</td>\n",
       "      <td>False</td>\n",
       "      <td>True</td>\n",
       "      <td>False</td>\n",
       "      <td>NaN</td>\n",
       "      <td>True</td>\n",
       "      <td>False</td>\n",
       "      <td>False</td>\n",
       "      <td>False</td>\n",
       "      <td>NaN</td>\n",
       "      <td>False</td>\n",
       "      <td>NaN</td>\n",
       "      <td>NaN</td>\n",
       "      <td>NaN</td>\n",
       "      <td>NaN</td>\n",
       "      <td>2019-01-06</td>\n",
       "      <td>1.2 SETA</td>\n",
       "      <td>0.0</td>\n",
       "      <td>0.0</td>\n",
       "      <td>01</td>\n",
       "      <td>007</td>\n",
       "      <td>01</td>\n",
       "      <td>170404</td>\n",
       "      <td>H</td>\n",
       "      <td>2019-01-01</td>\n",
       "      <td>True</td>\n",
       "      <td>2003-02-01</td>\n",
       "      <td>007</td>\n",
       "      <td>2003-02-01</td>\n",
       "      <td>1500.0</td>\n",
       "      <td>0150000</td>\n",
       "      <td>NaN</td>\n",
       "      <td>NaN</td>\n",
       "      <td>NaN</td>\n",
       "      <td>False</td>\n",
       "      <td>724</td>\n",
       "      <td>False</td>\n",
       "      <td>False</td>\n",
       "      <td>NaN</td>\n",
       "      <td>3319</td>\n",
       "      <td>True</td>\n",
       "      <td>2019-01-01</td>\n",
       "      <td>217</td>\n",
       "      <td>NaN</td>\n",
       "      <td>1959-03-09</td>\n",
       "      <td>[['01.02.2003', '16.05.2022']]</td>\n",
       "      <td>False</td>\n",
       "      <td>False</td>\n",
       "      <td>False</td>\n",
       "      <td>False</td>\n",
       "      <td>False</td>\n",
       "      <td>False</td>\n",
       "      <td>False</td>\n",
       "      <td>False</td>\n",
       "      <td>False</td>\n",
       "      <td>True</td>\n",
       "      <td>False</td>\n",
       "      <td>False</td>\n",
       "      <td>False</td>\n",
       "      <td>False</td>\n",
       "      <td>Sin detective</td>\n",
       "      <td>59.86</td>\n",
       "      <td>56-plus</td>\n",
       "      <td>2003-02-01</td>\n",
       "      <td>2022-05-16</td>\n",
       "      <td>1</td>\n",
       "      <td>10000</td>\n",
       "      <td>7044.0</td>\n",
       "      <td>0</td>\n",
       "      <td>1</td>\n",
       "      <td>1</td>\n",
       "      <td>10000</td>\n",
       "      <td>10000</td>\n",
       "      <td>10000</td>\n",
       "      <td>0</td>\n",
       "      <td>17</td>\n",
       "      <td>106</td>\n",
       "      <td>-2</td>\n",
       "      <td>3</td>\n",
       "      <td>1</td>\n",
       "    </tr>\n",
       "  </tbody>\n",
       "</table>\n",
       "</div>"
      ],
      "text/plain": [
       "   casos_cc                                                             \\\n",
       "       nsin       ncaso pos        nexp          nepi tipo         ccc   \n",
       "0  29899501  1300298995   1  1300298995  2019E0001248  ANL  0810971910   \n",
       "1  29901901  1300299019   1  1300299019  2019E0001274   EC  0802448664   \n",
       "2  29902501  1300299025   1  1300299025  2019E0001281   EC  0803609685   \n",
       "\n",
       "                                                                              \\\n",
       "  regimen           regccc situacion es_atipico es_recaida     hay_at_previo   \n",
       "0    0521  0521/0810971910   Cerrado      False      False  No hay AT previo   \n",
       "1    0521  0521/0802448664   Cerrado      False      False  No hay AT previo   \n",
       "2    0521  0521/0803609685   Cerrado      False      False  No hay AT previo   \n",
       "\n",
       "                                                                           \\\n",
       "  duracion dur_previo dur_std   v_std     f_parte     f_graba      f_baja   \n",
       "0        6        0.0    15.0     9.0  2019-01-04  2019-01-04  2019-01-02   \n",
       "1      153        0.0    30.0  -123.0  2019-01-04  2019-01-04  2019-01-02   \n",
       "2       30        0.0    15.0   -15.0  2019-01-04  2019-01-04  2019-01-03   \n",
       "\n",
       "                                              \\\n",
       "   f_alta_adm  f_alta_med med_clave cie9_cod   \n",
       "0  2019-01-07  2019-01-07       469    959.8   \n",
       "1  2019-06-03  2019-06-03       856   726.90   \n",
       "2  2019-02-01  2019-02-01       222     490.   \n",
       "\n",
       "                                                               \\\n",
       "                                          cie9_descr dele_cod   \n",
       "0  TRAUMISMO NO ESPECIF. OTROS SITIOS ESPECIFICAD...      108   \n",
       "1                   ENTESOPATIA, LUGAR NO LOCALIZADO      108   \n",
       "2  BRONQUITIS NO ESPECIFICADA COMO AGUDA NI COMO ...      117   \n",
       "\n",
       "                                                                  \\\n",
       "               dele_nombre d_sem_baja mes_baja es_trafico gestor   \n",
       "0  DELEGACION DE BARCELONA  MIERCOLES    ENERO      False   1042   \n",
       "1  DELEGACION DE BARCELONA  MIERCOLES    ENERO      False   1042   \n",
       "2       DELEGACION DE OLOT     JUEVES    ENERO      False   1021   \n",
       "\n",
       "                                                                  \\\n",
       "  es_pl_empleado es_pl_activo es_pago_dir es_susp_ext f_susp_ext   \n",
       "0          False        False       False       False        NaN   \n",
       "1          False        False        True       False        NaN   \n",
       "2          False        False        True       False        NaN   \n",
       "\n",
       "                                                                           \\\n",
       "  es_derecho_cobro es_alta_prev_insp es_recaida_ip_denegada es_covid  mpq   \n",
       "0             True             False                  False    False  NaN   \n",
       "1             True             False                  False    False    M   \n",
       "2             True             False                  False    False  NaN   \n",
       "\n",
       "   casos_ep                                                             \\\n",
       "  es_atrium f_atrium prop_atrium f_resp_atrium resp_atrium    f_ini_pd   \n",
       "0     False      NaN         NaN           NaN         NaN         NaN   \n",
       "1     False      NaN         NaN           NaN         NaN  2019-01-05   \n",
       "2     False      NaN         NaN           NaN         NaN  2019-01-06   \n",
       "\n",
       "                             aut                                           \\\n",
       "  motivo_pd nrehab nbio registro ent_at sit_trab UG_TGSS sexo    FECHA_AT   \n",
       "0       NaN    0.0  0.0       01    007       52  082020    M  2017-07-01   \n",
       "1  1.2 SETA   16.0  0.0       01    007       01  081111    H  2019-01-01   \n",
       "2  1.2 SETA    0.0  0.0       01    007       01  170404    H  2019-01-01   \n",
       "\n",
       "                                                                      \\\n",
       "  OPCION_IT FECHA_OPCION MUTUA_IT FECHA_MUTUA_IT base_coti colectivo   \n",
       "0      True   2017-07-01      007     2017-07-01   2000.69   0200069   \n",
       "1      True   1996-01-01      007     2015-01-01    2077.8   0207780   \n",
       "2      True   2003-02-01      007     2003-02-01    1500.0   0150000   \n",
       "\n",
       "                                                                            \\\n",
       "  f_alta_o_ss HORA_PRE   N_RED i_auto nacion sist_es i_trade f_trade cnae9   \n",
       "0  2017-07-03      NaN     NaN  False    724   False   False     NaN  4726   \n",
       "1         NaN      NaN  008327   True    724   False   False     NaN  4321   \n",
       "2         NaN      NaN     NaN  False    724   False   False     NaN  3319   \n",
       "\n",
       "                                      aut_fijo  \\\n",
       "   cese      f_cese dele tipo_situ      f_nacm   \n",
       "0  True  2017-07-01  108       NaN  1979-02-12   \n",
       "1  True  2019-01-01  108       NaN  1953-12-18   \n",
       "2  True  2019-01-01  217       NaN  1959-03-09   \n",
       "\n",
       "                                  criterios                              \\\n",
       "                        historico        c1     c2     c3     c4     c5   \n",
       "0  [['01.07.2017', '31.01.2019']]     False  False  False  False  False   \n",
       "1  [['01.01.2015', '31.07.2020']]     False  False  False  False  False   \n",
       "2  [['01.02.2003', '16.05.2022']]     False  False  False  False  False   \n",
       "\n",
       "                                                                  \\\n",
       "      c6     c7     c8     c9    c10    c11    c12    c13    c14   \n",
       "0  False  False  False  False  False  False  False  False  False   \n",
       "1  False  False  False  False  False  False  False  False  False   \n",
       "2  False  False  False  False   True  False  False  False  False   \n",
       "\n",
       "      detectives creadas                                          \\\n",
       "       resultado    edad  gr_edad      f_alta      f_baja naltas   \n",
       "0  Sin detective   39.92    36-45  2017-07-01  2019-01-31      1   \n",
       "1           POSB   65.08  56-plus  2015-01-01  2020-07-31      1   \n",
       "2  Sin detective   59.86  56-plus  2003-02-01  2022-05-16      1   \n",
       "\n",
       "                                                                      \\\n",
       "  dist_ult_baja avg_altas alta_oficio nrecaidas ncasos diff_ant_caso   \n",
       "0         10000     579.0           0         1      1         10000   \n",
       "1         10000    2038.0           0         1      1         10000   \n",
       "2         10000    7044.0           0         1      1         10000   \n",
       "\n",
       "                                                                        \\\n",
       "  diff_ant_med_adm mean_ant_med_adm prev_rechazado provincia next_fest   \n",
       "0            10000            10000              0        08       107   \n",
       "1            10000            10000              0        08       107   \n",
       "2            10000            10000              0        17       106   \n",
       "\n",
       "                           \n",
       "  past_fest nfest_14 peso  \n",
       "0        -1        3    0  \n",
       "1        -1        3    0  \n",
       "2        -2        3    1  "
      ]
     },
     "execution_count": 59,
     "metadata": {},
     "output_type": "execute_result"
    }
   ],
   "source": [
    "path2= \"nuevoMutua.csv\"\n",
    "df = pd.read_csv(path2, dtype=str, header=[0, 1], index_col=0)\n",
    "df.head(3)"
   ]
  },
  {
   "cell_type": "code",
   "execution_count": 60,
   "id": "243dd58a",
   "metadata": {},
   "outputs": [],
   "source": [
    "# df[('creadas', 'f_baja')] = df[('creadas', 'f_baja')].replace('2099-12-31', np.nan)\n",
    "\n",
    "\n",
    "convert_dict = {\n",
    "    ('casos_cc', 'duracion'): float, \n",
    "    ('casos_cc', 'dur_previo'): float, \n",
    "    ('casos_cc', 'dur_std'): float, \n",
    "    ('casos_cc', 'v_std'): float,\n",
    "    ('casos_ep', 'nrehab'): float, \n",
    "    ('casos_ep', 'nbio'): float,\n",
    "    ('aut', 'base_coti'): float, \n",
    "    ('creadas', 'edad'): float, \n",
    "    ('creadas', 'naltas'): float,\n",
    "    ('creadas', 'next_fest'): float, \n",
    "    ('creadas', 'past_fest'): float,\n",
    "    ('creadas', 'nfest_14'): float, \n",
    "    ('creadas', 'peso'): float, \n",
    "    ('creadas', 'dist_ult_baja'): float,\n",
    "    ('creadas', 'avg_altas'): float,\n",
    "    ('creadas', 'alta_oficio'): float,\n",
    "    ('creadas', 'nrecaidas'): float,\n",
    "    ('creadas', 'ncasos'): float,\n",
    "    ('creadas', 'diff_ant_caso'): float,\n",
    "    ('creadas', 'diff_ant_med_adm'): float,\n",
    "    ('creadas', 'mean_ant_med_adm'): float,\n",
    "    ('creadas', 'prev_rechazado'): float\n",
    "\n",
    "}\n",
    "df = df.astype(convert_dict)\n",
    "\n",
    "date_cols = [\n",
    "    ('casos_cc', 'f_parte'), ('casos_cc', 'f_graba'), ('casos_cc', 'f_baja'), ('casos_cc', 'f_alta_adm'), ('casos_cc', 'f_alta_med'), ('casos_cc', 'f_susp_ext'),\n",
    "    ('casos_ep', 'f_atrium'), ('casos_ep', 'f_resp_atrium'), ('casos_ep', 'f_ini_pd'), \n",
    "    ('aut', 'FECHA_AT'), ('aut', 'FECHA_OPCION'), ('aut', 'FECHA_MUTUA_IT'), ('aut', 'f_alta_o_ss'), ('aut', 'f_cese'), ('aut_fijo', 'f_nacm'),\n",
    "    ('creadas', 'f_alta'), ('creadas', 'f_baja')\n",
    "\n",
    "]\n",
    "for col in date_cols:\n",
    "    df[col] = pd.to_datetime(df[col], format='%Y-%m-%d').dt.date\n",
    "\n",
    "\n",
    "df[('aut', 'HORA_PRE')] = pd.to_datetime(df[('aut', 'HORA_PRE')], format='%H:%M:%S').dt.time"
   ]
  },
  {
   "cell_type": "code",
   "execution_count": 61,
   "id": "d1e0f4e0",
   "metadata": {},
   "outputs": [
    {
     "data": {
      "text/plain": [
       "(10018, 111)"
      ]
     },
     "execution_count": 61,
     "metadata": {},
     "output_type": "execute_result"
    }
   ],
   "source": [
    "df.shape"
   ]
  },
  {
   "cell_type": "code",
   "execution_count": 62,
   "id": "342e8e11",
   "metadata": {},
   "outputs": [
    {
     "name": "stderr",
     "output_type": "stream",
     "text": [
      "/tmp/ipykernel_1694/1998782952.py:1: PerformanceWarning: DataFrame is highly fragmented.  This is usually the result of calling `frame.insert` many times, which has poor performance.  Consider joining all columns at once using pd.concat(axis=1) instead. To get a de-fragmented frame, use `newframe = frame.copy()`\n",
      "  df[('creadas','diff_alta_adm_med')] = (df[('casos_cc','f_alta_adm')] - df[('casos_cc','f_alta_med')]).dt.days\n",
      "/tmp/ipykernel_1694/1998782952.py:3: PerformanceWarning: DataFrame is highly fragmented.  This is usually the result of calling `frame.insert` many times, which has poor performance.  Consider joining all columns at once using pd.concat(axis=1) instead. To get a de-fragmented frame, use `newframe = frame.copy()`\n",
      "  df[('creadas','es_alta_adm_post_med2')] = [1 if i<0 else 0 for i in df[('creadas','diff_alta_adm_med')]]\n"
     ]
    }
   ],
   "source": [
    "df[('creadas','diff_alta_adm_med')] = (df[('casos_cc','f_alta_adm')] - df[('casos_cc','f_alta_med')]).dt.days\n",
    "\n",
    "df[('creadas','es_alta_adm_post_med2')] = [1 if i<0 else 0 for i in df[('creadas','diff_alta_adm_med')]]"
   ]
  },
  {
   "cell_type": "code",
   "execution_count": 63,
   "id": "34ab8859",
   "metadata": {},
   "outputs": [
    {
     "data": {
      "text/plain": [
       "(10018, 113)"
      ]
     },
     "execution_count": 63,
     "metadata": {},
     "output_type": "execute_result"
    }
   ],
   "source": [
    "df.shape"
   ]
  },
  {
   "cell_type": "code",
   "execution_count": 64,
   "id": "640f5e12",
   "metadata": {},
   "outputs": [],
   "source": [
    "def tablas_en_csv(csv,*, verbose=False):\n",
    "    '''\n",
    "    Funcion para visualiar el numero de tanlas en el dataframe \n",
    "    \n",
    "    Retorna los nombres de las tablas\n",
    "    '''\n",
    "    llaves = list(csv.keys())\n",
    "    if type(llaves[0]) == tuple:\n",
    "        llaves = np.array(llaves)\n",
    "        tablas = set(llaves[:,0])\n",
    "        if verbose:\n",
    "            print(f'Hay {len(tablas)} tablas')\n",
    "        return list(tablas)\n",
    "    else:\n",
    "        print(f'El dataset contiene una unica tabla')"
   ]
  },
  {
   "cell_type": "code",
   "execution_count": 65,
   "id": "890dc0c4",
   "metadata": {},
   "outputs": [
    {
     "name": "stdout",
     "output_type": "stream",
     "text": [
      "Hay 7 tablas\n"
     ]
    },
    {
     "data": {
      "text/plain": [
       "['casos_cc',\n",
       " 'criterios',\n",
       " 'aut',\n",
       " 'detectives',\n",
       " 'aut_fijo',\n",
       " 'casos_ep',\n",
       " 'creadas']"
      ]
     },
     "execution_count": 65,
     "metadata": {},
     "output_type": "execute_result"
    }
   ],
   "source": [
    "tablas = tablas_en_csv(df,verbose=True)\n",
    "tablas"
   ]
  },
  {
   "cell_type": "code",
   "execution_count": 66,
   "id": "db865c7c",
   "metadata": {},
   "outputs": [],
   "source": [
    "tablasdf = dict()\n",
    "for i in tablas:\n",
    "    tablasdf[i] = df[i]"
   ]
  },
  {
   "cell_type": "markdown",
   "id": "e94b88a6",
   "metadata": {},
   "source": [
    "## CSV con las variables relevantes"
   ]
  },
  {
   "cell_type": "code",
   "execution_count": 70,
   "id": "3766df2d",
   "metadata": {},
   "outputs": [],
   "source": [
    "# Dataset con las seleccion de variables y si son categoricas\n",
    "dat = pd.read_csv(\"PrimerCategorico3.csv\", sep=\";\")"
   ]
  },
  {
   "cell_type": "code",
   "execution_count": 71,
   "id": "5ce7e1de",
   "metadata": {},
   "outputs": [
    {
     "data": {
      "text/html": [
       "<div>\n",
       "<style scoped>\n",
       "    .dataframe tbody tr th:only-of-type {\n",
       "        vertical-align: middle;\n",
       "    }\n",
       "\n",
       "    .dataframe tbody tr th {\n",
       "        vertical-align: top;\n",
       "    }\n",
       "\n",
       "    .dataframe thead th {\n",
       "        text-align: right;\n",
       "    }\n",
       "</style>\n",
       "<table border=\"1\" class=\"dataframe\">\n",
       "  <thead>\n",
       "    <tr style=\"text-align: right;\">\n",
       "      <th></th>\n",
       "      <th>historico</th>\n",
       "      <th>registro</th>\n",
       "      <th>ent_at</th>\n",
       "      <th>sit_trab</th>\n",
       "      <th>sexo</th>\n",
       "      <th>FECHA_AT</th>\n",
       "      <th>base_coti</th>\n",
       "      <th>colectivo</th>\n",
       "      <th>N_RED</th>\n",
       "      <th>i_auto</th>\n",
       "      <th>sist_es</th>\n",
       "      <th>i_trade</th>\n",
       "      <th>cese</th>\n",
       "      <th>c2</th>\n",
       "      <th>c4</th>\n",
       "      <th>c5</th>\n",
       "      <th>c10</th>\n",
       "      <th>c12</th>\n",
       "      <th>ncaso</th>\n",
       "      <th>pos</th>\n",
       "      <th>tipo</th>\n",
       "      <th>regimen</th>\n",
       "      <th>es_atipico</th>\n",
       "      <th>es_recaida</th>\n",
       "      <th>hay_at_previo</th>\n",
       "      <th>duracion</th>\n",
       "      <th>dur_previo</th>\n",
       "      <th>dur_std</th>\n",
       "      <th>v_std</th>\n",
       "      <th>med_clave</th>\n",
       "      <th>cie9_cod</th>\n",
       "      <th>d_sem_baja</th>\n",
       "      <th>mes_baja</th>\n",
       "      <th>es_trafico</th>\n",
       "      <th>es_pl_empleado</th>\n",
       "      <th>es_pl_activo</th>\n",
       "      <th>es_pago_dir</th>\n",
       "      <th>es_susp_ext</th>\n",
       "      <th>es_derecho_cobro</th>\n",
       "      <th>es_alta_prev_insp</th>\n",
       "      <th>es_recaida_ip_denegada</th>\n",
       "      <th>mpq</th>\n",
       "      <th>edad</th>\n",
       "      <th>naltas</th>\n",
       "      <th>provincia</th>\n",
       "      <th>next_fest</th>\n",
       "      <th>past_fest</th>\n",
       "      <th>resultado</th>\n",
       "      <th>es_atrium</th>\n",
       "      <th>prop_atrium</th>\n",
       "      <th>resp_atrium</th>\n",
       "      <th>motivo_pd</th>\n",
       "      <th>nrehab</th>\n",
       "      <th>nbio</th>\n",
       "      <th>UG_TGSS</th>\n",
       "      <th>OPCION_IT</th>\n",
       "      <th>FECHA_OPCION</th>\n",
       "      <th>MUTUA_IT</th>\n",
       "      <th>FECHA_MUTUA_IT</th>\n",
       "      <th>f_alta_o_ss</th>\n",
       "      <th>HORA_PRE</th>\n",
       "      <th>nacion</th>\n",
       "      <th>f_trade</th>\n",
       "      <th>cnae9</th>\n",
       "      <th>f_cese</th>\n",
       "      <th>dele</th>\n",
       "      <th>tipo_situ</th>\n",
       "      <th>nsin</th>\n",
       "      <th>nexp</th>\n",
       "      <th>nepi</th>\n",
       "      <th>ccc</th>\n",
       "      <th>regccc</th>\n",
       "      <th>situacion</th>\n",
       "      <th>f_parte</th>\n",
       "      <th>f_graba</th>\n",
       "      <th>f_baja</th>\n",
       "      <th>f_alta_adm</th>\n",
       "      <th>f_alta_med</th>\n",
       "      <th>cie9_descr</th>\n",
       "      <th>dele_cod</th>\n",
       "      <th>dele_nombre</th>\n",
       "      <th>gestor</th>\n",
       "      <th>f_susp_ext</th>\n",
       "      <th>es_covid</th>\n",
       "      <th>f_nacm</th>\n",
       "      <th>f_atrium</th>\n",
       "      <th>f_resp_atrium</th>\n",
       "      <th>f_ini_pd</th>\n",
       "      <th>c1</th>\n",
       "      <th>c3</th>\n",
       "      <th>c6</th>\n",
       "      <th>c7</th>\n",
       "      <th>c8</th>\n",
       "      <th>c9</th>\n",
       "      <th>c11</th>\n",
       "      <th>c13</th>\n",
       "      <th>c14</th>\n",
       "      <th>gr_edad</th>\n",
       "      <th>f_alta</th>\n",
       "      <th>dist_ult_baja</th>\n",
       "      <th>avg_altas</th>\n",
       "      <th>alta_oficio</th>\n",
       "      <th>nrecaidas</th>\n",
       "      <th>ncasos</th>\n",
       "      <th>diff_ant_caso</th>\n",
       "      <th>diff_ant_med_adm</th>\n",
       "      <th>mean_ant_med_adm</th>\n",
       "      <th>prev_rechazado</th>\n",
       "      <th>nfest_14</th>\n",
       "      <th>peso</th>\n",
       "    </tr>\n",
       "  </thead>\n",
       "  <tbody>\n",
       "    <tr>\n",
       "      <th>0</th>\n",
       "      <td>n</td>\n",
       "      <td>n</td>\n",
       "      <td>n</td>\n",
       "      <td>n</td>\n",
       "      <td>y</td>\n",
       "      <td>n</td>\n",
       "      <td>y</td>\n",
       "      <td>n</td>\n",
       "      <td>n</td>\n",
       "      <td>y</td>\n",
       "      <td>y</td>\n",
       "      <td>n</td>\n",
       "      <td>y</td>\n",
       "      <td>y</td>\n",
       "      <td>y</td>\n",
       "      <td>y</td>\n",
       "      <td>y</td>\n",
       "      <td>y</td>\n",
       "      <td>n</td>\n",
       "      <td>n</td>\n",
       "      <td>n</td>\n",
       "      <td>n</td>\n",
       "      <td>y</td>\n",
       "      <td>y</td>\n",
       "      <td>y</td>\n",
       "      <td>y</td>\n",
       "      <td>y</td>\n",
       "      <td>y</td>\n",
       "      <td>y</td>\n",
       "      <td>n</td>\n",
       "      <td>n</td>\n",
       "      <td>y</td>\n",
       "      <td>y</td>\n",
       "      <td>y</td>\n",
       "      <td>y</td>\n",
       "      <td>y</td>\n",
       "      <td>y</td>\n",
       "      <td>y</td>\n",
       "      <td>y</td>\n",
       "      <td>y</td>\n",
       "      <td>y</td>\n",
       "      <td>y</td>\n",
       "      <td>y</td>\n",
       "      <td>y</td>\n",
       "      <td>y</td>\n",
       "      <td>y</td>\n",
       "      <td>y</td>\n",
       "      <td>y</td>\n",
       "      <td>y</td>\n",
       "      <td>y</td>\n",
       "      <td>y</td>\n",
       "      <td>y</td>\n",
       "      <td>y</td>\n",
       "      <td>y</td>\n",
       "      <td>n</td>\n",
       "      <td>n</td>\n",
       "      <td>n</td>\n",
       "      <td>n</td>\n",
       "      <td>n</td>\n",
       "      <td>n</td>\n",
       "      <td>n</td>\n",
       "      <td>n</td>\n",
       "      <td>n</td>\n",
       "      <td>n</td>\n",
       "      <td>n</td>\n",
       "      <td>n</td>\n",
       "      <td>n</td>\n",
       "      <td>n</td>\n",
       "      <td>n</td>\n",
       "      <td>n</td>\n",
       "      <td>n</td>\n",
       "      <td>n</td>\n",
       "      <td>n</td>\n",
       "      <td>n</td>\n",
       "      <td>n</td>\n",
       "      <td>n</td>\n",
       "      <td>n</td>\n",
       "      <td>n</td>\n",
       "      <td>n</td>\n",
       "      <td>n</td>\n",
       "      <td>n</td>\n",
       "      <td>n</td>\n",
       "      <td>n</td>\n",
       "      <td>n</td>\n",
       "      <td>n</td>\n",
       "      <td>n</td>\n",
       "      <td>n</td>\n",
       "      <td>n</td>\n",
       "      <td>n</td>\n",
       "      <td>n</td>\n",
       "      <td>n</td>\n",
       "      <td>n</td>\n",
       "      <td>n</td>\n",
       "      <td>n</td>\n",
       "      <td>n</td>\n",
       "      <td>n</td>\n",
       "      <td>n</td>\n",
       "      <td>n</td>\n",
       "      <td>n</td>\n",
       "      <td>y</td>\n",
       "      <td>y</td>\n",
       "      <td>y</td>\n",
       "      <td>y</td>\n",
       "      <td>y</td>\n",
       "      <td>y</td>\n",
       "      <td>y</td>\n",
       "      <td>y</td>\n",
       "      <td>y</td>\n",
       "      <td>n</td>\n",
       "      <td>n</td>\n",
       "    </tr>\n",
       "    <tr>\n",
       "      <th>1</th>\n",
       "      <td>n</td>\n",
       "      <td>y</td>\n",
       "      <td>y</td>\n",
       "      <td>y</td>\n",
       "      <td>y</td>\n",
       "      <td>n</td>\n",
       "      <td>n</td>\n",
       "      <td>n</td>\n",
       "      <td>n</td>\n",
       "      <td>y</td>\n",
       "      <td>y</td>\n",
       "      <td>y</td>\n",
       "      <td>y</td>\n",
       "      <td>y</td>\n",
       "      <td>y</td>\n",
       "      <td>y</td>\n",
       "      <td>y</td>\n",
       "      <td>y</td>\n",
       "      <td>n</td>\n",
       "      <td>y</td>\n",
       "      <td>y</td>\n",
       "      <td>y</td>\n",
       "      <td>y</td>\n",
       "      <td>y</td>\n",
       "      <td>y</td>\n",
       "      <td>n</td>\n",
       "      <td>n</td>\n",
       "      <td>n</td>\n",
       "      <td>n</td>\n",
       "      <td>y</td>\n",
       "      <td>y</td>\n",
       "      <td>y</td>\n",
       "      <td>y</td>\n",
       "      <td>y</td>\n",
       "      <td>y</td>\n",
       "      <td>y</td>\n",
       "      <td>y</td>\n",
       "      <td>y</td>\n",
       "      <td>y</td>\n",
       "      <td>y</td>\n",
       "      <td>y</td>\n",
       "      <td>y</td>\n",
       "      <td>n</td>\n",
       "      <td>n</td>\n",
       "      <td>y</td>\n",
       "      <td>n</td>\n",
       "      <td>n</td>\n",
       "      <td>y</td>\n",
       "      <td>y</td>\n",
       "      <td>y</td>\n",
       "      <td>y</td>\n",
       "      <td>y</td>\n",
       "      <td>n</td>\n",
       "      <td>n</td>\n",
       "      <td>n</td>\n",
       "      <td>n</td>\n",
       "      <td>n</td>\n",
       "      <td>n</td>\n",
       "      <td>n</td>\n",
       "      <td>n</td>\n",
       "      <td>n</td>\n",
       "      <td>n</td>\n",
       "      <td>n</td>\n",
       "      <td>n</td>\n",
       "      <td>n</td>\n",
       "      <td>n</td>\n",
       "      <td>n</td>\n",
       "      <td>n</td>\n",
       "      <td>n</td>\n",
       "      <td>n</td>\n",
       "      <td>n</td>\n",
       "      <td>n</td>\n",
       "      <td>n</td>\n",
       "      <td>n</td>\n",
       "      <td>n</td>\n",
       "      <td>n</td>\n",
       "      <td>n</td>\n",
       "      <td>n</td>\n",
       "      <td>n</td>\n",
       "      <td>n</td>\n",
       "      <td>n</td>\n",
       "      <td>n</td>\n",
       "      <td>n</td>\n",
       "      <td>n</td>\n",
       "      <td>n</td>\n",
       "      <td>n</td>\n",
       "      <td>n</td>\n",
       "      <td>n</td>\n",
       "      <td>n</td>\n",
       "      <td>n</td>\n",
       "      <td>n</td>\n",
       "      <td>n</td>\n",
       "      <td>n</td>\n",
       "      <td>n</td>\n",
       "      <td>n</td>\n",
       "      <td>n</td>\n",
       "      <td>n</td>\n",
       "      <td>n</td>\n",
       "      <td>n</td>\n",
       "      <td>n</td>\n",
       "      <td>n</td>\n",
       "      <td>y</td>\n",
       "      <td>n</td>\n",
       "      <td>n</td>\n",
       "      <td>n</td>\n",
       "      <td>n</td>\n",
       "      <td>n</td>\n",
       "      <td>y</td>\n",
       "      <td>n</td>\n",
       "      <td>n</td>\n",
       "    </tr>\n",
       "  </tbody>\n",
       "</table>\n",
       "</div>"
      ],
      "text/plain": [
       "  historico registro ent_at sit_trab sexo FECHA_AT base_coti colectivo N_RED  \\\n",
       "0         n        n      n        n    y        n         y         n     n   \n",
       "1         n        y      y        y    y        n         n         n     n   \n",
       "\n",
       "  i_auto sist_es i_trade cese c2 c4 c5 c10 c12 ncaso pos tipo regimen  \\\n",
       "0      y       y       n    y  y  y  y   y   y     n   n    n       n   \n",
       "1      y       y       y    y  y  y  y   y   y     n   y    y       y   \n",
       "\n",
       "  es_atipico es_recaida hay_at_previo duracion dur_previo dur_std v_std  \\\n",
       "0          y          y             y        y          y       y     y   \n",
       "1          y          y             y        n          n       n     n   \n",
       "\n",
       "  med_clave cie9_cod d_sem_baja mes_baja es_trafico es_pl_empleado  \\\n",
       "0         n        n          y        y          y              y   \n",
       "1         y        y          y        y          y              y   \n",
       "\n",
       "  es_pl_activo es_pago_dir es_susp_ext es_derecho_cobro es_alta_prev_insp  \\\n",
       "0            y           y           y                y                 y   \n",
       "1            y           y           y                y                 y   \n",
       "\n",
       "  es_recaida_ip_denegada mpq edad naltas provincia next_fest past_fest  \\\n",
       "0                      y   y    y      y         y         y         y   \n",
       "1                      y   y    n      n         y         n         n   \n",
       "\n",
       "  resultado es_atrium prop_atrium resp_atrium motivo_pd nrehab nbio UG_TGSS  \\\n",
       "0         y         y           y           y         y      y    y       n   \n",
       "1         y         y           y           y         y      n    n       n   \n",
       "\n",
       "  OPCION_IT FECHA_OPCION MUTUA_IT FECHA_MUTUA_IT f_alta_o_ss HORA_PRE nacion  \\\n",
       "0         n            n        n              n           n        n      n   \n",
       "1         n            n        n              n           n        n      n   \n",
       "\n",
       "  f_trade cnae9 f_cese dele tipo_situ nsin nexp nepi ccc regccc situacion  \\\n",
       "0       n     n      n    n         n    n    n    n   n      n         n   \n",
       "1       n     n      n    n         n    n    n    n   n      n         n   \n",
       "\n",
       "  f_parte f_graba f_baja f_alta_adm f_alta_med cie9_descr dele_cod  \\\n",
       "0       n       n      n          n          n          n        n   \n",
       "1       n       n      n          n          n          n        n   \n",
       "\n",
       "  dele_nombre gestor f_susp_ext es_covid f_nacm f_atrium f_resp_atrium  \\\n",
       "0           n      n          n        n      n        n             n   \n",
       "1           n      n          n        n      n        n             n   \n",
       "\n",
       "  f_ini_pd c1 c3 c6 c7 c8 c9 c11 c13 c14 gr_edad f_alta dist_ult_baja  \\\n",
       "0        n  n  n  n  n  n  n   n   n   n       n      n             y   \n",
       "1        n  n  n  n  n  n  n   n   n   n       n      n             n   \n",
       "\n",
       "  avg_altas alta_oficio nrecaidas ncasos diff_ant_caso diff_ant_med_adm  \\\n",
       "0         y           y         y      y             y                y   \n",
       "1         n           y         n      n             n                n   \n",
       "\n",
       "  mean_ant_med_adm prev_rechazado nfest_14 peso  \n",
       "0                y              y        n    n  \n",
       "1                n              y        n    n  "
      ]
     },
     "execution_count": 71,
     "metadata": {},
     "output_type": "execute_result"
    }
   ],
   "source": [
    "dat"
   ]
  },
  {
   "cell_type": "code",
   "execution_count": 72,
   "id": "00c9f652",
   "metadata": {},
   "outputs": [
    {
     "data": {
      "text/plain": [
       "(10018, 113)"
      ]
     },
     "execution_count": 72,
     "metadata": {},
     "output_type": "execute_result"
    }
   ],
   "source": [
    "# Union de las tablas en un solo dataset\n",
    "\n",
    "df = pd.concat(tablasdf.values(), axis=1)\n",
    "\n",
    "df.shape"
   ]
  },
  {
   "cell_type": "raw",
   "id": "b64cf254",
   "metadata": {},
   "source": [
    "df = df.drop(\"cie9_cod\", axis=1)"
   ]
  },
  {
   "cell_type": "raw",
   "id": "91030dfc",
   "metadata": {},
   "source": [
    "df = df.drop(\"med_clave\", axis=1)"
   ]
  },
  {
   "cell_type": "code",
   "execution_count": 73,
   "id": "fa9bf565",
   "metadata": {},
   "outputs": [],
   "source": [
    "new = pd.DataFrame({\"diff_alta_adm_med\":[\"y\",\"n\"],\n",
    " \"es_alta_adm_post_med2\":[\"y\",\"n\"]})"
   ]
  },
  {
   "cell_type": "code",
   "execution_count": 74,
   "id": "094cab02",
   "metadata": {},
   "outputs": [
    {
     "data": {
      "text/html": [
       "<div>\n",
       "<style scoped>\n",
       "    .dataframe tbody tr th:only-of-type {\n",
       "        vertical-align: middle;\n",
       "    }\n",
       "\n",
       "    .dataframe tbody tr th {\n",
       "        vertical-align: top;\n",
       "    }\n",
       "\n",
       "    .dataframe thead th {\n",
       "        text-align: right;\n",
       "    }\n",
       "</style>\n",
       "<table border=\"1\" class=\"dataframe\">\n",
       "  <thead>\n",
       "    <tr style=\"text-align: right;\">\n",
       "      <th></th>\n",
       "      <th>diff_alta_adm_med</th>\n",
       "      <th>es_alta_adm_post_med2</th>\n",
       "    </tr>\n",
       "  </thead>\n",
       "  <tbody>\n",
       "    <tr>\n",
       "      <th>0</th>\n",
       "      <td>y</td>\n",
       "      <td>y</td>\n",
       "    </tr>\n",
       "    <tr>\n",
       "      <th>1</th>\n",
       "      <td>n</td>\n",
       "      <td>n</td>\n",
       "    </tr>\n",
       "  </tbody>\n",
       "</table>\n",
       "</div>"
      ],
      "text/plain": [
       "  diff_alta_adm_med es_alta_adm_post_med2\n",
       "0                 y                     y\n",
       "1                 n                     n"
      ]
     },
     "execution_count": 74,
     "metadata": {},
     "output_type": "execute_result"
    }
   ],
   "source": [
    "new"
   ]
  },
  {
   "cell_type": "code",
   "execution_count": 75,
   "id": "fe93b38a",
   "metadata": {},
   "outputs": [],
   "source": [
    "dat = pd.concat([dat,new], axis=1)"
   ]
  },
  {
   "cell_type": "code",
   "execution_count": 76,
   "id": "6c24f86f",
   "metadata": {},
   "outputs": [
    {
     "data": {
      "text/plain": [
       "(2, 112)"
      ]
     },
     "execution_count": 76,
     "metadata": {},
     "output_type": "execute_result"
    }
   ],
   "source": [
    "dat.shape"
   ]
  },
  {
   "cell_type": "code",
   "execution_count": 234,
   "id": "49530a57",
   "metadata": {},
   "outputs": [
    {
     "name": "stdout",
     "output_type": "stream",
     "text": [
      "CPU times: user 286 ms, sys: 256 ms, total: 542 ms\n",
      "Wall time: 532 ms\n"
     ]
    }
   ],
   "source": [
    "%%time\n",
    "def selectFromDat(df, dat):\n",
    "    dataF = dict()\n",
    "    for key in dat.keys():\n",
    "        if key in df.keys():\n",
    "            if list(dat[key])[0] == \"n\":\n",
    "                continue\n",
    "            if list(dat[key])[1] == \"n\":\n",
    "                dataF[key] = df[key]\n",
    "            else:\n",
    "                dataF[key] = df[key].astype(\"category\")\n",
    "    \n",
    "    return pd.DataFrame(dataF)\n",
    "    \n",
    "data = selectFromDat(df, dat)"
   ]
  },
  {
   "cell_type": "code",
   "execution_count": 223,
   "id": "26413e74",
   "metadata": {},
   "outputs": [],
   "source": [
    "y = data[\"resultado\"].astype(\"str\")"
   ]
  },
  {
   "cell_type": "code",
   "execution_count": 224,
   "id": "32d16247",
   "metadata": {},
   "outputs": [],
   "source": [
    "for i, val in enumerate(y):\n",
    "    if val == \"Sin detective\":\n",
    "        y[i] = -1\n",
    "    elif val == \"NEGA\" or val == \"CANC\" or val == \"PEND\":\n",
    "        y[i] = 0\n",
    "    else:\n",
    "        y[i] = 1"
   ]
  },
  {
   "cell_type": "code",
   "execution_count": 235,
   "id": "8cdbf89e",
   "metadata": {},
   "outputs": [
    {
     "data": {
      "text/plain": [
       "0    7157\n",
       "1    2861\n",
       "Name: resultado, dtype: int64"
      ]
     },
     "execution_count": 235,
     "metadata": {},
     "output_type": "execute_result"
    }
   ],
   "source": [
    "y.value_counts()\n"
   ]
  },
  {
   "cell_type": "code",
   "execution_count": 81,
   "id": "0e72c647",
   "metadata": {},
   "outputs": [],
   "source": [
    "condition = (y == 0) | (y == 1)"
   ]
  },
  {
   "cell_type": "code",
   "execution_count": 82,
   "id": "6b263dfa",
   "metadata": {},
   "outputs": [],
   "source": [
    "Y = y[condition].astype(\"int\")"
   ]
  },
  {
   "cell_type": "code",
   "execution_count": 241,
   "id": "43e86206",
   "metadata": {},
   "outputs": [],
   "source": [
    "x = data.drop(\"resultado\", axis=1)"
   ]
  },
  {
   "cell_type": "code",
   "execution_count": 106,
   "id": "924fbc5a",
   "metadata": {},
   "outputs": [],
   "source": [
    "x[\"es_alta_adm_post_med2\"] = x[\"es_alta_adm_post_med2\"].astype(\"category\")"
   ]
  },
  {
   "cell_type": "code",
   "execution_count": 236,
   "id": "407bca73",
   "metadata": {},
   "outputs": [
    {
     "ename": "AttributeError",
     "evalue": "'numpy.float64' object has no attribute 'loc'",
     "output_type": "error",
     "traceback": [
      "\u001b[0;31m---------------------------------------------------------------------------\u001b[0m",
      "\u001b[0;31mAttributeError\u001b[0m                            Traceback (most recent call last)",
      "Input \u001b[0;32mIn [236]\u001b[0m, in \u001b[0;36m<cell line: 1>\u001b[0;34m()\u001b[0m\n\u001b[0;32m----> 1\u001b[0m X \u001b[38;5;241m=\u001b[39m \u001b[43mx\u001b[49m\u001b[38;5;241;43m.\u001b[39;49m\u001b[43mloc\u001b[49m[condition,:]\n",
      "\u001b[0;31mAttributeError\u001b[0m: 'numpy.float64' object has no attribute 'loc'"
     ]
    }
   ],
   "source": [
    "X = x.loc[condition,:]"
   ]
  },
  {
   "cell_type": "code",
   "execution_count": 243,
   "id": "352ec0b8",
   "metadata": {},
   "outputs": [],
   "source": [
    "X = x"
   ]
  },
  {
   "cell_type": "code",
   "execution_count": null,
   "id": "0f2901c3",
   "metadata": {},
   "outputs": [],
   "source": []
  },
  {
   "cell_type": "code",
   "execution_count": 244,
   "id": "bb521a27",
   "metadata": {},
   "outputs": [
    {
     "data": {
      "text/plain": [
       "(10018, 48)"
      ]
     },
     "execution_count": 244,
     "metadata": {},
     "output_type": "execute_result"
    }
   ],
   "source": [
    "X.shape"
   ]
  },
  {
   "cell_type": "code",
   "execution_count": 245,
   "id": "33e537d3",
   "metadata": {},
   "outputs": [],
   "source": [
    "from sklearn.preprocessing import StandardScaler\n",
    "def scale(data: pd.DataFrame,*,scaler=None):\n",
    "    '''\n",
    "    Escalado de los datos \n",
    "    \n",
    "    Funcion que se encarga de escalar los datos correspondites a valores numericos dentro de un dataset.\n",
    "    Se ha de ajustar los datos unicamete a los valores del train en el train-test split, impidiendo el transbase de información desde\n",
    "    test a train.\n",
    "    \n",
    "    Se retorna el dataset y el scaler.\n",
    "    \n",
    "    Si no se pasa un scaler se crea uno \n",
    "    '''\n",
    "    Numdata = data.select_dtypes(include=\"number\")\n",
    "    if scaler == None:\n",
    "        print(\"No hay scaler\\nCreando scaler ==> StandardScaler()\")\n",
    "        scaler = StandardScaler()\n",
    "        scaler.fit(Numdata)\n",
    "        \n",
    "    Numdata = pd.DataFrame(scaler.transform(Numdata), columns=Numdata.columns)\n",
    "    Othdata = data.select_dtypes(exclude=\"number\")\n",
    "    Othdata = Othdata.reset_index()\n",
    "    Othdata = Othdata.drop(\"index\", axis=1)\n",
    "    data = pd.concat([Numdata, Othdata], axis=1)\n",
    "    return data, scaler\n",
    "    "
   ]
  },
  {
   "cell_type": "raw",
   "id": "fcfb3b03",
   "metadata": {},
   "source": [
    "\n",
    "\n",
    "scaler = StandardScaler()\n",
    "scaler.fit(X.select_dtypes(include=\"number\") )\n",
    "Xnum = scaler.transform(X.select_dtypes(include=\"number\") )\n",
    "Xnum = pd.DataFrame(Xnum, columns=X.select_dtypes(include=\"number\").keys())"
   ]
  },
  {
   "cell_type": "raw",
   "id": "e993c858",
   "metadata": {},
   "source": [
    "Xnum"
   ]
  },
  {
   "cell_type": "raw",
   "id": "d88d32ff",
   "metadata": {},
   "source": [
    "Xnum.shape\n",
    "#Xnum = Xnum.reset_index()\n",
    "#Xnum = Xnum.drop(\"index\", axis=1)"
   ]
  },
  {
   "cell_type": "raw",
   "id": "741f4f6d",
   "metadata": {},
   "source": [
    "Xcat = X.select_dtypes(exclude=\"number\")\n",
    "Xcat.shape\n",
    "Xcat = Xcat.reset_index()\n",
    "Xcat = Xcat.drop(\"index\", axis=1)"
   ]
  },
  {
   "cell_type": "raw",
   "id": "1bfc82d9",
   "metadata": {},
   "source": [
    "Xcat"
   ]
  },
  {
   "cell_type": "raw",
   "id": "1e9594de",
   "metadata": {},
   "source": [
    "X = pd.concat([Xnum, Xcat], \n",
    "              axis=1)"
   ]
  },
  {
   "cell_type": "code",
   "execution_count": 110,
   "id": "bc3dbef5",
   "metadata": {},
   "outputs": [
    {
     "data": {
      "text/plain": [
       "(687, 50)"
      ]
     },
     "execution_count": 110,
     "metadata": {},
     "output_type": "execute_result"
    }
   ],
   "source": [
    "X.shape"
   ]
  },
  {
   "cell_type": "code",
   "execution_count": 247,
   "id": "c888e2ca",
   "metadata": {},
   "outputs": [],
   "source": [
    "Y = y"
   ]
  },
  {
   "cell_type": "code",
   "execution_count": 259,
   "id": "36780c4c",
   "metadata": {},
   "outputs": [],
   "source": [
    "Y = Y.astype(\"int\")"
   ]
  },
  {
   "cell_type": "code",
   "execution_count": 260,
   "id": "4f8c35ab",
   "metadata": {},
   "outputs": [],
   "source": [
    "from sklearn.model_selection import train_test_split\n",
    "X_train, X_test, Y_train, Y_test = train_test_split(X,Y,train_size = 0.8,random_state = 2,shuffle = True)"
   ]
  },
  {
   "cell_type": "code",
   "execution_count": 261,
   "id": "335c7efd",
   "metadata": {},
   "outputs": [
    {
     "name": "stdout",
     "output_type": "stream",
     "text": [
      "No hay scaler\n",
      "Creando scaler ==> StandardScaler()\n"
     ]
    }
   ],
   "source": [
    "X_train, scaler = scale(X_train)"
   ]
  },
  {
   "cell_type": "code",
   "execution_count": 262,
   "id": "cc57c294",
   "metadata": {},
   "outputs": [],
   "source": [
    "X_test, scaler = scale(X_test,scaler=scaler)"
   ]
  },
  {
   "cell_type": "markdown",
   "id": "def025f1",
   "metadata": {},
   "source": [
    "## XGBoost Classification"
   ]
  },
  {
   "cell_type": "code",
   "execution_count": 114,
   "id": "eb2fc2ff",
   "metadata": {},
   "outputs": [
    {
     "data": {
      "text/plain": [
       "sexo                      category\n",
       "base_coti                  float64\n",
       "i_auto                    category\n",
       "sist_es                   category\n",
       "cese                      category\n",
       "c2                        category\n",
       "c4                        category\n",
       "c5                        category\n",
       "c10                       category\n",
       "c12                       category\n",
       "es_atipico                category\n",
       "es_recaida                category\n",
       "hay_at_previo             category\n",
       "duracion                   float64\n",
       "dur_previo                 float64\n",
       "dur_std                    float64\n",
       "v_std                      float64\n",
       "d_sem_baja                category\n",
       "mes_baja                  category\n",
       "es_trafico                category\n",
       "es_pl_empleado            category\n",
       "es_pl_activo              category\n",
       "es_pago_dir               category\n",
       "es_susp_ext               category\n",
       "es_derecho_cobro          category\n",
       "es_alta_prev_insp         category\n",
       "es_recaida_ip_denegada    category\n",
       "mpq                       category\n",
       "edad                       float64\n",
       "naltas                     float64\n",
       "provincia                 category\n",
       "next_fest                  float64\n",
       "past_fest                  float64\n",
       "es_atrium                 category\n",
       "prop_atrium               category\n",
       "resp_atrium               category\n",
       "motivo_pd                 category\n",
       "nrehab                     float64\n",
       "nbio                       float64\n",
       "dist_ult_baja              float64\n",
       "avg_altas                  float64\n",
       "alta_oficio               category\n",
       "nrecaidas                  float64\n",
       "ncasos                     float64\n",
       "diff_ant_caso              float64\n",
       "diff_ant_med_adm           float64\n",
       "mean_ant_med_adm           float64\n",
       "prev_rechazado            category\n",
       "diff_alta_adm_med          float64\n",
       "es_alta_adm_post_med2     category\n",
       "dtype: object"
      ]
     },
     "execution_count": 114,
     "metadata": {},
     "output_type": "execute_result"
    }
   ],
   "source": [
    "X.dtypes"
   ]
  },
  {
   "cell_type": "code",
   "execution_count": 115,
   "id": "7af85bc1",
   "metadata": {},
   "outputs": [
    {
     "data": {
      "text/plain": [
       "1        0\n",
       "18       0\n",
       "25       1\n",
       "34       1\n",
       "106      0\n",
       "        ..\n",
       "9753     1\n",
       "9779     0\n",
       "9784     0\n",
       "9843     1\n",
       "10000    1\n",
       "Name: es_alta_adm_post_med2, Length: 687, dtype: category\n",
       "Categories (2, int64): [0, 1]"
      ]
     },
     "execution_count": 115,
     "metadata": {},
     "output_type": "execute_result"
    }
   ],
   "source": [
    "X.es_alta_adm_post_med2"
   ]
  },
  {
   "cell_type": "code",
   "execution_count": 263,
   "id": "12072555",
   "metadata": {},
   "outputs": [],
   "source": [
    "import xgboost as xgb"
   ]
  },
  {
   "cell_type": "code",
   "execution_count": 264,
   "id": "5fb78231",
   "metadata": {},
   "outputs": [
    {
     "data": {
      "text/plain": [
       "XGBClassifier(base_score=0.5, booster='gbtree', callbacks=None,\n",
       "              colsample_bylevel=1, colsample_bynode=1, colsample_bytree=1,\n",
       "              early_stopping_rounds=None, enable_categorical=True,\n",
       "              eval_metric=None, gamma=0, gpu_id=-1, grow_policy='depthwise',\n",
       "              importance_type=None, interaction_constraints='',\n",
       "              learning_rate=0.300000012, max_bin=256, max_cat_to_onehot=4,\n",
       "              max_delta_step=0, max_depth=6, max_leaves=0, min_child_weight=1,\n",
       "              missing=nan, monotone_constraints='()', n_estimators=100,\n",
       "              n_jobs=0, num_parallel_tree=1, predictor='auto', random_state=0,\n",
       "              reg_alpha=0, reg_lambda=1, ...)"
      ]
     },
     "execution_count": 264,
     "metadata": {},
     "output_type": "execute_result"
    }
   ],
   "source": [
    "# Supported tree methods are `gpu_hist`, `approx`, and `hist`.\n",
    "clf = xgb.XGBClassifier(tree_method=\"hist\",enable_categorical=True )\n",
    "# X is the dataframe we created in previous snippet\n",
    "clf.fit(X_train, Y_train)"
   ]
  },
  {
   "cell_type": "raw",
   "id": "6d688ef1",
   "metadata": {},
   "source": [
    "X.registro"
   ]
  },
  {
   "cell_type": "code",
   "execution_count": 265,
   "id": "b2a54384",
   "metadata": {},
   "outputs": [
    {
     "data": {
      "text/plain": [
       "array([1.9863103e-01, 4.9684286e-02, 5.9553084e-05, 1.8082010e-02,\n",
       "       2.9691352e-02, 1.0992633e-01, 7.4345699e-06, 4.5618981e-02,\n",
       "       1.6469008e-01, 5.4193556e-06, 0.0000000e+00, 4.8214912e-02,\n",
       "       9.4226345e-02, 0.0000000e+00, 3.1679351e-06, 3.0260789e-03,\n",
       "       3.8129210e-02, 7.7041441e-06, 2.9308756e-05, 5.1298066e-05,\n",
       "       0.0000000e+00, 8.7739266e-03, 0.0000000e+00, 0.0000000e+00,\n",
       "       0.0000000e+00, 0.0000000e+00, 8.8463509e-03, 0.0000000e+00,\n",
       "       0.0000000e+00, 6.4496521e-06, 6.8284082e-03, 6.8031788e-02,\n",
       "       0.0000000e+00, 0.0000000e+00, 0.0000000e+00, 0.0000000e+00,\n",
       "       0.0000000e+00, 0.0000000e+00, 0.0000000e+00, 0.0000000e+00,\n",
       "       9.3639828e-02, 1.3771687e-02, 2.5976885e-06, 1.9141032e-06,\n",
       "       4.0366153e-06, 0.0000000e+00, 8.5728516e-06, 0.0000000e+00],\n",
       "      dtype=float32)"
      ]
     },
     "execution_count": 265,
     "metadata": {},
     "output_type": "execute_result"
    }
   ],
   "source": [
    "# Get a graph\n",
    "graph = xgb.to_graphviz(clf, num_trees=1)\n",
    "# Or get a matplotlib axis\n",
    "#ax = xgb.plot_tree(clf, num_trees=1,)\n",
    "# Get feature importances\n",
    "clf.feature_importances_"
   ]
  },
  {
   "cell_type": "code",
   "execution_count": 119,
   "id": "277fb3e1",
   "metadata": {},
   "outputs": [
    {
     "data": {
      "image/svg+xml": [
       "<?xml version=\"1.0\" encoding=\"UTF-8\" standalone=\"no\"?>\n",
       "<!DOCTYPE svg PUBLIC \"-//W3C//DTD SVG 1.1//EN\"\n",
       " \"http://www.w3.org/Graphics/SVG/1.1/DTD/svg11.dtd\">\n",
       "<!-- Generated by graphviz version 2.43.0 (0)\n",
       " -->\n",
       "<!-- Title: %3 Pages: 1 -->\n",
       "<svg width=\"3927pt\" height=\"566pt\"\n",
       " viewBox=\"0.00 0.00 3926.78 566.00\" xmlns=\"http://www.w3.org/2000/svg\" xmlns:xlink=\"http://www.w3.org/1999/xlink\">\n",
       "<g id=\"graph0\" class=\"graph\" transform=\"scale(1 1) rotate(0) translate(4 562)\">\n",
       "<title>%3</title>\n",
       "<polygon fill=\"white\" stroke=\"transparent\" points=\"-4,4 -4,-562 3922.78,-562 3922.78,4 -4,4\"/>\n",
       "<!-- 0 -->\n",
       "<g id=\"node1\" class=\"node\">\n",
       "<title>0</title>\n",
       "<ellipse fill=\"none\" stroke=\"black\" cx=\"954.69\" cy=\"-540\" rx=\"160.57\" ry=\"18\"/>\n",
       "<text text-anchor=\"middle\" x=\"954.69\" y=\"-536.3\" font-family=\"Times,serif\" font-size=\"14.00\">diff_alta_adm_med&lt;0.19447042</text>\n",
       "</g>\n",
       "<!-- 1 -->\n",
       "<g id=\"node2\" class=\"node\">\n",
       "<title>1</title>\n",
       "<ellipse fill=\"none\" stroke=\"black\" cx=\"728.69\" cy=\"-453\" rx=\"170.87\" ry=\"18\"/>\n",
       "<text text-anchor=\"middle\" x=\"728.69\" y=\"-449.3\" font-family=\"Times,serif\" font-size=\"14.00\">mean_ant_med_adm&lt;&#45;1.51392925</text>\n",
       "</g>\n",
       "<!-- 0&#45;&gt;1 -->\n",
       "<g id=\"edge1\" class=\"edge\">\n",
       "<title>0&#45;&gt;1</title>\n",
       "<path fill=\"none\" stroke=\"#0000ff\" d=\"M911.12,-522.61C874.34,-508.78 821.55,-488.92 782.21,-474.13\"/>\n",
       "<polygon fill=\"#0000ff\" stroke=\"#0000ff\" points=\"783.11,-470.73 772.52,-470.48 780.64,-477.28 783.11,-470.73\"/>\n",
       "<text text-anchor=\"middle\" x=\"900.19\" y=\"-492.8\" font-family=\"Times,serif\" font-size=\"14.00\">yes, missing</text>\n",
       "</g>\n",
       "<!-- 2 -->\n",
       "<g id=\"node3\" class=\"node\">\n",
       "<title>2</title>\n",
       "<ellipse fill=\"none\" stroke=\"black\" cx=\"1350.69\" cy=\"-453\" rx=\"107.48\" ry=\"18\"/>\n",
       "<text text-anchor=\"middle\" x=\"1350.69\" y=\"-449.3\" font-family=\"Times,serif\" font-size=\"14.00\">v_std&lt;&#45;0.194111377</text>\n",
       "</g>\n",
       "<!-- 0&#45;&gt;2 -->\n",
       "<g id=\"edge2\" class=\"edge\">\n",
       "<title>0&#45;&gt;2</title>\n",
       "<path fill=\"none\" stroke=\"#ff0000\" d=\"M1025.49,-523.8C1096.56,-508.55 1205.55,-485.15 1277.47,-469.72\"/>\n",
       "<polygon fill=\"#ff0000\" stroke=\"#ff0000\" points=\"1278.32,-473.11 1287.37,-467.59 1276.85,-466.27 1278.32,-473.11\"/>\n",
       "<text text-anchor=\"middle\" x=\"1185.69\" y=\"-492.8\" font-family=\"Times,serif\" font-size=\"14.00\">no</text>\n",
       "</g>\n",
       "<!-- 3 -->\n",
       "<g id=\"node4\" class=\"node\">\n",
       "<title>3</title>\n",
       "<ellipse fill=\"none\" stroke=\"black\" cx=\"486.69\" cy=\"-366\" rx=\"105.88\" ry=\"18\"/>\n",
       "<text text-anchor=\"middle\" x=\"486.69\" y=\"-362.3\" font-family=\"Times,serif\" font-size=\"14.00\">leaf=&#45;0.0662453622</text>\n",
       "</g>\n",
       "<!-- 1&#45;&gt;3 -->\n",
       "<g id=\"edge3\" class=\"edge\">\n",
       "<title>1&#45;&gt;3</title>\n",
       "<path fill=\"none\" stroke=\"#ff0000\" d=\"M682.03,-435.61C641.51,-421.38 582.83,-400.77 540.37,-385.85\"/>\n",
       "<polygon fill=\"#ff0000\" stroke=\"#ff0000\" points=\"541.36,-382.49 530.76,-382.48 539.04,-389.1 541.36,-382.49\"/>\n",
       "<text text-anchor=\"middle\" x=\"635.19\" y=\"-405.8\" font-family=\"Times,serif\" font-size=\"14.00\">yes</text>\n",
       "</g>\n",
       "<!-- 4 -->\n",
       "<g id=\"node5\" class=\"node\">\n",
       "<title>4</title>\n",
       "<ellipse fill=\"none\" stroke=\"black\" cx=\"728.69\" cy=\"-366\" rx=\"118.08\" ry=\"18\"/>\n",
       "<text text-anchor=\"middle\" x=\"728.69\" y=\"-362.3\" font-family=\"Times,serif\" font-size=\"14.00\">dur_std&lt;&#45;0.702558219</text>\n",
       "</g>\n",
       "<!-- 1&#45;&gt;4 -->\n",
       "<g id=\"edge4\" class=\"edge\">\n",
       "<title>1&#45;&gt;4</title>\n",
       "<path fill=\"none\" stroke=\"#0000ff\" d=\"M728.69,-434.8C728.69,-423.16 728.69,-407.55 728.69,-394.24\"/>\n",
       "<polygon fill=\"#0000ff\" stroke=\"#0000ff\" points=\"732.19,-394.18 728.69,-384.18 725.19,-394.18 732.19,-394.18\"/>\n",
       "<text text-anchor=\"middle\" x=\"769.69\" y=\"-405.8\" font-family=\"Times,serif\" font-size=\"14.00\">no, missing</text>\n",
       "</g>\n",
       "<!-- 5 -->\n",
       "<g id=\"node14\" class=\"node\">\n",
       "<title>5</title>\n",
       "<ellipse fill=\"none\" stroke=\"black\" cx=\"1350.69\" cy=\"-366\" rx=\"123.48\" ry=\"18\"/>\n",
       "<text text-anchor=\"middle\" x=\"1350.69\" y=\"-362.3\" font-family=\"Times,serif\" font-size=\"14.00\">avg_altas&lt;0.186420575</text>\n",
       "</g>\n",
       "<!-- 2&#45;&gt;5 -->\n",
       "<g id=\"edge13\" class=\"edge\">\n",
       "<title>2&#45;&gt;5</title>\n",
       "<path fill=\"none\" stroke=\"#ff0000\" d=\"M1350.69,-434.8C1350.69,-423.16 1350.69,-407.55 1350.69,-394.24\"/>\n",
       "<polygon fill=\"#ff0000\" stroke=\"#ff0000\" points=\"1354.19,-394.18 1350.69,-384.18 1347.19,-394.18 1354.19,-394.18\"/>\n",
       "<text text-anchor=\"middle\" x=\"1363.19\" y=\"-405.8\" font-family=\"Times,serif\" font-size=\"14.00\">yes</text>\n",
       "</g>\n",
       "<!-- 6 -->\n",
       "<g id=\"node15\" class=\"node\">\n",
       "<title>6</title>\n",
       "<ellipse fill=\"none\" stroke=\"black\" cx=\"2931.69\" cy=\"-366\" rx=\"97.48\" ry=\"18\"/>\n",
       "<text text-anchor=\"middle\" x=\"2931.69\" y=\"-362.3\" font-family=\"Times,serif\" font-size=\"14.00\">provincia:{4,8,29}</text>\n",
       "</g>\n",
       "<!-- 2&#45;&gt;6 -->\n",
       "<g id=\"edge14\" class=\"edge\">\n",
       "<title>2&#45;&gt;6</title>\n",
       "<path fill=\"none\" stroke=\"#0000ff\" d=\"M1451.09,-446.6C1735.16,-431.33 2542.55,-387.92 2829.19,-372.51\"/>\n",
       "<polygon fill=\"#0000ff\" stroke=\"#0000ff\" points=\"2829.78,-375.98 2839.58,-371.95 2829.4,-368.99 2829.78,-375.98\"/>\n",
       "<text text-anchor=\"middle\" x=\"2277.69\" y=\"-405.8\" font-family=\"Times,serif\" font-size=\"14.00\">no, missing</text>\n",
       "</g>\n",
       "<!-- 7 -->\n",
       "<g id=\"node6\" class=\"node\">\n",
       "<title>7</title>\n",
       "<ellipse fill=\"none\" stroke=\"black\" cx=\"320.69\" cy=\"-279\" rx=\"174.67\" ry=\"18\"/>\n",
       "<text text-anchor=\"middle\" x=\"320.69\" y=\"-275.3\" font-family=\"Times,serif\" font-size=\"14.00\">diff_alta_adm_med&lt;&#45;0.0771532059</text>\n",
       "</g>\n",
       "<!-- 4&#45;&gt;7 -->\n",
       "<g id=\"edge5\" class=\"edge\">\n",
       "<title>4&#45;&gt;7</title>\n",
       "<path fill=\"none\" stroke=\"#ff0000\" d=\"M661.77,-351.06C591.46,-336.41 480.7,-313.34 404.59,-297.48\"/>\n",
       "<polygon fill=\"#ff0000\" stroke=\"#ff0000\" points=\"405.05,-294 394.55,-295.39 403.63,-300.85 405.05,-294\"/>\n",
       "<text text-anchor=\"middle\" x=\"562.19\" y=\"-318.8\" font-family=\"Times,serif\" font-size=\"14.00\">yes</text>\n",
       "</g>\n",
       "<!-- 8 -->\n",
       "<g id=\"node7\" class=\"node\">\n",
       "<title>8</title>\n",
       "<ellipse fill=\"none\" stroke=\"black\" cx=\"728.69\" cy=\"-279\" rx=\"163.27\" ry=\"18\"/>\n",
       "<text text-anchor=\"middle\" x=\"728.69\" y=\"-275.3\" font-family=\"Times,serif\" font-size=\"14.00\">diff_alta_adm_med&lt;&#45;2.03284335</text>\n",
       "</g>\n",
       "<!-- 4&#45;&gt;8 -->\n",
       "<g id=\"edge6\" class=\"edge\">\n",
       "<title>4&#45;&gt;8</title>\n",
       "<path fill=\"none\" stroke=\"#0000ff\" d=\"M728.69,-347.8C728.69,-336.16 728.69,-320.55 728.69,-307.24\"/>\n",
       "<polygon fill=\"#0000ff\" stroke=\"#0000ff\" points=\"732.19,-307.18 728.69,-297.18 725.19,-307.18 732.19,-307.18\"/>\n",
       "<text text-anchor=\"middle\" x=\"769.69\" y=\"-318.8\" font-family=\"Times,serif\" font-size=\"14.00\">no, missing</text>\n",
       "</g>\n",
       "<!-- 13 -->\n",
       "<g id=\"node8\" class=\"node\">\n",
       "<title>13</title>\n",
       "<ellipse fill=\"none\" stroke=\"black\" cx=\"102.69\" cy=\"-192\" rx=\"102.88\" ry=\"18\"/>\n",
       "<text text-anchor=\"middle\" x=\"102.69\" y=\"-188.3\" font-family=\"Times,serif\" font-size=\"14.00\">leaf=0.0143928258</text>\n",
       "</g>\n",
       "<!-- 7&#45;&gt;13 -->\n",
       "<g id=\"edge7\" class=\"edge\">\n",
       "<title>7&#45;&gt;13</title>\n",
       "<path fill=\"none\" stroke=\"#0000ff\" d=\"M276.15,-261.45C260.77,-255.68 243.45,-249.12 227.69,-243 202.22,-233.11 173.95,-221.83 150.74,-212.49\"/>\n",
       "<polygon fill=\"#0000ff\" stroke=\"#0000ff\" points=\"152.04,-209.24 141.46,-208.75 149.43,-215.73 152.04,-209.24\"/>\n",
       "<text text-anchor=\"middle\" x=\"272.19\" y=\"-231.8\" font-family=\"Times,serif\" font-size=\"14.00\">yes, missing</text>\n",
       "</g>\n",
       "<!-- 14 -->\n",
       "<g id=\"node9\" class=\"node\">\n",
       "<title>14</title>\n",
       "<ellipse fill=\"none\" stroke=\"black\" cx=\"320.69\" cy=\"-192\" rx=\"96.68\" ry=\"18\"/>\n",
       "<text text-anchor=\"middle\" x=\"320.69\" y=\"-188.3\" font-family=\"Times,serif\" font-size=\"14.00\">leaf=0.271467268</text>\n",
       "</g>\n",
       "<!-- 7&#45;&gt;14 -->\n",
       "<g id=\"edge8\" class=\"edge\">\n",
       "<title>7&#45;&gt;14</title>\n",
       "<path fill=\"none\" stroke=\"#ff0000\" d=\"M320.69,-260.8C320.69,-249.16 320.69,-233.55 320.69,-220.24\"/>\n",
       "<polygon fill=\"#ff0000\" stroke=\"#ff0000\" points=\"324.19,-220.18 320.69,-210.18 317.19,-220.18 324.19,-220.18\"/>\n",
       "<text text-anchor=\"middle\" x=\"329.69\" y=\"-231.8\" font-family=\"Times,serif\" font-size=\"14.00\">no</text>\n",
       "</g>\n",
       "<!-- 15 -->\n",
       "<g id=\"node10\" class=\"node\">\n",
       "<title>15</title>\n",
       "<ellipse fill=\"none\" stroke=\"black\" cx=\"553.69\" cy=\"-192\" rx=\"118.08\" ry=\"18\"/>\n",
       "<text text-anchor=\"middle\" x=\"553.69\" y=\"-188.3\" font-family=\"Times,serif\" font-size=\"14.00\">dur_std&lt;&#45;0.332527399</text>\n",
       "</g>\n",
       "<!-- 8&#45;&gt;15 -->\n",
       "<g id=\"edge9\" class=\"edge\">\n",
       "<title>8&#45;&gt;15</title>\n",
       "<path fill=\"none\" stroke=\"#ff0000\" d=\"M694.12,-261.21C666.16,-247.63 626.67,-228.45 596.68,-213.88\"/>\n",
       "<polygon fill=\"#ff0000\" stroke=\"#ff0000\" points=\"597.83,-210.55 587.3,-209.33 594.77,-216.84 597.83,-210.55\"/>\n",
       "<text text-anchor=\"middle\" x=\"664.19\" y=\"-231.8\" font-family=\"Times,serif\" font-size=\"14.00\">yes</text>\n",
       "</g>\n",
       "<!-- 16 -->\n",
       "<g id=\"node11\" class=\"node\">\n",
       "<title>16</title>\n",
       "<ellipse fill=\"none\" stroke=\"black\" cx=\"780.69\" cy=\"-192\" rx=\"90.98\" ry=\"18\"/>\n",
       "<text text-anchor=\"middle\" x=\"780.69\" y=\"-188.3\" font-family=\"Times,serif\" font-size=\"14.00\">leaf=0.45301497</text>\n",
       "</g>\n",
       "<!-- 8&#45;&gt;16 -->\n",
       "<g id=\"edge10\" class=\"edge\">\n",
       "<title>8&#45;&gt;16</title>\n",
       "<path fill=\"none\" stroke=\"#0000ff\" d=\"M739.21,-260.8C746.59,-248.74 756.59,-232.4 764.91,-218.79\"/>\n",
       "<polygon fill=\"#0000ff\" stroke=\"#0000ff\" points=\"768.13,-220.24 770.36,-209.89 762.16,-216.59 768.13,-220.24\"/>\n",
       "<text text-anchor=\"middle\" x=\"799.69\" y=\"-231.8\" font-family=\"Times,serif\" font-size=\"14.00\">no, missing</text>\n",
       "</g>\n",
       "<!-- 25 -->\n",
       "<g id=\"node12\" class=\"node\">\n",
       "<title>25</title>\n",
       "<ellipse fill=\"none\" stroke=\"black\" cx=\"424.69\" cy=\"-105\" rx=\"114.28\" ry=\"18\"/>\n",
       "<text text-anchor=\"middle\" x=\"424.69\" y=\"-101.3\" font-family=\"Times,serif\" font-size=\"14.00\">leaf=0.000319870946</text>\n",
       "</g>\n",
       "<!-- 15&#45;&gt;25 -->\n",
       "<g id=\"edge11\" class=\"edge\">\n",
       "<title>15&#45;&gt;25</title>\n",
       "<path fill=\"none\" stroke=\"#ff0000\" d=\"M528.51,-174.41C508.58,-161.27 480.53,-142.8 458.62,-128.35\"/>\n",
       "<polygon fill=\"#ff0000\" stroke=\"#ff0000\" points=\"460.52,-125.42 450.25,-122.84 456.67,-131.26 460.52,-125.42\"/>\n",
       "<text text-anchor=\"middle\" x=\"510.19\" y=\"-144.8\" font-family=\"Times,serif\" font-size=\"14.00\">yes</text>\n",
       "</g>\n",
       "<!-- 26 -->\n",
       "<g id=\"node13\" class=\"node\">\n",
       "<title>26</title>\n",
       "<ellipse fill=\"none\" stroke=\"black\" cx=\"653.69\" cy=\"-105\" rx=\"96.68\" ry=\"18\"/>\n",
       "<text text-anchor=\"middle\" x=\"653.69\" y=\"-101.3\" font-family=\"Times,serif\" font-size=\"14.00\">leaf=0.286369562</text>\n",
       "</g>\n",
       "<!-- 15&#45;&gt;26 -->\n",
       "<g id=\"edge12\" class=\"edge\">\n",
       "<title>15&#45;&gt;26</title>\n",
       "<path fill=\"none\" stroke=\"#0000ff\" d=\"M573.45,-174.21C588.51,-161.4 609.45,-143.61 626.16,-129.4\"/>\n",
       "<polygon fill=\"#0000ff\" stroke=\"#0000ff\" points=\"628.62,-131.9 633.98,-122.76 624.09,-126.57 628.62,-131.9\"/>\n",
       "<text text-anchor=\"middle\" x=\"650.69\" y=\"-144.8\" font-family=\"Times,serif\" font-size=\"14.00\">no, missing</text>\n",
       "</g>\n",
       "<!-- 9 -->\n",
       "<g id=\"node16\" class=\"node\">\n",
       "<title>9</title>\n",
       "<ellipse fill=\"none\" stroke=\"black\" cx=\"1232.69\" cy=\"-279\" rx=\"99.38\" ry=\"18\"/>\n",
       "<text text-anchor=\"middle\" x=\"1232.69\" y=\"-275.3\" font-family=\"Times,serif\" font-size=\"14.00\">edad&lt;&#45;1.85354602</text>\n",
       "</g>\n",
       "<!-- 5&#45;&gt;9 -->\n",
       "<g id=\"edge15\" class=\"edge\">\n",
       "<title>5&#45;&gt;9</title>\n",
       "<path fill=\"none\" stroke=\"#ff0000\" d=\"M1327.38,-348.21C1309.28,-335.17 1284,-316.96 1264.11,-302.63\"/>\n",
       "<polygon fill=\"#ff0000\" stroke=\"#ff0000\" points=\"1266.12,-299.76 1255.96,-296.76 1262.02,-305.44 1266.12,-299.76\"/>\n",
       "<text text-anchor=\"middle\" x=\"1312.19\" y=\"-318.8\" font-family=\"Times,serif\" font-size=\"14.00\">yes</text>\n",
       "</g>\n",
       "<!-- 10 -->\n",
       "<g id=\"node17\" class=\"node\">\n",
       "<title>10</title>\n",
       "<ellipse fill=\"none\" stroke=\"black\" cx=\"1531.69\" cy=\"-279\" rx=\"105.08\" ry=\"18\"/>\n",
       "<text text-anchor=\"middle\" x=\"1531.69\" y=\"-275.3\" font-family=\"Times,serif\" font-size=\"14.00\">edad&lt;&#45;0.340196788</text>\n",
       "</g>\n",
       "<!-- 5&#45;&gt;10 -->\n",
       "<g id=\"edge16\" class=\"edge\">\n",
       "<title>5&#45;&gt;10</title>\n",
       "<path fill=\"none\" stroke=\"#0000ff\" d=\"M1385.59,-348.61C1414.82,-334.88 1456.69,-315.22 1488.12,-300.46\"/>\n",
       "<polygon fill=\"#0000ff\" stroke=\"#0000ff\" points=\"1489.95,-303.47 1497.51,-296.05 1486.97,-297.13 1489.95,-303.47\"/>\n",
       "<text text-anchor=\"middle\" x=\"1493.69\" y=\"-318.8\" font-family=\"Times,serif\" font-size=\"14.00\">no, missing</text>\n",
       "</g>\n",
       "<!-- 11 -->\n",
       "<g id=\"node32\" class=\"node\">\n",
       "<title>11</title>\n",
       "<ellipse fill=\"none\" stroke=\"black\" cx=\"2931.69\" cy=\"-279\" rx=\"119.68\" ry=\"18\"/>\n",
       "<text text-anchor=\"middle\" x=\"2931.69\" y=\"-275.3\" font-family=\"Times,serif\" font-size=\"14.00\">next_fest&lt;&#45;0.92484957</text>\n",
       "</g>\n",
       "<!-- 6&#45;&gt;11 -->\n",
       "<g id=\"edge31\" class=\"edge\">\n",
       "<title>6&#45;&gt;11</title>\n",
       "<path fill=\"none\" stroke=\"#ff0000\" d=\"M2931.69,-347.8C2931.69,-336.16 2931.69,-320.55 2931.69,-307.24\"/>\n",
       "<polygon fill=\"#ff0000\" stroke=\"#ff0000\" points=\"2935.19,-307.18 2931.69,-297.18 2928.19,-307.18 2935.19,-307.18\"/>\n",
       "<text text-anchor=\"middle\" x=\"2940.69\" y=\"-318.8\" font-family=\"Times,serif\" font-size=\"14.00\">no</text>\n",
       "</g>\n",
       "<!-- 12 -->\n",
       "<g id=\"node33\" class=\"node\">\n",
       "<title>12</title>\n",
       "<ellipse fill=\"none\" stroke=\"black\" cx=\"3348.69\" cy=\"-279\" rx=\"125.38\" ry=\"18\"/>\n",
       "<text text-anchor=\"middle\" x=\"3348.69\" y=\"-275.3\" font-family=\"Times,serif\" font-size=\"14.00\">next_fest&lt;&#45;0.847479284</text>\n",
       "</g>\n",
       "<!-- 6&#45;&gt;12 -->\n",
       "<g id=\"edge32\" class=\"edge\">\n",
       "<title>6&#45;&gt;12</title>\n",
       "<path fill=\"none\" stroke=\"#0000ff\" d=\"M2994.57,-352.18C3068.1,-337.19 3189.9,-312.37 3269.73,-296.1\"/>\n",
       "<polygon fill=\"#0000ff\" stroke=\"#0000ff\" points=\"3270.63,-299.48 3279.73,-294.06 3269.24,-292.62 3270.63,-299.48\"/>\n",
       "<text text-anchor=\"middle\" x=\"3210.19\" y=\"-318.8\" font-family=\"Times,serif\" font-size=\"14.00\">yes, missing</text>\n",
       "</g>\n",
       "<!-- 17 -->\n",
       "<g id=\"node18\" class=\"node\">\n",
       "<title>17</title>\n",
       "<ellipse fill=\"none\" stroke=\"black\" cx=\"995.69\" cy=\"-192\" rx=\"105.88\" ry=\"18\"/>\n",
       "<text text-anchor=\"middle\" x=\"995.69\" y=\"-188.3\" font-family=\"Times,serif\" font-size=\"14.00\">leaf=&#45;0.0489179455</text>\n",
       "</g>\n",
       "<!-- 9&#45;&gt;17 -->\n",
       "<g id=\"edge17\" class=\"edge\">\n",
       "<title>9&#45;&gt;17</title>\n",
       "<path fill=\"none\" stroke=\"#ff0000\" d=\"M1190.05,-262.71C1150.36,-248.47 1091.09,-227.21 1048.44,-211.92\"/>\n",
       "<polygon fill=\"#ff0000\" stroke=\"#ff0000\" points=\"1049.39,-208.54 1038.79,-208.46 1047.02,-215.13 1049.39,-208.54\"/>\n",
       "<text text-anchor=\"middle\" x=\"1141.19\" y=\"-231.8\" font-family=\"Times,serif\" font-size=\"14.00\">yes</text>\n",
       "</g>\n",
       "<!-- 18 -->\n",
       "<g id=\"node19\" class=\"node\">\n",
       "<title>18</title>\n",
       "<ellipse fill=\"none\" stroke=\"black\" cx=\"1232.69\" cy=\"-192\" rx=\"113.18\" ry=\"18\"/>\n",
       "<text text-anchor=\"middle\" x=\"1232.69\" y=\"-188.3\" font-family=\"Times,serif\" font-size=\"14.00\">nrecaidas&lt;4.0877471</text>\n",
       "</g>\n",
       "<!-- 9&#45;&gt;18 -->\n",
       "<g id=\"edge18\" class=\"edge\">\n",
       "<title>9&#45;&gt;18</title>\n",
       "<path fill=\"none\" stroke=\"#0000ff\" d=\"M1232.69,-260.8C1232.69,-249.16 1232.69,-233.55 1232.69,-220.24\"/>\n",
       "<polygon fill=\"#0000ff\" stroke=\"#0000ff\" points=\"1236.19,-220.18 1232.69,-210.18 1229.19,-220.18 1236.19,-220.18\"/>\n",
       "<text text-anchor=\"middle\" x=\"1273.69\" y=\"-231.8\" font-family=\"Times,serif\" font-size=\"14.00\">no, missing</text>\n",
       "</g>\n",
       "<!-- 19 -->\n",
       "<g id=\"node22\" class=\"node\">\n",
       "<title>19</title>\n",
       "<ellipse fill=\"none\" stroke=\"black\" cx=\"1531.69\" cy=\"-192\" rx=\"122.38\" ry=\"18\"/>\n",
       "<text text-anchor=\"middle\" x=\"1531.69\" y=\"-188.3\" font-family=\"Times,serif\" font-size=\"14.00\">past_fest&lt;0.609282911</text>\n",
       "</g>\n",
       "<!-- 10&#45;&gt;19 -->\n",
       "<g id=\"edge21\" class=\"edge\">\n",
       "<title>10&#45;&gt;19</title>\n",
       "<path fill=\"none\" stroke=\"#ff0000\" d=\"M1531.69,-260.8C1531.69,-249.16 1531.69,-233.55 1531.69,-220.24\"/>\n",
       "<polygon fill=\"#ff0000\" stroke=\"#ff0000\" points=\"1535.19,-220.18 1531.69,-210.18 1528.19,-220.18 1535.19,-220.18\"/>\n",
       "<text text-anchor=\"middle\" x=\"1544.19\" y=\"-231.8\" font-family=\"Times,serif\" font-size=\"14.00\">yes</text>\n",
       "</g>\n",
       "<!-- 20 -->\n",
       "<g id=\"node23\" class=\"node\">\n",
       "<title>20</title>\n",
       "<ellipse fill=\"none\" stroke=\"black\" cx=\"1896.69\" cy=\"-192\" rx=\"122.38\" ry=\"18\"/>\n",
       "<text text-anchor=\"middle\" x=\"1896.69\" y=\"-188.3\" font-family=\"Times,serif\" font-size=\"14.00\">next_fest&lt;0.274389654</text>\n",
       "</g>\n",
       "<!-- 10&#45;&gt;20 -->\n",
       "<g id=\"edge22\" class=\"edge\">\n",
       "<title>10&#45;&gt;20</title>\n",
       "<path fill=\"none\" stroke=\"#0000ff\" d=\"M1591.55,-264.06C1655.36,-249.2 1756.39,-225.67 1824.54,-209.8\"/>\n",
       "<polygon fill=\"#0000ff\" stroke=\"#0000ff\" points=\"1825.4,-213.19 1834.35,-207.52 1823.82,-206.38 1825.4,-213.19\"/>\n",
       "<text text-anchor=\"middle\" x=\"1777.69\" y=\"-231.8\" font-family=\"Times,serif\" font-size=\"14.00\">no, missing</text>\n",
       "</g>\n",
       "<!-- 27 -->\n",
       "<g id=\"node20\" class=\"node\">\n",
       "<title>27</title>\n",
       "<ellipse fill=\"none\" stroke=\"black\" cx=\"968.69\" cy=\"-105\" rx=\"100.18\" ry=\"18\"/>\n",
       "<text text-anchor=\"middle\" x=\"968.69\" y=\"-101.3\" font-family=\"Times,serif\" font-size=\"14.00\">leaf=&#45;0.426040173</text>\n",
       "</g>\n",
       "<!-- 18&#45;&gt;27 -->\n",
       "<g id=\"edge19\" class=\"edge\">\n",
       "<title>18&#45;&gt;27</title>\n",
       "<path fill=\"none\" stroke=\"#ff0000\" d=\"M1184.88,-175.61C1139.84,-161.11 1072.36,-139.38 1024.79,-124.06\"/>\n",
       "<polygon fill=\"#ff0000\" stroke=\"#ff0000\" points=\"1025.85,-120.73 1015.26,-120.99 1023.7,-127.39 1025.85,-120.73\"/>\n",
       "<text text-anchor=\"middle\" x=\"1129.19\" y=\"-144.8\" font-family=\"Times,serif\" font-size=\"14.00\">yes</text>\n",
       "</g>\n",
       "<!-- 28 -->\n",
       "<g id=\"node21\" class=\"node\">\n",
       "<title>28</title>\n",
       "<ellipse fill=\"none\" stroke=\"black\" cx=\"1186.69\" cy=\"-105\" rx=\"100.18\" ry=\"18\"/>\n",
       "<text text-anchor=\"middle\" x=\"1186.69\" y=\"-101.3\" font-family=\"Times,serif\" font-size=\"14.00\">leaf=&#45;0.097510919</text>\n",
       "</g>\n",
       "<!-- 18&#45;&gt;28 -->\n",
       "<g id=\"edge20\" class=\"edge\">\n",
       "<title>18&#45;&gt;28</title>\n",
       "<path fill=\"none\" stroke=\"#0000ff\" d=\"M1223.38,-173.8C1216.9,-161.82 1208.13,-145.62 1200.79,-132.06\"/>\n",
       "<polygon fill=\"#0000ff\" stroke=\"#0000ff\" points=\"1203.82,-130.3 1195.99,-123.18 1197.67,-133.64 1203.82,-130.3\"/>\n",
       "<text text-anchor=\"middle\" x=\"1253.69\" y=\"-144.8\" font-family=\"Times,serif\" font-size=\"14.00\">no, missing</text>\n",
       "</g>\n",
       "<!-- 29 -->\n",
       "<g id=\"node24\" class=\"node\">\n",
       "<title>29</title>\n",
       "<ellipse fill=\"none\" stroke=\"black\" cx=\"1401.69\" cy=\"-105\" rx=\"96.68\" ry=\"18\"/>\n",
       "<text text-anchor=\"middle\" x=\"1401.69\" y=\"-101.3\" font-family=\"Times,serif\" font-size=\"14.00\">leaf=0.251102239</text>\n",
       "</g>\n",
       "<!-- 19&#45;&gt;29 -->\n",
       "<g id=\"edge23\" class=\"edge\">\n",
       "<title>19&#45;&gt;29</title>\n",
       "<path fill=\"none\" stroke=\"#ff0000\" d=\"M1506.01,-174.21C1485.76,-160.97 1457.35,-142.39 1435.29,-127.97\"/>\n",
       "<polygon fill=\"#ff0000\" stroke=\"#ff0000\" points=\"1437.16,-125.01 1426.88,-122.47 1433.33,-130.87 1437.16,-125.01\"/>\n",
       "<text text-anchor=\"middle\" x=\"1487.19\" y=\"-144.8\" font-family=\"Times,serif\" font-size=\"14.00\">yes</text>\n",
       "</g>\n",
       "<!-- 30 -->\n",
       "<g id=\"node25\" class=\"node\">\n",
       "<title>30</title>\n",
       "<ellipse fill=\"none\" stroke=\"black\" cx=\"1622.69\" cy=\"-105\" rx=\"105.88\" ry=\"18\"/>\n",
       "<text text-anchor=\"middle\" x=\"1622.69\" y=\"-101.3\" font-family=\"Times,serif\" font-size=\"14.00\">leaf=&#45;0.0156557597</text>\n",
       "</g>\n",
       "<!-- 19&#45;&gt;30 -->\n",
       "<g id=\"edge24\" class=\"edge\">\n",
       "<title>19&#45;&gt;30</title>\n",
       "<path fill=\"none\" stroke=\"#0000ff\" d=\"M1550.11,-173.8C1563.64,-161.16 1582.2,-143.82 1597.16,-129.85\"/>\n",
       "<polygon fill=\"#0000ff\" stroke=\"#0000ff\" points=\"1599.69,-132.27 1604.61,-122.89 1594.92,-127.15 1599.69,-132.27\"/>\n",
       "<text text-anchor=\"middle\" x=\"1623.69\" y=\"-144.8\" font-family=\"Times,serif\" font-size=\"14.00\">no, missing</text>\n",
       "</g>\n",
       "<!-- 31 -->\n",
       "<g id=\"node26\" class=\"node\">\n",
       "<title>31</title>\n",
       "<ellipse fill=\"none\" stroke=\"black\" cx=\"1896.69\" cy=\"-105\" rx=\"150.27\" ry=\"18\"/>\n",
       "<text text-anchor=\"middle\" x=\"1896.69\" y=\"-101.3\" font-family=\"Times,serif\" font-size=\"14.00\">mes_baja:{0,1,2,3,4,5,6,7,11}</text>\n",
       "</g>\n",
       "<!-- 20&#45;&gt;31 -->\n",
       "<g id=\"edge25\" class=\"edge\">\n",
       "<title>20&#45;&gt;31</title>\n",
       "<path fill=\"none\" stroke=\"#ff0000\" d=\"M1896.69,-173.8C1896.69,-162.16 1896.69,-146.55 1896.69,-133.24\"/>\n",
       "<polygon fill=\"#ff0000\" stroke=\"#ff0000\" points=\"1900.19,-133.18 1896.69,-123.18 1893.19,-133.18 1900.19,-133.18\"/>\n",
       "<text text-anchor=\"middle\" x=\"1909.19\" y=\"-144.8\" font-family=\"Times,serif\" font-size=\"14.00\">yes</text>\n",
       "</g>\n",
       "<!-- 32 -->\n",
       "<g id=\"node27\" class=\"node\">\n",
       "<title>32</title>\n",
       "<ellipse fill=\"none\" stroke=\"black\" cx=\"2179.69\" cy=\"-105\" rx=\"114.28\" ry=\"18\"/>\n",
       "<text text-anchor=\"middle\" x=\"2179.69\" y=\"-101.3\" font-family=\"Times,serif\" font-size=\"14.00\">duracion&lt;1.18540621</text>\n",
       "</g>\n",
       "<!-- 20&#45;&gt;32 -->\n",
       "<g id=\"edge26\" class=\"edge\">\n",
       "<title>20&#45;&gt;32</title>\n",
       "<path fill=\"none\" stroke=\"#0000ff\" d=\"M1947.94,-175.61C1996.12,-161.14 2068.27,-139.47 2119.24,-124.16\"/>\n",
       "<polygon fill=\"#0000ff\" stroke=\"#0000ff\" points=\"2120.25,-127.51 2128.82,-121.28 2118.24,-120.8 2120.25,-127.51\"/>\n",
       "<text text-anchor=\"middle\" x=\"2096.69\" y=\"-144.8\" font-family=\"Times,serif\" font-size=\"14.00\">no, missing</text>\n",
       "</g>\n",
       "<!-- 39 -->\n",
       "<g id=\"node28\" class=\"node\">\n",
       "<title>39</title>\n",
       "<ellipse fill=\"none\" stroke=\"black\" cx=\"1678.69\" cy=\"-18\" rx=\"100.18\" ry=\"18\"/>\n",
       "<text text-anchor=\"middle\" x=\"1678.69\" y=\"-14.3\" font-family=\"Times,serif\" font-size=\"14.00\">leaf=&#45;0.123711593</text>\n",
       "</g>\n",
       "<!-- 31&#45;&gt;39 -->\n",
       "<g id=\"edge27\" class=\"edge\">\n",
       "<title>31&#45;&gt;39</title>\n",
       "<path fill=\"none\" stroke=\"#ff0000\" d=\"M1854.66,-87.61C1818.5,-73.51 1766.29,-53.16 1728.13,-38.28\"/>\n",
       "<polygon fill=\"#ff0000\" stroke=\"#ff0000\" points=\"1729.34,-34.99 1718.75,-34.62 1726.8,-41.51 1729.34,-34.99\"/>\n",
       "<text text-anchor=\"middle\" x=\"1810.69\" y=\"-57.8\" font-family=\"Times,serif\" font-size=\"14.00\">no</text>\n",
       "</g>\n",
       "<!-- 40 -->\n",
       "<g id=\"node29\" class=\"node\">\n",
       "<title>40</title>\n",
       "<ellipse fill=\"none\" stroke=\"black\" cx=\"1896.69\" cy=\"-18\" rx=\"100.18\" ry=\"18\"/>\n",
       "<text text-anchor=\"middle\" x=\"1896.69\" y=\"-14.3\" font-family=\"Times,serif\" font-size=\"14.00\">leaf=&#45;0.410438567</text>\n",
       "</g>\n",
       "<!-- 31&#45;&gt;40 -->\n",
       "<g id=\"edge28\" class=\"edge\">\n",
       "<title>31&#45;&gt;40</title>\n",
       "<path fill=\"none\" stroke=\"#0000ff\" d=\"M1896.69,-86.8C1896.69,-75.16 1896.69,-59.55 1896.69,-46.24\"/>\n",
       "<polygon fill=\"#0000ff\" stroke=\"#0000ff\" points=\"1900.19,-46.18 1896.69,-36.18 1893.19,-46.18 1900.19,-46.18\"/>\n",
       "<text text-anchor=\"middle\" x=\"1941.19\" y=\"-57.8\" font-family=\"Times,serif\" font-size=\"14.00\">yes, missing</text>\n",
       "</g>\n",
       "<!-- 41 -->\n",
       "<g id=\"node30\" class=\"node\">\n",
       "<title>41</title>\n",
       "<ellipse fill=\"none\" stroke=\"black\" cx=\"2111.69\" cy=\"-18\" rx=\"96.68\" ry=\"18\"/>\n",
       "<text text-anchor=\"middle\" x=\"2111.69\" y=\"-14.3\" font-family=\"Times,serif\" font-size=\"14.00\">leaf=0.252280325</text>\n",
       "</g>\n",
       "<!-- 32&#45;&gt;41 -->\n",
       "<g id=\"edge29\" class=\"edge\">\n",
       "<title>32&#45;&gt;41</title>\n",
       "<path fill=\"none\" stroke=\"#ff0000\" d=\"M2165.93,-86.8C2156.1,-74.51 2142.71,-57.77 2131.7,-44.01\"/>\n",
       "<polygon fill=\"#ff0000\" stroke=\"#ff0000\" points=\"2134.18,-41.51 2125.2,-35.89 2128.71,-45.88 2134.18,-41.51\"/>\n",
       "<text text-anchor=\"middle\" x=\"2163.19\" y=\"-57.8\" font-family=\"Times,serif\" font-size=\"14.00\">yes</text>\n",
       "</g>\n",
       "<!-- 42 -->\n",
       "<g id=\"node31\" class=\"node\">\n",
       "<title>42</title>\n",
       "<ellipse fill=\"none\" stroke=\"black\" cx=\"2326.69\" cy=\"-18\" rx=\"100.18\" ry=\"18\"/>\n",
       "<text text-anchor=\"middle\" x=\"2326.69\" y=\"-14.3\" font-family=\"Times,serif\" font-size=\"14.00\">leaf=&#45;0.242048919</text>\n",
       "</g>\n",
       "<!-- 32&#45;&gt;42 -->\n",
       "<g id=\"edge30\" class=\"edge\">\n",
       "<title>32&#45;&gt;42</title>\n",
       "<path fill=\"none\" stroke=\"#0000ff\" d=\"M2208.38,-87.41C2231.53,-74.03 2264.25,-55.1 2289.42,-40.55\"/>\n",
       "<polygon fill=\"#0000ff\" stroke=\"#0000ff\" points=\"2291.42,-43.44 2298.32,-35.4 2287.91,-37.38 2291.42,-43.44\"/>\n",
       "<text text-anchor=\"middle\" x=\"2303.69\" y=\"-57.8\" font-family=\"Times,serif\" font-size=\"14.00\">no, missing</text>\n",
       "</g>\n",
       "<!-- 21 -->\n",
       "<g id=\"node34\" class=\"node\">\n",
       "<title>21</title>\n",
       "<ellipse fill=\"none\" stroke=\"black\" cx=\"2762.69\" cy=\"-192\" rx=\"106.68\" ry=\"18\"/>\n",
       "<text text-anchor=\"middle\" x=\"2762.69\" y=\"-188.3\" font-family=\"Times,serif\" font-size=\"14.00\">dur_std&lt;&#45;0.4945409</text>\n",
       "</g>\n",
       "<!-- 11&#45;&gt;21 -->\n",
       "<g id=\"edge33\" class=\"edge\">\n",
       "<title>11&#45;&gt;21</title>\n",
       "<path fill=\"none\" stroke=\"#ff0000\" d=\"M2899.11,-261.61C2872.02,-247.99 2833.3,-228.51 2804.03,-213.79\"/>\n",
       "<polygon fill=\"#ff0000\" stroke=\"#ff0000\" points=\"2805.4,-210.56 2794.89,-209.19 2802.25,-216.81 2805.4,-210.56\"/>\n",
       "<text text-anchor=\"middle\" x=\"2870.19\" y=\"-231.8\" font-family=\"Times,serif\" font-size=\"14.00\">yes</text>\n",
       "</g>\n",
       "<!-- 22 -->\n",
       "<g id=\"node35\" class=\"node\">\n",
       "<title>22</title>\n",
       "<ellipse fill=\"none\" stroke=\"black\" cx=\"3077.69\" cy=\"-192\" rx=\"102.88\" ry=\"18\"/>\n",
       "<text text-anchor=\"middle\" x=\"3077.69\" y=\"-188.3\" font-family=\"Times,serif\" font-size=\"14.00\">edad&lt;0.999347746</text>\n",
       "</g>\n",
       "<!-- 11&#45;&gt;22 -->\n",
       "<g id=\"edge34\" class=\"edge\">\n",
       "<title>11&#45;&gt;22</title>\n",
       "<path fill=\"none\" stroke=\"#0000ff\" d=\"M2960.19,-261.41C2983.1,-248.07 3015.47,-229.22 3040.43,-214.69\"/>\n",
       "<polygon fill=\"#0000ff\" stroke=\"#0000ff\" points=\"3042.38,-217.6 3049.27,-209.55 3038.86,-211.56 3042.38,-217.6\"/>\n",
       "<text text-anchor=\"middle\" x=\"3054.69\" y=\"-231.8\" font-family=\"Times,serif\" font-size=\"14.00\">no, missing</text>\n",
       "</g>\n",
       "<!-- 23 -->\n",
       "<g id=\"node46\" class=\"node\">\n",
       "<title>23</title>\n",
       "<ellipse fill=\"none\" stroke=\"black\" cx=\"3348.69\" cy=\"-192\" rx=\"105.88\" ry=\"18\"/>\n",
       "<text text-anchor=\"middle\" x=\"3348.69\" y=\"-188.3\" font-family=\"Times,serif\" font-size=\"14.00\">leaf=&#45;0.0324313678</text>\n",
       "</g>\n",
       "<!-- 12&#45;&gt;23 -->\n",
       "<g id=\"edge45\" class=\"edge\">\n",
       "<title>12&#45;&gt;23</title>\n",
       "<path fill=\"none\" stroke=\"#ff0000\" d=\"M3348.69,-260.8C3348.69,-249.16 3348.69,-233.55 3348.69,-220.24\"/>\n",
       "<polygon fill=\"#ff0000\" stroke=\"#ff0000\" points=\"3352.19,-220.18 3348.69,-210.18 3345.19,-220.18 3352.19,-220.18\"/>\n",
       "<text text-anchor=\"middle\" x=\"3361.19\" y=\"-231.8\" font-family=\"Times,serif\" font-size=\"14.00\">yes</text>\n",
       "</g>\n",
       "<!-- 24 -->\n",
       "<g id=\"node47\" class=\"node\">\n",
       "<title>24</title>\n",
       "<ellipse fill=\"none\" stroke=\"black\" cx=\"3600.69\" cy=\"-192\" rx=\"104.78\" ry=\"18\"/>\n",
       "<text text-anchor=\"middle\" x=\"3600.69\" y=\"-188.3\" font-family=\"Times,serif\" font-size=\"14.00\">v_std&lt;0.135606796</text>\n",
       "</g>\n",
       "<!-- 12&#45;&gt;24 -->\n",
       "<g id=\"edge46\" class=\"edge\">\n",
       "<title>12&#45;&gt;24</title>\n",
       "<path fill=\"none\" stroke=\"#0000ff\" d=\"M3395.5,-262.21C3438.07,-247.85 3500.91,-226.66 3545.82,-211.51\"/>\n",
       "<polygon fill=\"#0000ff\" stroke=\"#0000ff\" points=\"3547.05,-214.79 3555.41,-208.27 3544.81,-208.15 3547.05,-214.79\"/>\n",
       "<text text-anchor=\"middle\" x=\"3531.69\" y=\"-231.8\" font-family=\"Times,serif\" font-size=\"14.00\">no, missing</text>\n",
       "</g>\n",
       "<!-- 33 -->\n",
       "<g id=\"node36\" class=\"node\">\n",
       "<title>33</title>\n",
       "<ellipse fill=\"none\" stroke=\"black\" cx=\"2595.69\" cy=\"-105\" rx=\"96.68\" ry=\"18\"/>\n",
       "<text text-anchor=\"middle\" x=\"2595.69\" y=\"-101.3\" font-family=\"Times,serif\" font-size=\"14.00\">leaf=0.092017144</text>\n",
       "</g>\n",
       "<!-- 21&#45;&gt;33 -->\n",
       "<g id=\"edge35\" class=\"edge\">\n",
       "<title>21&#45;&gt;33</title>\n",
       "<path fill=\"none\" stroke=\"#0000ff\" d=\"M2715.88,-175.81C2700.81,-170.29 2684.25,-163.53 2669.69,-156 2654.55,-148.17 2638.77,-137.85 2625.69,-128.62\"/>\n",
       "<polygon fill=\"#0000ff\" stroke=\"#0000ff\" points=\"2627.68,-125.74 2617.52,-122.74 2623.59,-131.42 2627.68,-125.74\"/>\n",
       "<text text-anchor=\"middle\" x=\"2714.19\" y=\"-144.8\" font-family=\"Times,serif\" font-size=\"14.00\">yes, missing</text>\n",
       "</g>\n",
       "<!-- 34 -->\n",
       "<g id=\"node37\" class=\"node\">\n",
       "<title>34</title>\n",
       "<ellipse fill=\"none\" stroke=\"black\" cx=\"2762.69\" cy=\"-105\" rx=\"51.99\" ry=\"18\"/>\n",
       "<text text-anchor=\"middle\" x=\"2762.69\" y=\"-101.3\" font-family=\"Times,serif\" font-size=\"14.00\">mpq:{0}</text>\n",
       "</g>\n",
       "<!-- 21&#45;&gt;34 -->\n",
       "<g id=\"edge36\" class=\"edge\">\n",
       "<title>21&#45;&gt;34</title>\n",
       "<path fill=\"none\" stroke=\"#ff0000\" d=\"M2762.69,-173.8C2762.69,-162.16 2762.69,-146.55 2762.69,-133.24\"/>\n",
       "<polygon fill=\"#ff0000\" stroke=\"#ff0000\" points=\"2766.19,-133.18 2762.69,-123.18 2759.19,-133.18 2766.19,-133.18\"/>\n",
       "<text text-anchor=\"middle\" x=\"2771.69\" y=\"-144.8\" font-family=\"Times,serif\" font-size=\"14.00\">no</text>\n",
       "</g>\n",
       "<!-- 35 -->\n",
       "<g id=\"node40\" class=\"node\">\n",
       "<title>35</title>\n",
       "<ellipse fill=\"none\" stroke=\"black\" cx=\"3077.69\" cy=\"-105\" rx=\"122.38\" ry=\"18\"/>\n",
       "<text text-anchor=\"middle\" x=\"3077.69\" y=\"-101.3\" font-family=\"Times,serif\" font-size=\"14.00\">past_fest&lt;0.609282911</text>\n",
       "</g>\n",
       "<!-- 22&#45;&gt;35 -->\n",
       "<g id=\"edge39\" class=\"edge\">\n",
       "<title>22&#45;&gt;35</title>\n",
       "<path fill=\"none\" stroke=\"#ff0000\" d=\"M3077.69,-173.8C3077.69,-162.16 3077.69,-146.55 3077.69,-133.24\"/>\n",
       "<polygon fill=\"#ff0000\" stroke=\"#ff0000\" points=\"3081.19,-133.18 3077.69,-123.18 3074.19,-133.18 3081.19,-133.18\"/>\n",
       "<text text-anchor=\"middle\" x=\"3090.19\" y=\"-144.8\" font-family=\"Times,serif\" font-size=\"14.00\">yes</text>\n",
       "</g>\n",
       "<!-- 36 -->\n",
       "<g id=\"node41\" class=\"node\">\n",
       "<title>36</title>\n",
       "<ellipse fill=\"none\" stroke=\"black\" cx=\"3385.69\" cy=\"-105\" rx=\"96.68\" ry=\"18\"/>\n",
       "<text text-anchor=\"middle\" x=\"3385.69\" y=\"-101.3\" font-family=\"Times,serif\" font-size=\"14.00\">edad&lt;1.27973986</text>\n",
       "</g>\n",
       "<!-- 22&#45;&gt;36 -->\n",
       "<g id=\"edge40\" class=\"edge\">\n",
       "<title>22&#45;&gt;36</title>\n",
       "<path fill=\"none\" stroke=\"#0000ff\" d=\"M3130.29,-176.48C3184.02,-161.66 3267.39,-138.65 3324.16,-122.98\"/>\n",
       "<polygon fill=\"#0000ff\" stroke=\"#0000ff\" points=\"3325.37,-126.28 3334.08,-120.24 3323.51,-119.53 3325.37,-126.28\"/>\n",
       "<text text-anchor=\"middle\" x=\"3291.69\" y=\"-144.8\" font-family=\"Times,serif\" font-size=\"14.00\">no, missing</text>\n",
       "</g>\n",
       "<!-- 43 -->\n",
       "<g id=\"node38\" class=\"node\">\n",
       "<title>43</title>\n",
       "<ellipse fill=\"none\" stroke=\"black\" cx=\"2544.69\" cy=\"-18\" rx=\"100.18\" ry=\"18\"/>\n",
       "<text text-anchor=\"middle\" x=\"2544.69\" y=\"-14.3\" font-family=\"Times,serif\" font-size=\"14.00\">leaf=&#45;0.417200923</text>\n",
       "</g>\n",
       "<!-- 34&#45;&gt;43 -->\n",
       "<g id=\"edge37\" class=\"edge\">\n",
       "<title>34&#45;&gt;43</title>\n",
       "<path fill=\"none\" stroke=\"#ff0000\" d=\"M2729.58,-91.09C2693.56,-77.04 2635.58,-54.44 2594.15,-38.29\"/>\n",
       "<polygon fill=\"#ff0000\" stroke=\"#ff0000\" points=\"2595.38,-35.01 2584.79,-34.64 2592.84,-41.53 2595.38,-35.01\"/>\n",
       "<text text-anchor=\"middle\" x=\"2676.69\" y=\"-57.8\" font-family=\"Times,serif\" font-size=\"14.00\">no</text>\n",
       "</g>\n",
       "<!-- 44 -->\n",
       "<g id=\"node39\" class=\"node\">\n",
       "<title>44</title>\n",
       "<ellipse fill=\"none\" stroke=\"black\" cx=\"2762.69\" cy=\"-18\" rx=\"100.18\" ry=\"18\"/>\n",
       "<text text-anchor=\"middle\" x=\"2762.69\" y=\"-14.3\" font-family=\"Times,serif\" font-size=\"14.00\">leaf=&#45;0.020149501</text>\n",
       "</g>\n",
       "<!-- 34&#45;&gt;44 -->\n",
       "<g id=\"edge38\" class=\"edge\">\n",
       "<title>34&#45;&gt;44</title>\n",
       "<path fill=\"none\" stroke=\"#0000ff\" d=\"M2762.69,-86.8C2762.69,-75.16 2762.69,-59.55 2762.69,-46.24\"/>\n",
       "<polygon fill=\"#0000ff\" stroke=\"#0000ff\" points=\"2766.19,-46.18 2762.69,-36.18 2759.19,-46.18 2766.19,-46.18\"/>\n",
       "<text text-anchor=\"middle\" x=\"2807.19\" y=\"-57.8\" font-family=\"Times,serif\" font-size=\"14.00\">yes, missing</text>\n",
       "</g>\n",
       "<!-- 45 -->\n",
       "<g id=\"node42\" class=\"node\">\n",
       "<title>45</title>\n",
       "<ellipse fill=\"none\" stroke=\"black\" cx=\"2980.69\" cy=\"-18\" rx=\"100.18\" ry=\"18\"/>\n",
       "<text text-anchor=\"middle\" x=\"2980.69\" y=\"-14.3\" font-family=\"Times,serif\" font-size=\"14.00\">leaf=&#45;0.147492141</text>\n",
       "</g>\n",
       "<!-- 35&#45;&gt;45 -->\n",
       "<g id=\"edge41\" class=\"edge\">\n",
       "<title>35&#45;&gt;45</title>\n",
       "<path fill=\"none\" stroke=\"#ff0000\" d=\"M3058.53,-87.21C3043.91,-74.4 3023.61,-56.61 3007.4,-42.4\"/>\n",
       "<polygon fill=\"#ff0000\" stroke=\"#ff0000\" points=\"3009.64,-39.72 2999.82,-35.76 3005.03,-44.98 3009.64,-39.72\"/>\n",
       "<text text-anchor=\"middle\" x=\"3048.19\" y=\"-57.8\" font-family=\"Times,serif\" font-size=\"14.00\">yes</text>\n",
       "</g>\n",
       "<!-- 46 -->\n",
       "<g id=\"node43\" class=\"node\">\n",
       "<title>46</title>\n",
       "<ellipse fill=\"none\" stroke=\"black\" cx=\"3195.69\" cy=\"-18\" rx=\"96.68\" ry=\"18\"/>\n",
       "<text text-anchor=\"middle\" x=\"3195.69\" y=\"-14.3\" font-family=\"Times,serif\" font-size=\"14.00\">leaf=0.111955188</text>\n",
       "</g>\n",
       "<!-- 35&#45;&gt;46 -->\n",
       "<g id=\"edge42\" class=\"edge\">\n",
       "<title>35&#45;&gt;46</title>\n",
       "<path fill=\"none\" stroke=\"#0000ff\" d=\"M3101,-87.21C3119.11,-74.17 3144.38,-55.96 3164.27,-41.63\"/>\n",
       "<polygon fill=\"#0000ff\" stroke=\"#0000ff\" points=\"3166.36,-44.44 3172.43,-35.76 3162.27,-38.76 3166.36,-44.44\"/>\n",
       "<text text-anchor=\"middle\" x=\"3185.69\" y=\"-57.8\" font-family=\"Times,serif\" font-size=\"14.00\">no, missing</text>\n",
       "</g>\n",
       "<!-- 47 -->\n",
       "<g id=\"node44\" class=\"node\">\n",
       "<title>47</title>\n",
       "<ellipse fill=\"none\" stroke=\"black\" cx=\"3407.69\" cy=\"-18\" rx=\"96.68\" ry=\"18\"/>\n",
       "<text text-anchor=\"middle\" x=\"3407.69\" y=\"-14.3\" font-family=\"Times,serif\" font-size=\"14.00\">leaf=0.427852809</text>\n",
       "</g>\n",
       "<!-- 36&#45;&gt;47 -->\n",
       "<g id=\"edge43\" class=\"edge\">\n",
       "<title>36&#45;&gt;47</title>\n",
       "<path fill=\"none\" stroke=\"#ff0000\" d=\"M3390.14,-86.8C3393.15,-75.16 3397.2,-59.55 3400.64,-46.24\"/>\n",
       "<polygon fill=\"#ff0000\" stroke=\"#ff0000\" points=\"3404.13,-46.73 3403.25,-36.18 3397.35,-44.98 3404.13,-46.73\"/>\n",
       "<text text-anchor=\"middle\" x=\"3411.19\" y=\"-57.8\" font-family=\"Times,serif\" font-size=\"14.00\">yes</text>\n",
       "</g>\n",
       "<!-- 48 -->\n",
       "<g id=\"node45\" class=\"node\">\n",
       "<title>48</title>\n",
       "<ellipse fill=\"none\" stroke=\"black\" cx=\"3628.69\" cy=\"-18\" rx=\"105.88\" ry=\"18\"/>\n",
       "<text text-anchor=\"middle\" x=\"3628.69\" y=\"-14.3\" font-family=\"Times,serif\" font-size=\"14.00\">leaf=&#45;0.0340133049</text>\n",
       "</g>\n",
       "<!-- 36&#45;&gt;48 -->\n",
       "<g id=\"edge44\" class=\"edge\">\n",
       "<title>36&#45;&gt;48</title>\n",
       "<path fill=\"none\" stroke=\"#0000ff\" d=\"M3429.13,-88.8C3469.87,-74.55 3530.92,-53.2 3574.76,-37.87\"/>\n",
       "<polygon fill=\"#0000ff\" stroke=\"#0000ff\" points=\"3576.11,-41.1 3584.39,-34.5 3573.8,-34.49 3576.11,-41.1\"/>\n",
       "<text text-anchor=\"middle\" x=\"3563.69\" y=\"-57.8\" font-family=\"Times,serif\" font-size=\"14.00\">no, missing</text>\n",
       "</g>\n",
       "<!-- 37 -->\n",
       "<g id=\"node48\" class=\"node\">\n",
       "<title>37</title>\n",
       "<ellipse fill=\"none\" stroke=\"black\" cx=\"3600.69\" cy=\"-105\" rx=\"100.18\" ry=\"18\"/>\n",
       "<text text-anchor=\"middle\" x=\"3600.69\" y=\"-101.3\" font-family=\"Times,serif\" font-size=\"14.00\">leaf=&#45;0.121567085</text>\n",
       "</g>\n",
       "<!-- 24&#45;&gt;37 -->\n",
       "<g id=\"edge47\" class=\"edge\">\n",
       "<title>24&#45;&gt;37</title>\n",
       "<path fill=\"none\" stroke=\"#ff0000\" d=\"M3600.69,-173.8C3600.69,-162.16 3600.69,-146.55 3600.69,-133.24\"/>\n",
       "<polygon fill=\"#ff0000\" stroke=\"#ff0000\" points=\"3604.19,-133.18 3600.69,-123.18 3597.19,-133.18 3604.19,-133.18\"/>\n",
       "<text text-anchor=\"middle\" x=\"3613.19\" y=\"-144.8\" font-family=\"Times,serif\" font-size=\"14.00\">yes</text>\n",
       "</g>\n",
       "<!-- 38 -->\n",
       "<g id=\"node49\" class=\"node\">\n",
       "<title>38</title>\n",
       "<ellipse fill=\"none\" stroke=\"black\" cx=\"3818.69\" cy=\"-105\" rx=\"100.18\" ry=\"18\"/>\n",
       "<text text-anchor=\"middle\" x=\"3818.69\" y=\"-101.3\" font-family=\"Times,serif\" font-size=\"14.00\">leaf=&#45;0.430638701</text>\n",
       "</g>\n",
       "<!-- 24&#45;&gt;38 -->\n",
       "<g id=\"edge48\" class=\"edge\">\n",
       "<title>24&#45;&gt;38</title>\n",
       "<path fill=\"none\" stroke=\"#0000ff\" d=\"M3640.93,-175.31C3677.11,-161.2 3730.37,-140.44 3769.16,-125.31\"/>\n",
       "<polygon fill=\"#0000ff\" stroke=\"#0000ff\" points=\"3770.64,-128.49 3778.69,-121.6 3768.1,-121.97 3770.64,-128.49\"/>\n",
       "<text text-anchor=\"middle\" x=\"3764.69\" y=\"-144.8\" font-family=\"Times,serif\" font-size=\"14.00\">no, missing</text>\n",
       "</g>\n",
       "</g>\n",
       "</svg>\n"
      ],
      "text/plain": [
       "<graphviz.sources.Source at 0x7f4107fce910>"
      ]
     },
     "execution_count": 119,
     "metadata": {},
     "output_type": "execute_result"
    }
   ],
   "source": [
    "graph"
   ]
  },
  {
   "cell_type": "code",
   "execution_count": 266,
   "id": "62a7ed75",
   "metadata": {},
   "outputs": [
    {
     "data": {
      "text/plain": [
       "0.6791417165668663"
      ]
     },
     "execution_count": 266,
     "metadata": {},
     "output_type": "execute_result"
    }
   ],
   "source": [
    "clf.score(X_test,Y_test)"
   ]
  },
  {
   "cell_type": "code",
   "execution_count": 258,
   "id": "b570df15",
   "metadata": {},
   "outputs": [
    {
     "data": {
      "text/plain": [
       "0    1419\n",
       "1     585\n",
       "Name: resultado, dtype: int64"
      ]
     },
     "execution_count": 258,
     "metadata": {},
     "output_type": "execute_result"
    }
   ],
   "source": [
    "Y_test.value_counts()"
   ]
  },
  {
   "cell_type": "code",
   "execution_count": 121,
   "id": "a29303ea",
   "metadata": {},
   "outputs": [
    {
     "data": {
      "text/plain": [
       "Index(['sexo', 'base_coti', 'i_auto', 'sist_es', 'cese', 'c2', 'c4', 'c5',\n",
       "       'c10', 'c12', 'es_atipico', 'es_recaida', 'hay_at_previo', 'duracion',\n",
       "       'dur_previo', 'dur_std', 'v_std', 'd_sem_baja', 'mes_baja',\n",
       "       'es_trafico', 'es_pl_empleado', 'es_pl_activo', 'es_pago_dir',\n",
       "       'es_susp_ext', 'es_derecho_cobro', 'es_alta_prev_insp',\n",
       "       'es_recaida_ip_denegada', 'mpq', 'edad', 'naltas', 'provincia',\n",
       "       'next_fest', 'past_fest', 'es_atrium', 'prop_atrium', 'resp_atrium',\n",
       "       'motivo_pd', 'nrehab', 'nbio', 'dist_ult_baja', 'avg_altas',\n",
       "       'alta_oficio', 'nrecaidas', 'ncasos', 'diff_ant_caso',\n",
       "       'diff_ant_med_adm', 'mean_ant_med_adm', 'prev_rechazado',\n",
       "       'diff_alta_adm_med', 'es_alta_adm_post_med2'],\n",
       "      dtype='object')"
      ]
     },
     "execution_count": 121,
     "metadata": {},
     "output_type": "execute_result"
    }
   ],
   "source": [
    "X.columns"
   ]
  },
  {
   "cell_type": "code",
   "execution_count": 150,
   "id": "e6a97158",
   "metadata": {},
   "outputs": [],
   "source": [
    "y_pred = clf.predict(X_test)"
   ]
  },
  {
   "cell_type": "code",
   "execution_count": 123,
   "id": "616e12e3",
   "metadata": {},
   "outputs": [
    {
     "data": {
      "text/plain": [
       "2032    0\n",
       "8465    0\n",
       "7916    1\n",
       "6169    1\n",
       "5953    0\n",
       "       ..\n",
       "6489    0\n",
       "9237    0\n",
       "3624    1\n",
       "2509    0\n",
       "7332    0\n",
       "Name: resultado, Length: 138, dtype: int64"
      ]
     },
     "execution_count": 123,
     "metadata": {},
     "output_type": "execute_result"
    }
   ],
   "source": [
    "Y_test"
   ]
  },
  {
   "cell_type": "code",
   "execution_count": 124,
   "id": "527f85de",
   "metadata": {},
   "outputs": [
    {
     "data": {
      "text/plain": [
       "array([[52, 18],\n",
       "       [18, 50]])"
      ]
     },
     "execution_count": 124,
     "metadata": {},
     "output_type": "execute_result"
    }
   ],
   "source": [
    "from sklearn.metrics import confusion_matrix, ConfusionMatrixDisplay, classification_report\n",
    "confusion_matrix(Y_test,y_pred)"
   ]
  },
  {
   "cell_type": "code",
   "execution_count": 125,
   "id": "3a765bcf",
   "metadata": {},
   "outputs": [
    {
     "name": "stdout",
     "output_type": "stream",
     "text": [
      "              precision    recall  f1-score   support\n",
      "\n",
      "           0       0.74      0.74      0.74        70\n",
      "           1       0.74      0.74      0.74        68\n",
      "\n",
      "    accuracy                           0.74       138\n",
      "   macro avg       0.74      0.74      0.74       138\n",
      "weighted avg       0.74      0.74      0.74       138\n",
      "\n"
     ]
    }
   ],
   "source": [
    "print(classification_report(Y_test,y_pred))"
   ]
  },
  {
   "cell_type": "code",
   "execution_count": 126,
   "id": "b243958b",
   "metadata": {},
   "outputs": [],
   "source": [
    "X_sindetective = x.loc[~condition,:]\n",
    "Y_sindetective = y[~condition]"
   ]
  },
  {
   "cell_type": "code",
   "execution_count": 127,
   "id": "a52e273d",
   "metadata": {},
   "outputs": [],
   "source": [
    "X_sindetective, scaler = scale(X_sindetective,scaler=scaler)"
   ]
  },
  {
   "cell_type": "code",
   "execution_count": 128,
   "id": "5e47eedf",
   "metadata": {},
   "outputs": [],
   "source": [
    "y_pred_sin = clf.predict(X_sindetective)"
   ]
  },
  {
   "cell_type": "code",
   "execution_count": 222,
   "id": "8a7b6707",
   "metadata": {},
   "outputs": [
    {
     "name": "stdout",
     "output_type": "stream",
     "text": [
      "Variable                 Type              Data/Info\n",
      "----------------------------------------------------\n",
      "ConfusionMatrixDisplay   type              <class 'sklearn.metrics._<...>.ConfusionMatrixDisplay'>\n",
      "DetCurveDisplay          type              <class 'sklearn.metrics._<...>t_curve.DetCurveDisplay'>\n",
      "RocCurveDisplay          type              <class 'sklearn.metrics._<...>c_curve.RocCurveDisplay'>\n",
      "StandardScaler           type              <class 'sklearn.preproces<...>ng._data.StandardScaler'>\n",
      "X                        DataFrame               sexo  base_coti i_a<...>\\n[687 rows x 50 columns]\n",
      "X_sindetective           DataFrame               base_coti  duracion<...>n[9331 rows x 50 columns]\n",
      "X_test                   DataFrame              base_coti  duracion <...>\\n[138 rows x 50 columns]\n",
      "X_train                  DataFrame              base_coti  duracion <...>\\n[549 rows x 50 columns]\n",
      "Y                        Series            1        1\\n18       0\\n2<...>Length: 687, dtype: int64\n",
      "Y_sindetective           Series            0        -1\\n2        -1\\<...>ngth: 9331, dtype: object\n",
      "Y_test                   Series            2032    0\\n8465    0\\n791<...>Length: 138, dtype: int64\n",
      "Y_train                  Series            5484    0\\n6180    1\\n236<...>Length: 549, dtype: int64\n",
      "ast                      module            <module 'ast' from '/home<...>.6/lib/python3.8/ast.py'>\n",
      "auc                      function          <function auc at 0x7f40fe4678b0>\n",
      "classification_report    function          <function classification_<...>report at 0x7f40fe3bca60>\n",
      "clf                      XGBClassifier     XGBClassifier(base_score=<...>pha=0, reg_lambda=1, ...)\n",
      "col                      tuple             n=2\n",
      "condition                Series            0        False\\n1        <...>ength: 10018, dtype: bool\n",
      "confusion_matrix         function          <function confusion_matrix at 0x7f40fe3bc1f0>\n",
      "convert_dict             dict              n=22\n",
      "dat                      DataFrame           historico registro ent_<...>1                     n  \n",
      "data                     DataFrame               sexo  base_coti i_a<...>[10018 rows x 51 columns]\n",
      "dataplot                 DataFrame                    nsin       nca<...>10018 rows x 111 columns]\n",
      "date_cols                list              n=17\n",
      "df                       DataFrame                    nsin       nca<...>10018 rows x 113 columns]\n",
      "fpr                      list              n=1002\n",
      "graph                    Source            digraph {\\n    graph [ ra<...>leaf=-0.430638701\" ]\\n}\\n\n",
      "i                        int               0\n",
      "lw                       int               2\n",
      "new                      DataFrame           diff_alta_adm_med es_al<...>  n                     n\n",
      "np                       module            <module 'numpy' from '/ho<...>kages/numpy/__init__.py'>\n",
      "path2                    str               nuevoMutua.csv\n",
      "pd                       module            <module 'pandas' from '/h<...>ages/pandas/__init__.py'>\n",
      "plt                      module            <module 'matplotlib.pyplo<...>es/matplotlib/pyplot.py'>\n",
      "roc_auc                  float64           0.8186974789915966\n",
      "roc_auc_score            function          <function roc_auc_score at 0x7f40fe467ee0>\n",
      "roc_casera               function          <function roc_casera at 0x7f40d6f05ca0>\n",
      "roc_curve                function          <function roc_curve at 0x7f40fe3b1160>\n",
      "scale                    function          <function scale at 0x7f40df78c820>\n",
      "scaler                   StandardScaler    StandardScaler()\n",
      "selectFromDat            function          <function selectFromDat at 0x7f40e553bee0>\n",
      "sns                      module            <module 'seaborn' from '/<...>ges/seaborn/__init__.py'>\n",
      "tablas                   list              n=7\n",
      "tablas_en_csv            function          <function tablas_en_csv at 0x7f40e581dd30>\n",
      "tablasdf                 dict              n=7\n",
      "threshold_of_interest    float32           0.61267805\n",
      "tpr                      list              n=1002\n",
      "train_test_split         function          <function train_test_split at 0x7f40fe45a3a0>\n",
      "txt                      float64           0.990990990891901\n",
      "val                      str               Sin detective\n",
      "x                        float64           0.014285714285714285\n",
      "xgb                      module            <module 'xgboost' from '/<...>ges/xgboost/__init__.py'>\n",
      "y                        float64           0.36764705882352944\n",
      "y_pred                   ndarray           138: 138 elems, type `int64`, 1104 bytes\n",
      "y_pred_sin               ndarray           9331: 9331 elems, type `int64`, 74648 bytes\n",
      "y_test                   ndarray           138: 138 elems, type `int64`, 1104 bytes\n"
     ]
    }
   ],
   "source": [
    "%whos"
   ]
  },
  {
   "cell_type": "code",
   "execution_count": 129,
   "id": "e8e83460",
   "metadata": {},
   "outputs": [
    {
     "data": {
      "text/plain": [
       "0    6823\n",
       "1    2508\n",
       "dtype: int64"
      ]
     },
     "execution_count": 129,
     "metadata": {},
     "output_type": "execute_result"
    }
   ],
   "source": [
    "pd.Series(y_pred_sin).value_counts()"
   ]
  },
  {
   "cell_type": "raw",
   "id": "5ca6f777",
   "metadata": {},
   "source": [
    "val = pd.concat([X,y], axis=1)"
   ]
  },
  {
   "cell_type": "raw",
   "id": "ee2f8127",
   "metadata": {},
   "source": [
    "val = val[val[\"resultado\"] == 1]\n",
    "val.boxplot(column=\"resultado\", by = \"med_clave\")"
   ]
  },
  {
   "cell_type": "raw",
   "id": "e90b8d45",
   "metadata": {},
   "source": [
    "val = val[val[\"resultado\"] == 1]"
   ]
  },
  {
   "cell_type": "raw",
   "id": "06c5e8c4",
   "metadata": {},
   "source": [
    "keys = val[\"med_clave\"].value_counts().keys()"
   ]
  },
  {
   "cell_type": "raw",
   "id": "97f76ec0",
   "metadata": {},
   "source": [
    "for i in keys:\n",
    "    ones = sum(val[val[\"med_clave\"] == i][\"resultado\"] == 1)\n",
    "    total = len(val[val[\"med_clave\"] == i])\n",
    "    if total == 0:\n",
    "        continue\n",
    "    print(f'Clave {i}: {ones/total * 100}\\n\\t{total}')"
   ]
  },
  {
   "cell_type": "raw",
   "id": "90adbdf4",
   "metadata": {},
   "source": [
    "X"
   ]
  },
  {
   "cell_type": "raw",
   "id": "1d826e6b",
   "metadata": {},
   "source": [
    "[val[\"med_clave\"] == \"119\"]"
   ]
  },
  {
   "cell_type": "raw",
   "id": "839e8e1c",
   "metadata": {},
   "source": [
    "df[df[\"med_clave\"]==\"119\"][\"resultado\"].value_counts()"
   ]
  },
  {
   "cell_type": "code",
   "execution_count": 47,
   "id": "7130d310",
   "metadata": {},
   "outputs": [],
   "source": [
    "import seaborn as sns "
   ]
  },
  {
   "cell_type": "code",
   "execution_count": null,
   "id": "16ae5c37",
   "metadata": {},
   "outputs": [],
   "source": [
    "\n",
    "fig = plt.figure(figsize=(12,10))\n",
    "sns.stripplot(x = \"mes_baja\", y = \"resultado\", data=df, size=3, linewidth=1)"
   ]
  },
  {
   "cell_type": "code",
   "execution_count": 130,
   "id": "366a0965",
   "metadata": {},
   "outputs": [],
   "source": [
    "from sklearn.metrics import roc_curve, auc, roc_auc_score"
   ]
  },
  {
   "cell_type": "code",
   "execution_count": 147,
   "id": "d91171fb",
   "metadata": {},
   "outputs": [],
   "source": [
    "from sklearn.metrics import DetCurveDisplay, RocCurveDisplay"
   ]
  },
  {
   "cell_type": "code",
   "execution_count": 267,
   "id": "b4559463",
   "metadata": {},
   "outputs": [
    {
     "data": {
      "text/plain": [
       "<sklearn.metrics._plot.roc_curve.RocCurveDisplay at 0x7f40d689a700>"
      ]
     },
     "execution_count": 267,
     "metadata": {},
     "output_type": "execute_result"
    },
    {
     "data": {
      "image/png": "[encoded data removed]",
      "text/plain": [
       "<Figure size 432x288 with 1 Axes>"
      ]
     },
     "metadata": {
      "needs_background": "light"
     },
     "output_type": "display_data"
    }
   ],
   "source": [
    "RocCurveDisplay.from_estimator(clf,X_test, Y_test)"
   ]
  },
  {
   "cell_type": "code",
   "execution_count": 152,
   "id": "c43bbc73",
   "metadata": {},
   "outputs": [
    {
     "data": {
      "text/plain": [
       "<sklearn.metrics._plot.roc_curve.RocCurveDisplay at 0x7f40dc110df0>"
      ]
     },
     "execution_count": 152,
     "metadata": {},
     "output_type": "execute_result"
    },
    {
     "data": {
      "image/png": "[encoded data removed]",
      "text/plain": [
       "<Figure size 432x288 with 1 Axes>"
      ]
     },
     "metadata": {
      "needs_background": "light"
     },
     "output_type": "display_data"
    }
   ],
   "source": [
    "RocCurveDisplay.from_predictions(Y_test, y_pred)"
   ]
  },
  {
   "cell_type": "code",
   "execution_count": 202,
   "id": "0735e138",
   "metadata": {},
   "outputs": [],
   "source": [
    "fpr = dict()\n",
    "tpr = dict()\n",
    "roc_auc = dict()\n",
    "y_test = Y_test.to_numpy()\n",
    "\n",
    "fpr, tpr, _ = roc_curve(y_test, clf.predict_proba(X_test)[:,1])\n",
    "roc_auc = auc(fpr, tpr)\n",
    "\n",
    "# Compute micro-average ROC curve and ROC area\n",
    "#fpr[\"micro\"], tpr[\"micro\"], _ = roc_curve(y_test, y_pred)\n",
    "#roc_auc[\"micro\"] = auc(fpr[\"micro\"], tpr[\"micro\"])"
   ]
  },
  {
   "cell_type": "code",
   "execution_count": 156,
   "id": "cf33fee0",
   "metadata": {},
   "outputs": [
    {
     "data": {
      "text/plain": [
       "array([1.99999797e+00, 9.99997973e-01, 9.95283067e-01, 9.95162547e-01,\n",
       "       9.90250051e-01, 9.89733875e-01, 9.89731967e-01, 9.89515066e-01,\n",
       "       9.82368290e-01, 9.81737912e-01, 9.70903337e-01, 9.63617921e-01,\n",
       "       9.46834803e-01, 9.36200798e-01, 9.33389127e-01, 8.99942577e-01,\n",
       "       8.69615972e-01, 8.12694728e-01, 7.99258649e-01, 7.50688136e-01,\n",
       "       6.12678051e-01, 5.69446921e-01, 5.57061851e-01, 5.26278853e-01,\n",
       "       5.10433614e-01, 4.09777761e-01, 3.85748893e-01, 3.29005569e-01,\n",
       "       2.81875312e-01, 2.80537486e-01, 2.59186566e-01, 2.40356743e-01,\n",
       "       2.31903806e-01, 1.93548441e-01, 1.92556381e-01, 1.30379513e-01,\n",
       "       1.20183952e-01, 1.03021033e-01, 1.02400593e-01, 8.42871070e-02,\n",
       "       7.38300532e-02, 6.30006120e-02, 6.23723045e-02, 4.47867848e-02,\n",
       "       4.09125537e-02, 1.70286279e-02, 1.65995993e-02, 1.45325605e-02,\n",
       "       1.41459480e-02, 2.99213594e-03, 2.94725108e-03, 1.69436925e-03],\n",
       "      dtype=float32)"
      ]
     },
     "execution_count": 156,
     "metadata": {},
     "output_type": "execute_result"
    }
   ],
   "source": [
    "_"
   ]
  },
  {
   "cell_type": "code",
   "execution_count": 203,
   "id": "9aaf7457",
   "metadata": {},
   "outputs": [
    {
     "data": {
      "image/png": "[encoded data removed]",
      "text/plain": [
       "<Figure size 432x288 with 1 Axes>"
      ]
     },
     "metadata": {
      "needs_background": "light"
     },
     "output_type": "display_data"
    }
   ],
   "source": [
    "plt.figure()\n",
    "lw = 2\n",
    "plt.plot(\n",
    "    fpr,\n",
    "    tpr,\n",
    "    color=\"darkorange\",\n",
    "    lw=lw,\n",
    "    label=\"ROC curve (area = %0.2f)\" % roc_auc,\n",
    ")\n",
    "plt.plot([0, 1], [0, 1], color=\"navy\", lw=lw, linestyle=\"--\")\n",
    "plt.xlim([-0.0, 1.0])\n",
    "plt.ylim([0.0, 1.05])\n",
    "plt.xlabel(\"False Positive Rate\")\n",
    "plt.ylabel(\"True Positive Rate\")\n",
    "plt.title(\"Receiver operating characteristic example\")\n",
    "plt.legend(loc=\"lower right\")\n",
    "\n",
    "#plt.vlines(_,0,1)\n",
    "plt.show()"
   ]
  },
  {
   "cell_type": "code",
   "execution_count": 218,
   "id": "2ddb90cb",
   "metadata": {},
   "outputs": [
    {
     "data": {
      "image/png": "[encoded data removed]",
      "text/plain": [
       "<Figure size 720x432 with 1 Axes>"
      ]
     },
     "metadata": {
      "needs_background": "light"
     },
     "output_type": "display_data"
    }
   ],
   "source": [
    "plt.subplots(figsize=(10, 6))\n",
    "plt.plot(fpr, tpr, 'o-', label=\"ROC curve\")\n",
    "plt.plot(np.linspace(0,1,10), np.linspace(0,1,10), label=\"diagonal\")\n",
    "for x, y, txt in zip(fpr[::10], tpr[::10], _[::10]):\n",
    "    plt.annotate(np.round(txt,2), (x, y-0.04))\n",
    "#threshold_of_interest = _[np.argmax(tpr - fpr)]"
   ]
  },
  {
   "cell_type": "code",
   "execution_count": 165,
   "id": "2ba3806d",
   "metadata": {},
   "outputs": [
    {
     "data": {
      "text/plain": [
       "0.61267805"
      ]
     },
     "execution_count": 165,
     "metadata": {},
     "output_type": "execute_result"
    }
   ],
   "source": [
    "roc_curve()\n"
   ]
  },
  {
   "cell_type": "code",
   "execution_count": 216,
   "id": "1c22f831",
   "metadata": {},
   "outputs": [],
   "source": [
    "def roc_casera(clf, y_test, X_test, n_thres):\n",
    "    fpr, tpr = [1,], [1,]\n",
    "    thresholds = np.linspace(0.000000000001,0.9999999999,n_thres)\n",
    "    prob = clf.predict_proba(X_test)[:,1]\n",
    "    \n",
    "    for i in thresholds:\n",
    "        f, t, _ = roc_curve(y_test, list(map(lambda x: 1 if x>i else 0, prob)))\n",
    "        fpr.append(f[1])\n",
    "        tpr.append(t[1])\n",
    "    fpr.append(0)\n",
    "    tpr.append(0)\n",
    "    return fpr, tpr, thresholds"
   ]
  },
  {
   "cell_type": "code",
   "execution_count": 217,
   "id": "3ca5b9d1",
   "metadata": {},
   "outputs": [],
   "source": [
    "fpr, tpr, _ = roc_casera(clf, Y_test, X_test, 1000)"
   ]
  },
  {
   "cell_type": "code",
   "execution_count": 204,
   "id": "30cfabd8",
   "metadata": {
    "scrolled": true
   },
   "outputs": [
    {
     "data": {
      "text/plain": [
       "(array([0.        , 0.25714286, 1.        ]),\n",
       " array([0.        , 0.73529412, 1.        ]),\n",
       " array([2, 1, 0]))"
      ]
     },
     "execution_count": 204,
     "metadata": {},
     "output_type": "execute_result"
    }
   ],
   "source": [
    "roc_curve(Y_test, y_pred)"
   ]
  },
  {
   "cell_type": "code",
   "execution_count": 227,
   "id": "810146e1",
   "metadata": {},
   "outputs": [],
   "source": [
    "y[y==-1] = y_pred_sin "
   ]
  },
  {
   "cell_type": "code",
   "execution_count": 229,
   "id": "13cc26ab",
   "metadata": {},
   "outputs": [
    {
     "data": {
      "text/plain": [
       "0    7157\n",
       "1    2861\n",
       "Name: resultado, dtype: int64"
      ]
     },
     "execution_count": 229,
     "metadata": {},
     "output_type": "execute_result"
    }
   ],
   "source": [
    "y.value_counts()"
   ]
  },
  {
   "cell_type": "code",
   "execution_count": 232,
   "id": "82cbe42f",
   "metadata": {},
   "outputs": [],
   "source": [
    "df = df.drop([\"diff_alta_adm_med\",\"es_alta_adm_post_med2\"], axis=1)"
   ]
  },
  {
   "cell_type": "code",
   "execution_count": 233,
   "id": "d1f0d95a",
   "metadata": {},
   "outputs": [
    {
     "data": {
      "text/plain": [
       "(10018, 111)"
      ]
     },
     "execution_count": 233,
     "metadata": {},
     "output_type": "execute_result"
    }
   ],
   "source": [
    "df.shape"
   ]
  }
 ],
 "metadata": {
  "kernelspec": {
   "display_name": "Python 3 (ipykernel)",
   "language": "python",
   "name": "python3"
  },
  "language_info": {
   "codemirror_mode": {
    "name": "ipython",
    "version": 3
   },
   "file_extension": ".py",
   "mimetype": "text/x-python",
   "name": "python",
   "nbconvert_exporter": "python",
   "pygments_lexer": "ipython3",
   "version": "3.8.6"
  }
 },
 "nbformat": 4,
 "nbformat_minor": 5
}
