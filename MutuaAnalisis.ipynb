{
 "cells": [
  {
   "cell_type": "code",
   "execution_count": 9,
   "id": "7263b2cb",
   "metadata": {},
   "outputs": [],
   "source": [
    "import pandas as pd \n",
    "import matplotlib.pyplot as plt\n",
    "import seaborn as sns\n",
    "import numpy as np\n",
    "pd.set_option('display.max_columns', None)"
   ]
  },
  {
   "cell_type": "code",
   "execution_count": 10,
   "id": "1759bba0",
   "metadata": {},
   "outputs": [],
   "source": [
    "df = pd.read_csv(\"PrimerFinal.csv\", index_col=\"Unnamed: 0\")"
   ]
  },
  {
   "cell_type": "code",
   "execution_count": 11,
   "id": "554c605d",
   "metadata": {},
   "outputs": [
    {
     "data": {
      "text/html": [
       "<div>\n",
       "<style scoped>\n",
       "    .dataframe tbody tr th:only-of-type {\n",
       "        vertical-align: middle;\n",
       "    }\n",
       "\n",
       "    .dataframe tbody tr th {\n",
       "        vertical-align: top;\n",
       "    }\n",
       "\n",
       "    .dataframe thead th {\n",
       "        text-align: right;\n",
       "    }\n",
       "</style>\n",
       "<table border=\"1\" class=\"dataframe\">\n",
       "  <thead>\n",
       "    <tr style=\"text-align: right;\">\n",
       "      <th></th>\n",
       "      <th>registro</th>\n",
       "      <th>ent_at</th>\n",
       "      <th>sit_trab</th>\n",
       "      <th>sexo</th>\n",
       "      <th>base_coti</th>\n",
       "      <th>colectivo</th>\n",
       "      <th>N_RED</th>\n",
       "      <th>i_auto</th>\n",
       "      <th>sist_es</th>\n",
       "      <th>i_trade</th>\n",
       "      <th>cese</th>\n",
       "      <th>c2</th>\n",
       "      <th>c4</th>\n",
       "      <th>c5</th>\n",
       "      <th>c10</th>\n",
       "      <th>c12</th>\n",
       "      <th>ncaso</th>\n",
       "      <th>pos</th>\n",
       "      <th>tipo</th>\n",
       "      <th>regimen</th>\n",
       "      <th>es_atipico</th>\n",
       "      <th>es_recaida</th>\n",
       "      <th>hay_at_previo</th>\n",
       "      <th>duracion</th>\n",
       "      <th>dur_previo</th>\n",
       "      <th>dur_std</th>\n",
       "      <th>v_std</th>\n",
       "      <th>med_clave</th>\n",
       "      <th>cie9_cod</th>\n",
       "      <th>d_sem_baja</th>\n",
       "      <th>mes_baja</th>\n",
       "      <th>es_trafico</th>\n",
       "      <th>es_pl_empleado</th>\n",
       "      <th>es_pl_activo</th>\n",
       "      <th>es_pago_dir</th>\n",
       "      <th>es_susp_ext</th>\n",
       "      <th>es_derecho_cobro</th>\n",
       "      <th>es_alta_prev_insp</th>\n",
       "      <th>es_recaida_ip_denegada</th>\n",
       "      <th>mpq</th>\n",
       "      <th>edad</th>\n",
       "      <th>naltas</th>\n",
       "      <th>provincia</th>\n",
       "      <th>next_fest</th>\n",
       "      <th>past_fest</th>\n",
       "      <th>resultado</th>\n",
       "      <th>es_atrium</th>\n",
       "      <th>prop_atrium</th>\n",
       "      <th>resp_atrium</th>\n",
       "      <th>motivo_pd</th>\n",
       "      <th>nrehab</th>\n",
       "      <th>nbio</th>\n",
       "      <th>dist_ult_baja</th>\n",
       "      <th>avg_altas</th>\n",
       "      <th>alta_oficio</th>\n",
       "      <th>nrecaidas</th>\n",
       "      <th>ncasos</th>\n",
       "      <th>diff_ant_caso</th>\n",
       "      <th>diff_ant_med_adm</th>\n",
       "      <th>mean_ant_med_adm</th>\n",
       "      <th>prev_rechazado</th>\n",
       "    </tr>\n",
       "  </thead>\n",
       "  <tbody>\n",
       "    <tr>\n",
       "      <th>0</th>\n",
       "      <td>0</td>\n",
       "      <td>0</td>\n",
       "      <td>3</td>\n",
       "      <td>1</td>\n",
       "      <td>2000.69</td>\n",
       "      <td>200069</td>\n",
       "      <td>NaN</td>\n",
       "      <td>1</td>\n",
       "      <td>0</td>\n",
       "      <td>0</td>\n",
       "      <td>0</td>\n",
       "      <td>0</td>\n",
       "      <td>0</td>\n",
       "      <td>0</td>\n",
       "      <td>0</td>\n",
       "      <td>0</td>\n",
       "      <td>1300298995</td>\n",
       "      <td>1</td>\n",
       "      <td>1</td>\n",
       "      <td>0</td>\n",
       "      <td>0</td>\n",
       "      <td>0</td>\n",
       "      <td>0</td>\n",
       "      <td>6.0</td>\n",
       "      <td>0.0</td>\n",
       "      <td>15.0</td>\n",
       "      <td>9.0</td>\n",
       "      <td>469.0</td>\n",
       "      <td>44</td>\n",
       "      <td>3</td>\n",
       "      <td>0</td>\n",
       "      <td>0</td>\n",
       "      <td>0</td>\n",
       "      <td>0</td>\n",
       "      <td>1</td>\n",
       "      <td>0</td>\n",
       "      <td>0</td>\n",
       "      <td>0</td>\n",
       "      <td>0</td>\n",
       "      <td>0</td>\n",
       "      <td>39.92</td>\n",
       "      <td>1.0</td>\n",
       "      <td>8</td>\n",
       "      <td>107.0</td>\n",
       "      <td>-1.0</td>\n",
       "      <td>0</td>\n",
       "      <td>0</td>\n",
       "      <td>0</td>\n",
       "      <td>0</td>\n",
       "      <td>0</td>\n",
       "      <td>0.0</td>\n",
       "      <td>0</td>\n",
       "      <td>10000.0</td>\n",
       "      <td>579.0</td>\n",
       "      <td>0</td>\n",
       "      <td>1.0</td>\n",
       "      <td>1.0</td>\n",
       "      <td>10000.0</td>\n",
       "      <td>10000.0</td>\n",
       "      <td>10000.0</td>\n",
       "      <td>0</td>\n",
       "    </tr>\n",
       "    <tr>\n",
       "      <th>1</th>\n",
       "      <td>0</td>\n",
       "      <td>0</td>\n",
       "      <td>0</td>\n",
       "      <td>0</td>\n",
       "      <td>2077.80</td>\n",
       "      <td>207780</td>\n",
       "      <td>8327.0</td>\n",
       "      <td>0</td>\n",
       "      <td>0</td>\n",
       "      <td>0</td>\n",
       "      <td>0</td>\n",
       "      <td>0</td>\n",
       "      <td>0</td>\n",
       "      <td>0</td>\n",
       "      <td>0</td>\n",
       "      <td>0</td>\n",
       "      <td>1300299019</td>\n",
       "      <td>1</td>\n",
       "      <td>0</td>\n",
       "      <td>0</td>\n",
       "      <td>0</td>\n",
       "      <td>0</td>\n",
       "      <td>0</td>\n",
       "      <td>153.0</td>\n",
       "      <td>0.0</td>\n",
       "      <td>30.0</td>\n",
       "      <td>-123.0</td>\n",
       "      <td>856.0</td>\n",
       "      <td>124</td>\n",
       "      <td>3</td>\n",
       "      <td>0</td>\n",
       "      <td>0</td>\n",
       "      <td>0</td>\n",
       "      <td>0</td>\n",
       "      <td>0</td>\n",
       "      <td>0</td>\n",
       "      <td>0</td>\n",
       "      <td>0</td>\n",
       "      <td>0</td>\n",
       "      <td>0</td>\n",
       "      <td>65.08</td>\n",
       "      <td>1.0</td>\n",
       "      <td>8</td>\n",
       "      <td>107.0</td>\n",
       "      <td>-1.0</td>\n",
       "      <td>3</td>\n",
       "      <td>0</td>\n",
       "      <td>0</td>\n",
       "      <td>0</td>\n",
       "      <td>0</td>\n",
       "      <td>16.0</td>\n",
       "      <td>0</td>\n",
       "      <td>10000.0</td>\n",
       "      <td>2038.0</td>\n",
       "      <td>0</td>\n",
       "      <td>1.0</td>\n",
       "      <td>1.0</td>\n",
       "      <td>10000.0</td>\n",
       "      <td>10000.0</td>\n",
       "      <td>10000.0</td>\n",
       "      <td>0</td>\n",
       "    </tr>\n",
       "    <tr>\n",
       "      <th>2</th>\n",
       "      <td>0</td>\n",
       "      <td>0</td>\n",
       "      <td>0</td>\n",
       "      <td>0</td>\n",
       "      <td>1500.00</td>\n",
       "      <td>150000</td>\n",
       "      <td>NaN</td>\n",
       "      <td>1</td>\n",
       "      <td>0</td>\n",
       "      <td>0</td>\n",
       "      <td>0</td>\n",
       "      <td>0</td>\n",
       "      <td>0</td>\n",
       "      <td>0</td>\n",
       "      <td>1</td>\n",
       "      <td>0</td>\n",
       "      <td>1300299025</td>\n",
       "      <td>1</td>\n",
       "      <td>0</td>\n",
       "      <td>0</td>\n",
       "      <td>0</td>\n",
       "      <td>0</td>\n",
       "      <td>0</td>\n",
       "      <td>30.0</td>\n",
       "      <td>0.0</td>\n",
       "      <td>15.0</td>\n",
       "      <td>-15.0</td>\n",
       "      <td>222.0</td>\n",
       "      <td>218</td>\n",
       "      <td>2</td>\n",
       "      <td>0</td>\n",
       "      <td>0</td>\n",
       "      <td>0</td>\n",
       "      <td>0</td>\n",
       "      <td>0</td>\n",
       "      <td>0</td>\n",
       "      <td>0</td>\n",
       "      <td>0</td>\n",
       "      <td>0</td>\n",
       "      <td>0</td>\n",
       "      <td>59.86</td>\n",
       "      <td>1.0</td>\n",
       "      <td>17</td>\n",
       "      <td>106.0</td>\n",
       "      <td>-2.0</td>\n",
       "      <td>0</td>\n",
       "      <td>0</td>\n",
       "      <td>0</td>\n",
       "      <td>0</td>\n",
       "      <td>0</td>\n",
       "      <td>0.0</td>\n",
       "      <td>0</td>\n",
       "      <td>10000.0</td>\n",
       "      <td>7044.0</td>\n",
       "      <td>0</td>\n",
       "      <td>1.0</td>\n",
       "      <td>1.0</td>\n",
       "      <td>10000.0</td>\n",
       "      <td>10000.0</td>\n",
       "      <td>10000.0</td>\n",
       "      <td>0</td>\n",
       "    </tr>\n",
       "    <tr>\n",
       "      <th>3</th>\n",
       "      <td>0</td>\n",
       "      <td>0</td>\n",
       "      <td>0</td>\n",
       "      <td>0</td>\n",
       "      <td>944.40</td>\n",
       "      <td>94440</td>\n",
       "      <td>NaN</td>\n",
       "      <td>1</td>\n",
       "      <td>0</td>\n",
       "      <td>0</td>\n",
       "      <td>0</td>\n",
       "      <td>0</td>\n",
       "      <td>0</td>\n",
       "      <td>0</td>\n",
       "      <td>0</td>\n",
       "      <td>0</td>\n",
       "      <td>1300299044</td>\n",
       "      <td>1</td>\n",
       "      <td>0</td>\n",
       "      <td>0</td>\n",
       "      <td>0</td>\n",
       "      <td>0</td>\n",
       "      <td>0</td>\n",
       "      <td>3.0</td>\n",
       "      <td>0.0</td>\n",
       "      <td>4.0</td>\n",
       "      <td>1.0</td>\n",
       "      <td>843.0</td>\n",
       "      <td>41</td>\n",
       "      <td>3</td>\n",
       "      <td>0</td>\n",
       "      <td>0</td>\n",
       "      <td>0</td>\n",
       "      <td>0</td>\n",
       "      <td>1</td>\n",
       "      <td>0</td>\n",
       "      <td>1</td>\n",
       "      <td>0</td>\n",
       "      <td>0</td>\n",
       "      <td>0</td>\n",
       "      <td>51.06</td>\n",
       "      <td>1.0</td>\n",
       "      <td>8</td>\n",
       "      <td>107.0</td>\n",
       "      <td>-1.0</td>\n",
       "      <td>0</td>\n",
       "      <td>0</td>\n",
       "      <td>0</td>\n",
       "      <td>0</td>\n",
       "      <td>0</td>\n",
       "      <td>0.0</td>\n",
       "      <td>0</td>\n",
       "      <td>10000.0</td>\n",
       "      <td>2937.0</td>\n",
       "      <td>0</td>\n",
       "      <td>1.0</td>\n",
       "      <td>1.0</td>\n",
       "      <td>10000.0</td>\n",
       "      <td>10000.0</td>\n",
       "      <td>10000.0</td>\n",
       "      <td>0</td>\n",
       "    </tr>\n",
       "    <tr>\n",
       "      <th>4</th>\n",
       "      <td>0</td>\n",
       "      <td>0</td>\n",
       "      <td>0</td>\n",
       "      <td>0</td>\n",
       "      <td>944.40</td>\n",
       "      <td>94440</td>\n",
       "      <td>NaN</td>\n",
       "      <td>1</td>\n",
       "      <td>0</td>\n",
       "      <td>0</td>\n",
       "      <td>0</td>\n",
       "      <td>0</td>\n",
       "      <td>0</td>\n",
       "      <td>0</td>\n",
       "      <td>0</td>\n",
       "      <td>0</td>\n",
       "      <td>1300299109</td>\n",
       "      <td>1</td>\n",
       "      <td>0</td>\n",
       "      <td>0</td>\n",
       "      <td>0</td>\n",
       "      <td>0</td>\n",
       "      <td>0</td>\n",
       "      <td>139.0</td>\n",
       "      <td>0.0</td>\n",
       "      <td>60.0</td>\n",
       "      <td>-79.0</td>\n",
       "      <td>45.0</td>\n",
       "      <td>34</td>\n",
       "      <td>3</td>\n",
       "      <td>0</td>\n",
       "      <td>0</td>\n",
       "      <td>0</td>\n",
       "      <td>0</td>\n",
       "      <td>0</td>\n",
       "      <td>0</td>\n",
       "      <td>0</td>\n",
       "      <td>0</td>\n",
       "      <td>0</td>\n",
       "      <td>0</td>\n",
       "      <td>37.23</td>\n",
       "      <td>1.0</td>\n",
       "      <td>6</td>\n",
       "      <td>4.0</td>\n",
       "      <td>-1.0</td>\n",
       "      <td>0</td>\n",
       "      <td>0</td>\n",
       "      <td>0</td>\n",
       "      <td>0</td>\n",
       "      <td>0</td>\n",
       "      <td>0.0</td>\n",
       "      <td>0</td>\n",
       "      <td>10000.0</td>\n",
       "      <td>596.0</td>\n",
       "      <td>0</td>\n",
       "      <td>1.0</td>\n",
       "      <td>1.0</td>\n",
       "      <td>10000.0</td>\n",
       "      <td>10000.0</td>\n",
       "      <td>10000.0</td>\n",
       "      <td>0</td>\n",
       "    </tr>\n",
       "  </tbody>\n",
       "</table>\n",
       "</div>"
      ],
      "text/plain": [
       "   registro  ent_at  sit_trab  sexo  base_coti  colectivo   N_RED  i_auto  \\\n",
       "0         0       0         3     1    2000.69     200069     NaN       1   \n",
       "1         0       0         0     0    2077.80     207780  8327.0       0   \n",
       "2         0       0         0     0    1500.00     150000     NaN       1   \n",
       "3         0       0         0     0     944.40      94440     NaN       1   \n",
       "4         0       0         0     0     944.40      94440     NaN       1   \n",
       "\n",
       "   sist_es  i_trade  cese  c2  c4  c5  c10  c12       ncaso  pos  tipo  \\\n",
       "0        0        0     0   0   0   0    0    0  1300298995    1     1   \n",
       "1        0        0     0   0   0   0    0    0  1300299019    1     0   \n",
       "2        0        0     0   0   0   0    1    0  1300299025    1     0   \n",
       "3        0        0     0   0   0   0    0    0  1300299044    1     0   \n",
       "4        0        0     0   0   0   0    0    0  1300299109    1     0   \n",
       "\n",
       "   regimen  es_atipico  es_recaida  hay_at_previo  duracion  dur_previo  \\\n",
       "0        0           0           0              0       6.0         0.0   \n",
       "1        0           0           0              0     153.0         0.0   \n",
       "2        0           0           0              0      30.0         0.0   \n",
       "3        0           0           0              0       3.0         0.0   \n",
       "4        0           0           0              0     139.0         0.0   \n",
       "\n",
       "   dur_std  v_std  med_clave  cie9_cod  d_sem_baja  mes_baja  es_trafico  \\\n",
       "0     15.0    9.0      469.0        44           3         0           0   \n",
       "1     30.0 -123.0      856.0       124           3         0           0   \n",
       "2     15.0  -15.0      222.0       218           2         0           0   \n",
       "3      4.0    1.0      843.0        41           3         0           0   \n",
       "4     60.0  -79.0       45.0        34           3         0           0   \n",
       "\n",
       "   es_pl_empleado  es_pl_activo  es_pago_dir  es_susp_ext  es_derecho_cobro  \\\n",
       "0               0             0            1            0                 0   \n",
       "1               0             0            0            0                 0   \n",
       "2               0             0            0            0                 0   \n",
       "3               0             0            1            0                 1   \n",
       "4               0             0            0            0                 0   \n",
       "\n",
       "   es_alta_prev_insp  es_recaida_ip_denegada  mpq   edad  naltas  provincia  \\\n",
       "0                  0                       0    0  39.92     1.0          8   \n",
       "1                  0                       0    0  65.08     1.0          8   \n",
       "2                  0                       0    0  59.86     1.0         17   \n",
       "3                  0                       0    0  51.06     1.0          8   \n",
       "4                  0                       0    0  37.23     1.0          6   \n",
       "\n",
       "   next_fest  past_fest  resultado  es_atrium  prop_atrium  resp_atrium  \\\n",
       "0      107.0       -1.0          0          0            0            0   \n",
       "1      107.0       -1.0          3          0            0            0   \n",
       "2      106.0       -2.0          0          0            0            0   \n",
       "3      107.0       -1.0          0          0            0            0   \n",
       "4        4.0       -1.0          0          0            0            0   \n",
       "\n",
       "   motivo_pd  nrehab  nbio  dist_ult_baja  avg_altas  alta_oficio  nrecaidas  \\\n",
       "0          0     0.0     0        10000.0      579.0            0        1.0   \n",
       "1          0    16.0     0        10000.0     2038.0            0        1.0   \n",
       "2          0     0.0     0        10000.0     7044.0            0        1.0   \n",
       "3          0     0.0     0        10000.0     2937.0            0        1.0   \n",
       "4          0     0.0     0        10000.0      596.0            0        1.0   \n",
       "\n",
       "   ncasos  diff_ant_caso  diff_ant_med_adm  mean_ant_med_adm  prev_rechazado  \n",
       "0     1.0        10000.0           10000.0           10000.0               0  \n",
       "1     1.0        10000.0           10000.0           10000.0               0  \n",
       "2     1.0        10000.0           10000.0           10000.0               0  \n",
       "3     1.0        10000.0           10000.0           10000.0               0  \n",
       "4     1.0        10000.0           10000.0           10000.0               0  "
      ]
     },
     "execution_count": 11,
     "metadata": {},
     "output_type": "execute_result"
    }
   ],
   "source": [
    "df.head()"
   ]
  },
  {
   "cell_type": "code",
   "execution_count": 12,
   "id": "e9ab6468",
   "metadata": {},
   "outputs": [],
   "source": [
    "df = df.fillna(0)"
   ]
  },
  {
   "cell_type": "code",
   "execution_count": 13,
   "id": "0e738e4e",
   "metadata": {},
   "outputs": [
    {
     "data": {
      "text/plain": [
       "0       916\n",
       "1       222\n",
       "2       168\n",
       "3       159\n",
       "4       122\n",
       "       ... \n",
       "2041      1\n",
       "2042      1\n",
       "2043      1\n",
       "2044      1\n",
       "2045      1\n",
       "Name: cie9_cod, Length: 2046, dtype: int64"
      ]
     },
     "execution_count": 13,
     "metadata": {},
     "output_type": "execute_result"
    }
   ],
   "source": [
    "df[\"cie9_cod\"].value_counts()"
   ]
  },
  {
   "cell_type": "code",
   "execution_count": 14,
   "id": "6be348eb",
   "metadata": {},
   "outputs": [
    {
     "name": "stdout",
     "output_type": "stream",
     "text": [
      "registro: <class 'numpy.int64'>\n",
      "ent_at: <class 'numpy.int64'>\n",
      "sit_trab: <class 'numpy.int64'>\n",
      "sexo: <class 'numpy.int64'>\n",
      "base_coti: <class 'numpy.float64'>\n",
      "colectivo: <class 'numpy.int64'>\n",
      "N_RED: <class 'numpy.float64'>\n",
      "i_auto: <class 'numpy.int64'>\n",
      "sist_es: <class 'numpy.int64'>\n",
      "i_trade: <class 'numpy.int64'>\n",
      "cese: <class 'numpy.int64'>\n",
      "c2: <class 'numpy.int64'>\n",
      "c4: <class 'numpy.int64'>\n",
      "c5: <class 'numpy.int64'>\n",
      "c10: <class 'numpy.int64'>\n",
      "c12: <class 'numpy.int64'>\n",
      "ncaso: <class 'numpy.int64'>\n",
      "pos: <class 'numpy.int64'>\n",
      "tipo: <class 'numpy.int64'>\n",
      "regimen: <class 'numpy.int64'>\n",
      "es_atipico: <class 'numpy.int64'>\n",
      "es_recaida: <class 'numpy.int64'>\n",
      "hay_at_previo: <class 'numpy.int64'>\n",
      "duracion: <class 'numpy.float64'>\n",
      "dur_previo: <class 'numpy.float64'>\n",
      "dur_std: <class 'numpy.float64'>\n",
      "v_std: <class 'numpy.float64'>\n",
      "med_clave: <class 'numpy.float64'>\n",
      "cie9_cod: <class 'numpy.int64'>\n",
      "d_sem_baja: <class 'numpy.int64'>\n",
      "mes_baja: <class 'numpy.int64'>\n",
      "es_trafico: <class 'numpy.int64'>\n",
      "es_pl_empleado: <class 'numpy.int64'>\n",
      "es_pl_activo: <class 'numpy.int64'>\n",
      "es_pago_dir: <class 'numpy.int64'>\n",
      "es_susp_ext: <class 'numpy.int64'>\n",
      "es_derecho_cobro: <class 'numpy.int64'>\n",
      "es_alta_prev_insp: <class 'numpy.int64'>\n",
      "es_recaida_ip_denegada: <class 'numpy.int64'>\n",
      "mpq: <class 'numpy.int64'>\n",
      "edad: <class 'numpy.float64'>\n",
      "naltas: <class 'numpy.float64'>\n",
      "provincia: <class 'numpy.int64'>\n",
      "next_fest: <class 'numpy.float64'>\n",
      "past_fest: <class 'numpy.float64'>\n",
      "resultado: <class 'numpy.int64'>\n",
      "es_atrium: <class 'numpy.int64'>\n",
      "prop_atrium: <class 'numpy.int64'>\n",
      "resp_atrium: <class 'numpy.int64'>\n",
      "motivo_pd: <class 'numpy.int64'>\n",
      "nrehab: <class 'numpy.float64'>\n",
      "nbio: <class 'numpy.int64'>\n",
      "dist_ult_baja: <class 'numpy.float64'>\n",
      "avg_altas: <class 'numpy.float64'>\n",
      "alta_oficio: <class 'numpy.int64'>\n",
      "nrecaidas: <class 'numpy.float64'>\n",
      "ncasos: <class 'numpy.float64'>\n",
      "diff_ant_caso: <class 'numpy.float64'>\n",
      "diff_ant_med_adm: <class 'numpy.float64'>\n",
      "mean_ant_med_adm: <class 'numpy.float64'>\n",
      "prev_rechazado: <class 'numpy.int64'>\n"
     ]
    }
   ],
   "source": [
    "for i in df:\n",
    "    print(f'{i}: {type(df[i][0])}')"
   ]
  },
  {
   "cell_type": "code",
   "execution_count": 15,
   "id": "cdf1f45b",
   "metadata": {},
   "outputs": [],
   "source": [
    "df = df.drop(\"ncaso\", axis=1)"
   ]
  },
  {
   "cell_type": "code",
   "execution_count": 16,
   "id": "14f53fd2",
   "metadata": {},
   "outputs": [
    {
     "data": {
      "text/plain": [
       "0    9331\n",
       "1     280\n",
       "2     258\n",
       "3      73\n",
       "4      57\n",
       "5      19\n",
       "Name: resultado, dtype: int64"
      ]
     },
     "execution_count": 16,
     "metadata": {},
     "output_type": "execute_result"
    }
   ],
   "source": [
    "df.resultado.value_counts()"
   ]
  },
  {
   "cell_type": "markdown",
   "id": "0e5c50a2",
   "metadata": {},
   "source": [
    "# 1"
   ]
  },
  {
   "cell_type": "code",
   "execution_count": 80,
   "id": "4edd64d1",
   "metadata": {},
   "outputs": [],
   "source": [
    "import pandas as pd\n",
    "import numpy as np\n",
    "\n",
    "from sklearn.decomposition import PCA\n",
    "from sklearn.ensemble import IsolationForest\n",
    "from sklearn.model_selection import train_test_split\n",
    "from sklearn.metrics import confusion_matrix, ConfusionMatrixDisplay, classification_report\n",
    "from sklearn.preprocessing import StandardScaler\n",
    "\n",
    "import plotly.express as px\n",
    "import plotly.graph_objects as go\n",
    "from plotly.subplots import make_subplots\n",
    "\n",
    "from sklearn.linear_model import LogisticRegression\n",
    "\n",
    "from sklearn.metrics import roc_curve"
   ]
  },
  {
   "cell_type": "markdown",
   "id": "123de4d1",
   "metadata": {},
   "source": [
    "## Regresion logistica "
   ]
  },
  {
   "cell_type": "markdown",
   "id": "fc6cfc7e",
   "metadata": {},
   "source": [
    "### Modelo 1\n",
    "Solo con escalado "
   ]
  },
  {
   "cell_type": "code",
   "execution_count": 18,
   "id": "367a6a3b",
   "metadata": {},
   "outputs": [],
   "source": [
    "y = df.resultado.to_numpy()"
   ]
  },
  {
   "cell_type": "code",
   "execution_count": 19,
   "id": "d6583133",
   "metadata": {},
   "outputs": [],
   "source": [
    "x = df.drop(\"resultado\", axis=1).values"
   ]
  },
  {
   "cell_type": "code",
   "execution_count": 20,
   "id": "cce4e8e1",
   "metadata": {},
   "outputs": [],
   "source": [
    "for i, val in enumerate(y):\n",
    "    if val == 0:\n",
    "        y[i] = -1\n",
    "    elif val == 2 or val == 4 or val == 5:\n",
    "        y[i] = 0\n",
    "    else:\n",
    "        y[i] = 1\n",
    "        "
   ]
  },
  {
   "cell_type": "code",
   "execution_count": 58,
   "id": "a18394be",
   "metadata": {},
   "outputs": [],
   "source": [
    "condition = (y == 0) | (y == 1)"
   ]
  },
  {
   "cell_type": "code",
   "execution_count": 59,
   "id": "3900c711",
   "metadata": {},
   "outputs": [],
   "source": [
    "Y = y[condition]"
   ]
  },
  {
   "cell_type": "code",
   "execution_count": 60,
   "id": "ba77d313",
   "metadata": {},
   "outputs": [],
   "source": [
    "X = x[condition,:]"
   ]
  },
  {
   "cell_type": "code",
   "execution_count": 61,
   "id": "83e0144a",
   "metadata": {},
   "outputs": [],
   "source": [
    "X_sindetective = x[~condition,:]\n",
    "Y_sindetective = y[~condition]"
   ]
  },
  {
   "cell_type": "code",
   "execution_count": 62,
   "id": "021eb377",
   "metadata": {},
   "outputs": [],
   "source": [
    "scaler = StandardScaler()\n",
    "scaler.fit(X)\n",
    "X = scaler.transform(X)\n",
    "X_sindetective = scaler.transform(X_sindetective)"
   ]
  },
  {
   "cell_type": "code",
   "execution_count": 63,
   "id": "cfedc330",
   "metadata": {},
   "outputs": [],
   "source": [
    "X_train, X_test, Y_train, Y_test = train_test_split(X,Y,train_size   = 0.8,random_state = 1234,shuffle      = True)"
   ]
  },
  {
   "cell_type": "code",
   "execution_count": 64,
   "id": "18d134fe",
   "metadata": {},
   "outputs": [
    {
     "name": "stderr",
     "output_type": "stream",
     "text": [
      "/home/vcalzada/Work/proyecto/.proPy/lib/python3.8/site-packages/sklearn/linear_model/_logistic.py:814: ConvergenceWarning: lbfgs failed to converge (status=1):\n",
      "STOP: TOTAL NO. of ITERATIONS REACHED LIMIT.\n",
      "\n",
      "Increase the number of iterations (max_iter) or scale the data as shown in:\n",
      "    https://scikit-learn.org/stable/modules/preprocessing.html\n",
      "Please also refer to the documentation for alternative solver options:\n",
      "    https://scikit-learn.org/stable/modules/linear_model.html#logistic-regression\n",
      "  n_iter_i = _check_optimize_result(\n"
     ]
    },
    {
     "data": {
      "text/plain": [
       "LogisticRegression(penalty='none')"
      ]
     },
     "execution_count": 64,
     "metadata": {},
     "output_type": "execute_result"
    }
   ],
   "source": [
    "modelo = LogisticRegression(penalty=\"none\")\n",
    "modelo.fit(X=X_train, y=Y_train)"
   ]
  },
  {
   "cell_type": "code",
   "execution_count": 65,
   "id": "db70010e",
   "metadata": {},
   "outputs": [
    {
     "data": {
      "text/plain": [
       "0.7001455604075691"
      ]
     },
     "execution_count": 65,
     "metadata": {},
     "output_type": "execute_result"
    }
   ],
   "source": [
    "modelo.score(X,Y)"
   ]
  },
  {
   "cell_type": "code",
   "execution_count": 77,
   "id": "068fc2aa",
   "metadata": {},
   "outputs": [],
   "source": [
    "y_pred = modelo.predict_proba(X_test)\n",
    "#THRESHOLD = 0.8\n",
    "#y_pred = np.where(modelo.predict_proba(X_test)[:,1] > THRESHOLD, 1, 0) "
   ]
  },
  {
   "cell_type": "code",
   "execution_count": 81,
   "id": "14c305b9",
   "metadata": {},
   "outputs": [
    {
     "data": {
      "text/plain": [
       "array([[-8.68011126e-02, -4.84932437e-02, -1.47492933e-01,\n",
       "        -3.70206118e-01, -1.21273672e-02, -1.21273672e-02,\n",
       "         2.85837495e-02, -8.91337012e-02,  2.50256362e-01,\n",
       "        -2.15931476e+00, -2.34077929e-01,  3.93574839e-02,\n",
       "         0.00000000e+00, -1.86520623e-01,  1.82887982e-01,\n",
       "         6.07924945e-02,  8.98704741e-02,  1.24128377e-01,\n",
       "         9.02224024e-03, -2.20163022e+00, -2.34064058e-01,\n",
       "        -1.71830265e-01, -6.76866533e-01,  3.16299657e-01,\n",
       "         2.74230406e-01,  3.58025135e-02, -6.96698975e-02,\n",
       "         7.38476610e-02, -1.03997585e-01, -2.17138932e-01,\n",
       "         0.00000000e+00,  0.00000000e+00,  2.17448787e-02,\n",
       "         9.60685484e-02,  0.00000000e+00, -1.19585909e-01,\n",
       "         0.00000000e+00,  0.00000000e+00,  1.51076028e-01,\n",
       "         1.36589449e-01,  1.15585991e-01,  1.24835529e-01,\n",
       "         1.66011315e-01,  1.29789533e-01, -4.02398016e-01,\n",
       "        -1.35983846e-01,  9.83719938e-02,  0.00000000e+00,\n",
       "        -1.57290465e-02, -2.21303461e+00,  1.84574876e-01,\n",
       "        -1.07995270e-01,  6.87399713e-02,  1.62643399e-01,\n",
       "        -1.63179637e-01,  1.12934097e+01, -5.06295563e+00,\n",
       "        -6.41329949e+00,  1.94502953e-01]])"
      ]
     },
     "execution_count": 81,
     "metadata": {},
     "output_type": "execute_result"
    }
   ],
   "source": [
    "modelo.coef_"
   ]
  },
  {
   "cell_type": "raw",
   "id": "7ec204aa",
   "metadata": {},
   "source": [
    "modelo.feature_names_in_"
   ]
  },
  {
   "cell_type": "code",
   "execution_count": null,
   "id": "27a4e1bf",
   "metadata": {},
   "outputs": [],
   "source": [
    "modelo."
   ]
  },
  {
   "cell_type": "code",
   "execution_count": 85,
   "id": "849a97c0",
   "metadata": {},
   "outputs": [
    {
     "data": {
      "text/plain": [
       "Index(['registro', 'ent_at', 'sit_trab', 'sexo', 'base_coti', 'colectivo',\n",
       "       'N_RED', 'i_auto', 'sist_es', 'i_trade', 'cese', 'c2', 'c4', 'c5',\n",
       "       'c10', 'c12', 'pos', 'tipo', 'regimen', 'es_atipico', 'es_recaida',\n",
       "       'hay_at_previo', 'duracion', 'dur_previo', 'dur_std', 'v_std',\n",
       "       'med_clave', 'cie9_cod', 'd_sem_baja', 'mes_baja', 'es_trafico',\n",
       "       'es_pl_empleado', 'es_pl_activo', 'es_pago_dir', 'es_susp_ext',\n",
       "       'es_derecho_cobro', 'es_alta_prev_insp', 'es_recaida_ip_denegada',\n",
       "       'mpq', 'edad', 'naltas', 'provincia', 'next_fest', 'past_fest',\n",
       "       'es_atrium', 'prop_atrium', 'resp_atrium', 'motivo_pd', 'nrehab',\n",
       "       'nbio', 'dist_ult_baja', 'avg_altas', 'alta_oficio', 'nrecaidas',\n",
       "       'ncasos', 'diff_ant_caso', 'diff_ant_med_adm', 'mean_ant_med_adm',\n",
       "       'prev_rechazado'],\n",
       "      dtype='object')"
      ]
     },
     "execution_count": 85,
     "metadata": {},
     "output_type": "execute_result"
    }
   ],
   "source": [
    "df.drop(\"resultado\", axis=1).keys()"
   ]
  },
  {
   "cell_type": "code",
   "execution_count": 106,
   "id": "29f48cef",
   "metadata": {},
   "outputs": [],
   "source": [
    "coefs = pd.DataFrame(modelo.coef_, columns=df.drop(\"resultado\", axis=1).keys())"
   ]
  },
  {
   "cell_type": "code",
   "execution_count": 107,
   "id": "31acad1d",
   "metadata": {},
   "outputs": [],
   "source": [
    "coefs1 = coefs[np.abs(coefs[:]) > 0.2 ].dropna(axis=1)"
   ]
  },
  {
   "cell_type": "code",
   "execution_count": 108,
   "id": "19738b67",
   "metadata": {},
   "outputs": [
    {
     "data": {
      "text/html": [
       "<div>\n",
       "<style scoped>\n",
       "    .dataframe tbody tr th:only-of-type {\n",
       "        vertical-align: middle;\n",
       "    }\n",
       "\n",
       "    .dataframe tbody tr th {\n",
       "        vertical-align: top;\n",
       "    }\n",
       "\n",
       "    .dataframe thead th {\n",
       "        text-align: right;\n",
       "    }\n",
       "</style>\n",
       "<table border=\"1\" class=\"dataframe\">\n",
       "  <thead>\n",
       "    <tr style=\"text-align: right;\">\n",
       "      <th></th>\n",
       "      <th>sexo</th>\n",
       "      <th>sist_es</th>\n",
       "      <th>i_trade</th>\n",
       "      <th>cese</th>\n",
       "      <th>es_atipico</th>\n",
       "      <th>es_recaida</th>\n",
       "      <th>duracion</th>\n",
       "      <th>dur_previo</th>\n",
       "      <th>dur_std</th>\n",
       "      <th>mes_baja</th>\n",
       "      <th>es_atrium</th>\n",
       "      <th>nbio</th>\n",
       "      <th>diff_ant_caso</th>\n",
       "      <th>diff_ant_med_adm</th>\n",
       "      <th>mean_ant_med_adm</th>\n",
       "    </tr>\n",
       "  </thead>\n",
       "  <tbody>\n",
       "    <tr>\n",
       "      <th>0</th>\n",
       "      <td>-0.370206</td>\n",
       "      <td>0.250256</td>\n",
       "      <td>-2.159315</td>\n",
       "      <td>-0.234078</td>\n",
       "      <td>-2.20163</td>\n",
       "      <td>-0.234064</td>\n",
       "      <td>-0.676867</td>\n",
       "      <td>0.3163</td>\n",
       "      <td>0.27423</td>\n",
       "      <td>-0.217139</td>\n",
       "      <td>-0.402398</td>\n",
       "      <td>-2.213035</td>\n",
       "      <td>11.29341</td>\n",
       "      <td>-5.062956</td>\n",
       "      <td>-6.413299</td>\n",
       "    </tr>\n",
       "  </tbody>\n",
       "</table>\n",
       "</div>"
      ],
      "text/plain": [
       "       sexo   sist_es   i_trade      cese  es_atipico  es_recaida  duracion  \\\n",
       "0 -0.370206  0.250256 -2.159315 -0.234078    -2.20163   -0.234064 -0.676867   \n",
       "\n",
       "   dur_previo  dur_std  mes_baja  es_atrium      nbio  diff_ant_caso  \\\n",
       "0      0.3163  0.27423 -0.217139  -0.402398 -2.213035       11.29341   \n",
       "\n",
       "   diff_ant_med_adm  mean_ant_med_adm  \n",
       "0         -5.062956         -6.413299  "
      ]
     },
     "execution_count": 108,
     "metadata": {},
     "output_type": "execute_result"
    }
   ],
   "source": [
    "coefs1"
   ]
  },
  {
   "cell_type": "code",
   "execution_count": 109,
   "id": "bdcefbcb",
   "metadata": {},
   "outputs": [
    {
     "data": {
      "text/plain": [
       "<AxesSubplot:>"
      ]
     },
     "execution_count": 109,
     "metadata": {},
     "output_type": "execute_result"
    },
    {
     "data": {
      "image/png": "[encoded data removed]",
      "text/plain": [
       "<Figure size 720x720 with 1 Axes>"
      ]
     },
     "metadata": {
      "needs_background": "light"
     },
     "output_type": "display_data"
    }
   ],
   "source": [
    "coefs1.plot.barh(figsize =(10,10))"
   ]
  },
  {
   "cell_type": "code",
   "execution_count": 78,
   "id": "7856e0ef",
   "metadata": {},
   "outputs": [
    {
     "data": {
      "text/plain": [
       "array([[68,  5],\n",
       "       [54, 11]])"
      ]
     },
     "execution_count": 78,
     "metadata": {},
     "output_type": "execute_result"
    }
   ],
   "source": [
    "confusion_matrix(Y_test,y_pred)"
   ]
  },
  {
   "cell_type": "code",
   "execution_count": 79,
   "id": "7b31ddce",
   "metadata": {},
   "outputs": [
    {
     "name": "stdout",
     "output_type": "stream",
     "text": [
      "              precision    recall  f1-score   support\n",
      "\n",
      "           0       0.56      0.93      0.70        73\n",
      "           1       0.69      0.17      0.27        65\n",
      "\n",
      "    accuracy                           0.57       138\n",
      "   macro avg       0.62      0.55      0.48       138\n",
      "weighted avg       0.62      0.57      0.50       138\n",
      "\n"
     ]
    }
   ],
   "source": [
    "print(classification_report(Y_test,y_pred))"
   ]
  },
  {
   "cell_type": "code",
   "execution_count": 33,
   "id": "1540c2da",
   "metadata": {},
   "outputs": [],
   "source": [
    "y_sindetective_pred = modelo.predict(X_sindetective)"
   ]
  },
  {
   "cell_type": "code",
   "execution_count": 34,
   "id": "01cad5c8",
   "metadata": {
    "scrolled": false
   },
   "outputs": [
    {
     "data": {
      "text/plain": [
       "1    6815\n",
       "0    2516\n",
       "dtype: int64"
      ]
     },
     "execution_count": 34,
     "metadata": {},
     "output_type": "execute_result"
    }
   ],
   "source": [
    "pd.Series(y_sindetective_pred).value_counts()"
   ]
  },
  {
   "cell_type": "code",
   "execution_count": 36,
   "id": "b1e71425",
   "metadata": {},
   "outputs": [],
   "source": [
    "prob = modelo.predict_proba(X_sindetective)"
   ]
  },
  {
   "cell_type": "code",
   "execution_count": 39,
   "id": "02c31cae",
   "metadata": {},
   "outputs": [],
   "source": [
    " val= prob > 0.6"
   ]
  },
  {
   "cell_type": "code",
   "execution_count": 48,
   "id": "fadaf4a4",
   "metadata": {},
   "outputs": [],
   "source": [
    "THRESHOLD = 0.9\n",
    "preds = np.where(modelo.predict_proba(X_sindetective)[:,1] > THRESHOLD, 1, 0) "
   ]
  },
  {
   "cell_type": "code",
   "execution_count": 49,
   "id": "f527e9a7",
   "metadata": {},
   "outputs": [
    {
     "data": {
      "text/plain": [
       "0    8874\n",
       "1     457\n",
       "dtype: int64"
      ]
     },
     "execution_count": 49,
     "metadata": {},
     "output_type": "execute_result"
    }
   ],
   "source": [
    "pd.Series(preds).value_counts()"
   ]
  },
  {
   "cell_type": "code",
   "execution_count": null,
   "id": "a2015f85",
   "metadata": {},
   "outputs": [],
   "source": [
    "a\n",
    "for i in val:\n",
    "    "
   ]
  },
  {
   "cell_type": "markdown",
   "id": "41aeff81",
   "metadata": {},
   "source": [
    "### Modelo de random forest"
   ]
  },
  {
   "cell_type": "code",
   "execution_count": 110,
   "id": "5f80ef60",
   "metadata": {},
   "outputs": [],
   "source": [
    "from sklearn.ensemble import RandomForestClassifier"
   ]
  },
  {
   "cell_type": "code",
   "execution_count": 111,
   "id": "7db4a301",
   "metadata": {},
   "outputs": [
    {
     "data": {
      "text/plain": [
       "RandomForestClassifier()"
      ]
     },
     "execution_count": 111,
     "metadata": {},
     "output_type": "execute_result"
    }
   ],
   "source": [
    "clf = RandomForestClassifier()\n",
    "clf.fit(X_train, Y_train)"
   ]
  },
  {
   "cell_type": "code",
   "execution_count": 113,
   "id": "b8d0198e",
   "metadata": {},
   "outputs": [],
   "source": [
    "y_pred = clf.predict(X_test)"
   ]
  },
  {
   "cell_type": "code",
   "execution_count": 114,
   "id": "6c7171b8",
   "metadata": {},
   "outputs": [
    {
     "data": {
      "text/plain": [
       "array([[42, 31],\n",
       "       [22, 43]])"
      ]
     },
     "execution_count": 114,
     "metadata": {},
     "output_type": "execute_result"
    }
   ],
   "source": [
    "confusion_matrix(Y_test,y_pred)"
   ]
  },
  {
   "cell_type": "code",
   "execution_count": 115,
   "id": "b486d872",
   "metadata": {},
   "outputs": [
    {
     "name": "stdout",
     "output_type": "stream",
     "text": [
      "              precision    recall  f1-score   support\n",
      "\n",
      "           0       0.66      0.58      0.61        73\n",
      "           1       0.58      0.66      0.62        65\n",
      "\n",
      "    accuracy                           0.62       138\n",
      "   macro avg       0.62      0.62      0.62       138\n",
      "weighted avg       0.62      0.62      0.62       138\n",
      "\n"
     ]
    }
   ],
   "source": [
    "print(classification_report(Y_test,y_pred))"
   ]
  },
  {
   "cell_type": "code",
   "execution_count": 123,
   "id": "10461c73",
   "metadata": {},
   "outputs": [],
   "source": [
    "from sklearn.inspection import permutation_importance\n",
    "\n",
    "#start_time = time.time()\n",
    "result = permutation_importance(\n",
    "    clf, X_test, Y_test, n_repeats=100, random_state=42, n_jobs=2\n",
    ")\n",
    "#elapsed_time = time.time() - start_time\n",
    "#print(f\"Elapsed time to compute the importances: {elapsed_time:.3f} seconds\")\n",
    "\n",
    "forest_importances = pd.Series(result.importances_mean, index=df.drop(\"resultado\", axis=1).keys()) "
   ]
  },
  {
   "cell_type": "code",
   "execution_count": 124,
   "id": "864a3154",
   "metadata": {},
   "outputs": [
    {
     "data": {
      "image/png": "[encoded data removed]",
      "text/plain": [
       "<Figure size 720x576 with 1 Axes>"
      ]
     },
     "metadata": {
      "needs_background": "light"
     },
     "output_type": "display_data"
    }
   ],
   "source": [
    "fig, ax = plt.subplots(figsize=(10,8))\n",
    "forest_importances.plot.bar(yerr=result.importances_std, ax=ax)\n",
    "ax.set_title(\"Feature importances using permutation on full model\")\n",
    "ax.set_ylabel(\"Mean accuracy decrease\")\n",
    "fig.tight_layout()\n",
    "plt.show() "
   ]
  },
  {
   "cell_type": "code",
   "execution_count": 132,
   "id": "2fd90d64",
   "metadata": {},
   "outputs": [
    {
     "data": {
      "text/plain": [
       "Text(0.5, 0, 'Random Forest Feature Importance')"
      ]
     },
     "execution_count": 132,
     "metadata": {},
     "output_type": "execute_result"
    },
    {
     "data": {
      "image/png": "[encoded data removed]",
      "text/plain": [
       "<Figure size 1152x720 with 1 Axes>"
      ]
     },
     "metadata": {
      "needs_background": "light"
     },
     "output_type": "display_data"
    }
   ],
   "source": [
    "plt.figure(figsize=(16,10))\n",
    "sorted_idx = clf.feature_importances_.argsort()\n",
    "plt.barh(df.drop(\"resultado\", axis=1).keys()[sorted_idx], clf.feature_importances_[sorted_idx])\n",
    "plt.xlabel(\"Random Forest Feature Importance\")"
   ]
  },
  {
   "cell_type": "code",
   "execution_count": 126,
   "id": "abdf516e",
   "metadata": {},
   "outputs": [
    {
     "data": {
      "text/plain": [
       "<BarContainer object of 59 artists>"
      ]
     },
     "execution_count": 126,
     "metadata": {},
     "output_type": "execute_result"
    },
    {
     "data": {
      "image/png": "[encoded data removed]",
      "text/plain": [
       "<Figure size 720x648 with 1 Axes>"
      ]
     },
     "metadata": {
      "needs_background": "light"
     },
     "output_type": "display_data"
    }
   ],
   "source": [
    "plt.figure(figsize=(10,9))\n",
    "plt.barh(df.drop(\"resultado\", axis=1).keys(), clf.feature_importances_)"
   ]
  },
  {
   "cell_type": "markdown",
   "id": "fd2ab776",
   "metadata": {},
   "source": [
    "### Modelo 2\n",
    "Con escalado y PCA"
   ]
  },
  {
   "cell_type": "code",
   "execution_count": null,
   "id": "aac37982",
   "metadata": {},
   "outputs": [],
   "source": [
    "Y = y[condition]"
   ]
  },
  {
   "cell_type": "code",
   "execution_count": null,
   "id": "581ec298",
   "metadata": {},
   "outputs": [],
   "source": [
    "X = x[condition,:]"
   ]
  },
  {
   "cell_type": "code",
   "execution_count": null,
   "id": "6151889f",
   "metadata": {},
   "outputs": [],
   "source": [
    "X_sindetective = x[~condition,:]\n",
    "Y_sindetective = y[~condition]"
   ]
  },
  {
   "cell_type": "code",
   "execution_count": null,
   "id": "3374b30e",
   "metadata": {},
   "outputs": [],
   "source": [
    "pca = PCA(n_components=50)"
   ]
  },
  {
   "cell_type": "code",
   "execution_count": null,
   "id": "72c0efd9",
   "metadata": {},
   "outputs": [],
   "source": [
    "pca.fit(X)\n",
    "X = pca.transform(X)\n",
    "X_sindetective = pca.transform(X_sindetective)"
   ]
  },
  {
   "cell_type": "code",
   "execution_count": null,
   "id": "7699d947",
   "metadata": {},
   "outputs": [],
   "source": [
    "scaler = StandardScaler()\n",
    "scaler.fit(X)\n",
    "X = scaler.transform(X)\n",
    "X_sindetective = scaler.transform(X_sindetective)"
   ]
  },
  {
   "cell_type": "code",
   "execution_count": null,
   "id": "b1207c57",
   "metadata": {},
   "outputs": [],
   "source": [
    "X_train, X_test, Y_train, Y_test = train_test_split(X,Y,train_size   = 0.8,random_state = 1234,shuffle      = True)"
   ]
  },
  {
   "cell_type": "code",
   "execution_count": null,
   "id": "b116ac35",
   "metadata": {},
   "outputs": [],
   "source": [
    "modelo2 = LogisticRegression(penalty=\"none\")\n",
    "modelo2.fit(X=X_train, y=Y_train)"
   ]
  },
  {
   "cell_type": "code",
   "execution_count": null,
   "id": "e4496011",
   "metadata": {},
   "outputs": [],
   "source": [
    "X.shape"
   ]
  },
  {
   "cell_type": "code",
   "execution_count": null,
   "id": "381a7ea5",
   "metadata": {},
   "outputs": [],
   "source": [
    "modelo2.score(X,Y)"
   ]
  },
  {
   "cell_type": "code",
   "execution_count": null,
   "id": "43b56a10",
   "metadata": {},
   "outputs": [],
   "source": [
    "y_pred = modelo2.predict(X_test)"
   ]
  },
  {
   "cell_type": "code",
   "execution_count": null,
   "id": "34ec2d95",
   "metadata": {},
   "outputs": [],
   "source": [
    "confusion_matrix(Y_test,y_pred)"
   ]
  },
  {
   "cell_type": "code",
   "execution_count": null,
   "id": "993c4440",
   "metadata": {},
   "outputs": [],
   "source": [
    "print(classification_report(Y_test,y_pred))"
   ]
  },
  {
   "cell_type": "code",
   "execution_count": null,
   "id": "90c8b821",
   "metadata": {},
   "outputs": [],
   "source": [
    "y_sindetective_pred = modelo2.predict(X_sindetective)"
   ]
  },
  {
   "cell_type": "code",
   "execution_count": null,
   "id": "c5805165",
   "metadata": {
    "scrolled": true
   },
   "outputs": [],
   "source": [
    "pd.Series(y_sindetective_pred).value_counts()"
   ]
  },
  {
   "cell_type": "code",
   "execution_count": null,
   "id": "ca6a0871",
   "metadata": {},
   "outputs": [],
   "source": []
  },
  {
   "cell_type": "code",
   "execution_count": null,
   "id": "5d3f4c95",
   "metadata": {},
   "outputs": [],
   "source": []
  }
 ],
 "metadata": {
  "kernelspec": {
   "display_name": "Python 3 (ipykernel)",
   "language": "python",
   "name": "python3"
  },
  "language_info": {
   "codemirror_mode": {
    "name": "ipython",
    "version": 3
   },
   "file_extension": ".py",
   "mimetype": "text/x-python",
   "name": "python",
   "nbconvert_exporter": "python",
   "pygments_lexer": "ipython3",
   "version": "3.8.6"
  }
 },
 "nbformat": 4,
 "nbformat_minor": 5
}
