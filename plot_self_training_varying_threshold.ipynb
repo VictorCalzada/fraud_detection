{
 "cells": [
  {
   "cell_type": "code",
   "execution_count": 1,
   "metadata": {},
   "outputs": [],
   "source": [
    "%matplotlib inline"
   ]
  },
  {
   "cell_type": "markdown",
   "metadata": {},
   "source": [
    "\n",
    "# Effect of varying threshold for self-training\n",
    "\n",
    "This example illustrates the effect of a varying threshold on self-training.\n",
    "The `breast_cancer` dataset is loaded, and labels are deleted such that only 50\n",
    "out of 569 samples have labels. A `SelfTrainingClassifier` is fitted on this\n",
    "dataset, with varying thresholds.\n",
    "\n",
    "The upper graph shows the amount of labeled samples that the classifier has\n",
    "available by the end of fit, and the accuracy of the classifier. The lower\n",
    "graph shows the last iteration in which a sample was labeled. All values are\n",
    "cross validated with 3 folds.\n",
    "\n",
    "At low thresholds (in [0.4, 0.5]), the classifier learns from samples that were\n",
    "labeled with a low confidence. These low-confidence samples are likely have\n",
    "incorrect predicted labels, and as a result, fitting on these incorrect labels\n",
    "produces a poor accuracy. Note that the classifier labels almost all of the\n",
    "samples, and only takes one iteration.\n",
    "\n",
    "For very high thresholds (in [0.9, 1)) we observe that the classifier does not\n",
    "augment its dataset (the amount of self-labeled samples is 0). As a result, the\n",
    "accuracy achieved with a threshold of 0.9999 is the same as a normal supervised\n",
    "classifier would achieve.\n",
    "\n",
    "The optimal accuracy lies in between both of these extremes at a threshold of\n",
    "around 0.7.\n"
   ]
  },
  {
   "cell_type": "code",
   "execution_count": 4,
   "metadata": {},
   "outputs": [
    {
     "name": "stdout",
     "output_type": "stream",
     "text": [
      "Variable                 Type                      Data/Info\n",
      "------------------------------------------------------------\n",
      "SVC                      ABCMeta                   <class 'sklearn.svm._classes.SVC'>\n",
      "SelfTrainingClassifier   type                      <class 'sklearn.semi_supe<...>.SelfTrainingClassifier'>\n",
      "StratifiedKFold          ABCMeta                   <class 'sklearn.model_sel<...>._split.StratifiedKFold'>\n",
      "X                        ndarray                   569x30: 17070 elems, type `float64`, 136560 bytes (133.359375 kb)\n",
      "X_test                   ndarray                   189x30: 5670 elems, type `float64`, 45360 bytes\n",
      "X_train                  ndarray                   380x30: 11400 elems, type `float64`, 91200 bytes\n",
      "accuracy_score           function                  <function accuracy_score at 0x7fa93e483790>\n",
      "amount_iterations        ndarray                   14x3: 42 elems, type `float64`, 336 bytes\n",
      "amount_labeled           ndarray                   14x3: 42 elems, type `float64`, 336 bytes\n",
      "ax1                      AxesSubplot               AxesSubplot(0.125,0.536818;0.775x0.343182)\n",
      "ax2                      AxesSubplot               AxesSubplot(0.125,0.536818;0.775x0.343182)\n",
      "ax3                      AxesSubplot               AxesSubplot(0.125,0.125;0.775x0.343182)\n",
      "base_classifier          SVC                       SVC(gamma=0.001, probabil<...>ty=True, random_state=42)\n",
      "datasets                 module                    <module 'sklearn.datasets<...>rn/datasets/__init__.py'>\n",
      "fold                     int                       2\n",
      "i                        int                       13\n",
      "n_splits                 int                       3\n",
      "np                       module                    <module 'numpy' from '/ho<...>kages/numpy/__init__.py'>\n",
      "plt                      module                    <module 'matplotlib.pyplo<...>es/matplotlib/pyplot.py'>\n",
      "scores                   ndarray                   14x3: 42 elems, type `float64`, 336 bytes\n",
      "self_training_clf        SelfTrainingClassifier    SelfTrainingClassifier(ba<...>       threshold=0.99999)\n",
      "shuffle                  function                  <function shuffle at 0x7fa93ea53c10>\n",
      "skfolds                  StratifiedKFold           StratifiedKFold(n_splits=<...>tate=None, shuffle=False)\n",
      "test_index               ndarray                   189: 189 elems, type `int64`, 1512 bytes\n",
      "threshold                float64                   0.99999\n",
      "total_samples            int                       569\n",
      "train_index              ndarray                   380: 380 elems, type `int64`, 3040 bytes\n",
      "x_values                 ndarray                   14: 14 elems, type `float64`, 112 bytes\n",
      "y                        ndarray                   569: 569 elems, type `int64`, 4552 bytes\n",
      "y_pred                   ndarray                   189: 189 elems, type `int64`, 1512 bytes\n",
      "y_test                   ndarray                   189: 189 elems, type `int64`, 1512 bytes\n",
      "y_test_true              ndarray                   189: 189 elems, type `int64`, 1512 bytes\n",
      "y_train                  ndarray                   380: 380 elems, type `int64`, 3040 bytes\n",
      "y_true                   ndarray                   569: 569 elems, type `int64`, 4552 bytes\n"
     ]
    }
   ],
   "source": [
    "\n",
    "# Authors: Oliver Rausch <rauscho@ethz.ch>\n",
    "# License: BSD\n",
    "\n",
    "import numpy as np\n",
    "import matplotlib.pyplot as plt\n",
    "from sklearn import datasets\n",
    "from sklearn.svm import SVC\n",
    "from sklearn.model_selection import StratifiedKFold\n",
    "from sklearn.semi_supervised import SelfTrainingClassifier\n",
    "from sklearn.metrics import accuracy_score\n",
    "from sklearn.utils import shuffle\n",
    "\n",
    "n_splits = 3\n",
    "\n",
    "X, y = datasets.load_breast_cancer(return_X_y=True)\n",
    "X, y = shuffle(X, y, random_state=42)\n",
    "y_true = y.copy()\n",
    "y[50:] = -1\n",
    "total_samples = y.shape[0]\n",
    "\n",
    "base_classifier = SVC(probability=True, gamma=0.001, random_state=42)\n",
    "\n",
    "x_values = np.arange(0.4, 1.05, 0.05)\n",
    "x_values = np.append(x_values, 0.99999)\n",
    "scores = np.empty((x_values.shape[0], n_splits))\n",
    "amount_labeled = np.empty((x_values.shape[0], n_splits))\n",
    "amount_iterations = np.empty((x_values.shape[0], n_splits))\n",
    "%whos"
   ]
  },
  {
   "cell_type": "code",
   "execution_count": 9,
   "metadata": {},
   "outputs": [
    {
     "data": {
      "text/plain": [
       "<matplotlib.collections.PathCollection at 0x7fa9390a5820>"
      ]
     },
     "execution_count": 9,
     "metadata": {},
     "output_type": "execute_result"
    },
    {
     "data": {
      "image/png": "[encoded data removed]",
      "text/plain": [
       "<Figure size 432x288 with 1 Axes>"
      ]
     },
     "metadata": {
      "needs_background": "light"
     },
     "output_type": "display_data"
    }
   ],
   "source": [
    "plt.scatter(X[:,0],y_true)"
   ]
  },
  {
   "cell_type": "code",
   "execution_count": 2,
   "metadata": {},
   "outputs": [
    {
     "data": {
      "image/png": "[encoded data removed]",
      "text/plain": [
       "<Figure size 432x288 with 3 Axes>"
      ]
     },
     "metadata": {
      "needs_background": "light"
     },
     "output_type": "display_data"
    },
    {
     "name": "stdout",
     "output_type": "stream",
     "text": [
      "CPU times: user 23.7 s, sys: 418 ms, total: 24.1 s\n",
      "Wall time: 23.8 s\n"
     ]
    }
   ],
   "source": [
    "for (i, threshold) in enumerate(x_values):\n",
    "    self_training_clf = SelfTrainingClassifier(base_classifier, threshold=threshold)\n",
    "\n",
    "    # We need manual cross validation so that we don't treat -1 as a separate\n",
    "    # class when computing accuracy\n",
    "    skfolds = StratifiedKFold(n_splits=n_splits)\n",
    "    for fold, (train_index, test_index) in enumerate(skfolds.split(X, y)):\n",
    "        X_train = X[train_index]\n",
    "        y_train = y[train_index]\n",
    "        X_test = X[test_index]\n",
    "        y_test = y[test_index]\n",
    "        y_test_true = y_true[test_index]\n",
    "\n",
    "        self_training_clf.fit(X_train, y_train)\n",
    "\n",
    "        # The amount of labeled samples that at the end of fitting\n",
    "        amount_labeled[i, fold] = (\n",
    "            total_samples\n",
    "            - np.unique(self_training_clf.labeled_iter_, return_counts=True)[1][0]\n",
    "        )\n",
    "        # The last iteration the classifier labeled a sample in\n",
    "        amount_iterations[i, fold] = np.max(self_training_clf.labeled_iter_)\n",
    "\n",
    "        y_pred = self_training_clf.predict(X_test)\n",
    "        scores[i, fold] = accuracy_score(y_test_true, y_pred)\n",
    "\n",
    "\n",
    "ax1 = plt.subplot(211)\n",
    "ax1.errorbar(\n",
    "    x_values, scores.mean(axis=1), yerr=scores.std(axis=1), capsize=2, color=\"b\"\n",
    ")\n",
    "ax1.set_ylabel(\"Accuracy\", color=\"b\")\n",
    "ax1.tick_params(\"y\", colors=\"b\")\n",
    "\n",
    "ax2 = ax1.twinx()\n",
    "ax2.errorbar(\n",
    "    x_values,\n",
    "    amount_labeled.mean(axis=1),\n",
    "    yerr=amount_labeled.std(axis=1),\n",
    "    capsize=2,\n",
    "    color=\"g\",\n",
    ")\n",
    "ax2.set_ylim(bottom=0)\n",
    "ax2.set_ylabel(\"Amount of labeled samples\", color=\"g\")\n",
    "ax2.tick_params(\"y\", colors=\"g\")\n",
    "\n",
    "ax3 = plt.subplot(212, sharex=ax1)\n",
    "ax3.errorbar(\n",
    "    x_values,\n",
    "    amount_iterations.mean(axis=1),\n",
    "    yerr=amount_iterations.std(axis=1),\n",
    "    capsize=2,\n",
    "    color=\"b\",\n",
    ")\n",
    "ax3.set_ylim(bottom=0)\n",
    "ax3.set_ylabel(\"Amount of iterations\")\n",
    "ax3.set_xlabel(\"Threshold\")\n",
    "\n",
    "plt.show()"
   ]
  }
 ],
 "metadata": {
  "kernelspec": {
   "display_name": "Python 3 (ipykernel)",
   "language": "python",
   "name": "python3"
  },
  "language_info": {
   "codemirror_mode": {
    "name": "ipython",
    "version": 3
   },
   "file_extension": ".py",
   "mimetype": "text/x-python",
   "name": "python",
   "nbconvert_exporter": "python",
   "pygments_lexer": "ipython3",
   "version": "3.8.6"
  }
 },
 "nbformat": 4,
 "nbformat_minor": 1
}
