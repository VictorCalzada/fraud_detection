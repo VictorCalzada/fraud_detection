{
 "cells": [
  {
   "cell_type": "code",
   "execution_count": 1,
   "id": "8feae765",
   "metadata": {
    "scrolled": true
   },
   "outputs": [
    {
     "name": "stderr",
     "output_type": "stream",
     "text": [
      "2022-03-30 12:35:26.358928: W tensorflow/stream_executor/platform/default/dso_loader.cc:64] Could not load dynamic library 'libcudart.so.11.0'; dlerror: libcudart.so.11.0: cannot open shared object file: No such file or directory\n",
      "2022-03-30 12:35:26.359105: I tensorflow/stream_executor/cuda/cudart_stub.cc:29] Ignore above cudart dlerror if you do not have a GPU set up on your machine.\n"
     ]
    }
   ],
   "source": [
    "import optimizer as op\n",
    "from predictionModels import ReductionDim, Analisis \n",
    "from sklearn.preprocessing import StandardScaler"
   ]
  },
  {
   "cell_type": "code",
   "execution_count": 2,
   "id": "f5a9e23a",
   "metadata": {},
   "outputs": [],
   "source": [
    "from dataclasses import dataclass\n",
    "\n",
    "@dataclass\n",
    "class ModelosItems:\n",
    "    reduccion: ReductionDim\n",
    "    analisis: Analisis\n",
    "    val: float = 0.0"
   ]
  },
  {
   "cell_type": "code",
   "execution_count": 3,
   "id": "19af7aa6",
   "metadata": {},
   "outputs": [],
   "source": [
    "import pandas as pd\n",
    "import numpy as np\n",
    "import random\n",
    "random.seed(1)\n",
    "def balancedCut(df ,n ,frac = [0.5], target = 'Class',classes=[0,1]):\n",
    "    print(f'{\"=\"*50}\\nbalancedCut\\n{\"=\"*50}')\n",
    "    print(f'Realizando seleccion de la muestra la muestra')\n",
    "    newDfs = []\n",
    "    if sum(frac) > 1:\n",
    "        print(f'Valor de la fraccion incorrecto: --> {sum(frac)} > 1')\n",
    "        \n",
    "    if len(frac) < len(classes):\n",
    "        frac.append(1-sum(frac))\n",
    "    \n",
    "    for cl,fc in zip(classes, frac):\n",
    "        ndf = df[df[target]==cl]\n",
    "        ro = ndf.shape[0]\n",
    "        print(f'Dataset de clase --> {cl}')\n",
    "        if int(fc*n) > ro:\n",
    "            newDfs.append(ndf)\n",
    "            print(f'\\tFilas: {ro}')\n",
    "        else:\n",
    "            newDfs.append(ndf.sample(n=int(fc*n)))\n",
    "            print(f'\\tFilas: {int(fc*n)}')\n",
    "    \n",
    "    return pd.concat(newDfs), newDfs[1].shape[0]/newDfs[0].shape[0]"
   ]
  },
  {
   "cell_type": "code",
   "execution_count": 4,
   "id": "7166870e",
   "metadata": {},
   "outputs": [
    {
     "name": "stdout",
     "output_type": "stream",
     "text": [
      "==================================================\n",
      "balancedCut\n",
      "==================================================\n",
      "Realizando seleccion de la muestra la muestra\n",
      "Dataset de clase --> 0\n",
      "\tFilas: 27000\n",
      "Dataset de clase --> 1\n",
      "\tFilas: 492\n"
     ]
    }
   ],
   "source": [
    "cards = pd.read_csv(\"/home/vcalzada/Work/proyecto/modelos/creditcard.csv\")\n",
    "cards = cards.sample(frac=1)\n",
    "\n",
    "\n",
    "cards.head()\n",
    "\n",
    "df, frac = balancedCut(cards, 30000, frac=[0.9])\n",
    "x = df.iloc[:,0:-1].to_numpy()\n",
    "\n",
    "y = df.iloc[:,-1].to_numpy() \n",
    "scaler = StandardScaler()\n",
    "x = scaler.fit_transform(x)"
   ]
  },
  {
   "cell_type": "code",
   "execution_count": 5,
   "id": "9f271568",
   "metadata": {},
   "outputs": [],
   "source": [
    "reduccion={'pca':{'finalDim':[2,3,4]}, \n",
    "           'encoder':{'capas':[[32,16,8]], 'finalDim':2, 'batch_size':20, 'epochs':10 }}"
   ]
  },
  {
   "cell_type": "code",
   "execution_count": 6,
   "id": "9ce0206a",
   "metadata": {},
   "outputs": [],
   "source": [
    "modelos = {'isoForest':{'contamination':[0.1,0.01,-1]},\n",
    "           'som':{'sigma':0.2, 'learning_rate':0.2, 'neighborhood_function':'gaussian', 'outliers_percentage':0.15, 'epochs':100}}"
   ]
  },
  {
   "cell_type": "code",
   "execution_count": 7,
   "id": "23dd0b69",
   "metadata": {},
   "outputs": [],
   "source": [
    "from predictionModels import ReductionDim, Analisis \n",
    "def optimVal(x, reduccion, modelo):\n",
    "    reduc = reduccion.keys()\n",
    "    redList = []\n",
    "    mode = modelos.keys()\n",
    "    modList = []\n",
    "    for red in reduc:\n",
    "        params = op.crossParam(reduccion[red])\n",
    "        for par in params:\n",
    "            aux = ReductionDim(red,x)\n",
    "            aux.initParams(par)\n",
    "            redList.append(aux)\n",
    "    for mod in mode:\n",
    "        params = op.crossParam(modelo[mod])\n",
    "        for par in params:\n",
    "            aux =  Analisis(mod)\n",
    "            print(par)\n",
    "            aux.initParams(par)\n",
    "            modList.append(aux)\n",
    "    return redList, modList\n",
    "    \n",
    "        "
   ]
  },
  {
   "cell_type": "code",
   "execution_count": 8,
   "id": "10a4e8dc",
   "metadata": {},
   "outputs": [
    {
     "name": "stderr",
     "output_type": "stream",
     "text": [
      "2022-03-30 12:35:39.544286: W tensorflow/stream_executor/platform/default/dso_loader.cc:64] Could not load dynamic library 'libcuda.so.1'; dlerror: libcuda.so.1: cannot open shared object file: No such file or directory\n",
      "2022-03-30 12:35:39.544515: W tensorflow/stream_executor/cuda/cuda_driver.cc:269] failed call to cuInit: UNKNOWN ERROR (303)\n",
      "2022-03-30 12:35:39.544589: I tensorflow/stream_executor/cuda/cuda_diagnostics.cc:156] kernel driver does not appear to be running on this host (L-1802005): /proc/driver/nvidia/version does not exist\n",
      "2022-03-30 12:35:39.545799: I tensorflow/core/platform/cpu_feature_guard.cc:151] This TensorFlow binary is optimized with oneAPI Deep Neural Network Library (oneDNN) to use the following CPU instructions in performance-critical operations:  AVX2 FMA\n",
      "To enable them in other operations, rebuild TensorFlow with the appropriate compiler flags.\n"
     ]
    },
    {
     "name": "stdout",
     "output_type": "stream",
     "text": [
      "0.1\n",
      "0.01\n",
      "-1\n",
      "(0.2, 0.2, 'gaussian', 0.15, 100)\n"
     ]
    }
   ],
   "source": [
    "red, mod = optimVal(x, reduccion, modelos)"
   ]
  },
  {
   "cell_type": "code",
   "execution_count": 9,
   "id": "4a105ae2",
   "metadata": {},
   "outputs": [],
   "source": [
    "from itertools import product\n",
    "k = list(product(red,mod))"
   ]
  },
  {
   "cell_type": "code",
   "execution_count": 10,
   "id": "86edb44f",
   "metadata": {},
   "outputs": [],
   "source": [
    "obj = []\n",
    "for i in k:\n",
    "    obj.append(op.ModelosItems(*i))"
   ]
  },
  {
   "cell_type": "code",
   "execution_count": 11,
   "id": "bd087e26",
   "metadata": {
    "scrolled": true
   },
   "outputs": [
    {
     "name": "stdout",
     "output_type": "stream",
     "text": [
      "Epoch 1/10\n",
      "1375/1375 [==============================] - 20s 14ms/step - loss: 0.9639 - val_loss: 0.9283\n",
      "Epoch 2/10\n",
      "1375/1375 [==============================] - 25s 18ms/step - loss: 0.9215 - val_loss: 0.9158\n",
      "Epoch 3/10\n",
      "1375/1375 [==============================] - 23s 16ms/step - loss: 0.9108 - val_loss: 0.9077\n",
      "Epoch 4/10\n",
      "1375/1375 [==============================] - 26s 19ms/step - loss: 0.9049 - val_loss: 0.9028\n",
      "Epoch 5/10\n",
      "1375/1375 [==============================] - 16s 11ms/step - loss: 0.9019 - val_loss: 0.8996\n",
      "Epoch 6/10\n",
      "1375/1375 [==============================] - 25s 18ms/step - loss: 0.9000 - val_loss: 0.8987\n",
      "Epoch 7/10\n",
      "1375/1375 [==============================] - 17s 12ms/step - loss: 0.8982 - val_loss: 0.8974\n",
      "Epoch 8/10\n",
      "1375/1375 [==============================] - 25s 18ms/step - loss: 0.8968 - val_loss: 0.8959\n",
      "Epoch 9/10\n",
      "1375/1375 [==============================] - 23s 17ms/step - loss: 0.8954 - val_loss: 0.8940\n",
      "Epoch 10/10\n",
      "1375/1375 [==============================] - 24s 17ms/step - loss: 0.8942 - val_loss: 0.8928\n"
     ]
    }
   ],
   "source": [
    "for i in red:\n",
    "    i.fit()"
   ]
  },
  {
   "cell_type": "code",
   "execution_count": 12,
   "id": "40fc0732",
   "metadata": {},
   "outputs": [
    {
     "name": "stdout",
     "output_type": "stream",
     "text": [
      "4 4 16\n"
     ]
    }
   ],
   "source": [
    "print(len(red), len(mod), len(obj))"
   ]
  },
  {
   "cell_type": "code",
   "execution_count": 13,
   "id": "d7065072",
   "metadata": {},
   "outputs": [
    {
     "name": "stdout",
     "output_type": "stream",
     "text": [
      "[0 0 0 0] precision\n",
      "[0 0 0 0] precision\n",
      "[0 0 0 0] precision\n",
      "[0 0 0 0] precision\n",
      "[0 0 0 0] precision\n",
      "[0 0 0 0] precision\n",
      "[0 0 0 0] precision\n",
      "[0 0 0 0] precision\n",
      "[0 0 0 0] precision\n",
      "[0 0 0 0] precision\n",
      "[0 0 0 0] precision\n",
      "[0 0 0 0] precision\n",
      "[0 0 0 0] precision\n",
      "[0 0 0 0] precision\n",
      "[0 0 0 0] precision\n",
      "[0 0 0 0] precision\n"
     ]
    }
   ],
   "source": [
    "op.ModelosItems.yVal(y)\n",
    "for o in obj:\n",
    "    print(o.y[[1,4,7,44]], o.metric)"
   ]
  },
  {
   "cell_type": "code",
   "execution_count": 14,
   "id": "cad88b11",
   "metadata": {},
   "outputs": [
    {
     "data": {
      "text/plain": [
       "0.018222222222222223"
      ]
     },
     "execution_count": 14,
     "metadata": {},
     "output_type": "execute_result"
    }
   ],
   "source": [
    "frac"
   ]
  },
  {
   "cell_type": "code",
   "execution_count": 15,
   "id": "a4a1ef95",
   "metadata": {},
   "outputs": [
    {
     "data": {
      "text/plain": [
       "0.01"
      ]
     },
     "execution_count": 15,
     "metadata": {},
     "output_type": "execute_result"
    }
   ],
   "source": [
    "obj[1].analisis.contamination"
   ]
  },
  {
   "cell_type": "code",
   "execution_count": 16,
   "id": "579d889a",
   "metadata": {},
   "outputs": [],
   "source": [
    "for o in obj:\n",
    "    o.calMetricVal()"
   ]
  },
  {
   "cell_type": "code",
   "execution_count": 17,
   "id": "c200797e",
   "metadata": {},
   "outputs": [],
   "source": [
    "obj.sort(reverse=True)"
   ]
  },
  {
   "cell_type": "raw",
   "id": "286cf85e",
   "metadata": {},
   "source": [
    "for i in obj:\n",
    "    print(i)"
   ]
  },
  {
   "cell_type": "code",
   "execution_count": 22,
   "id": "463a2492",
   "metadata": {},
   "outputs": [
    {
     "name": "stdout",
     "output_type": "stream",
     "text": [
      "___________________________________________________________________________\n",
      "Reduccion --> pca\n",
      "\tNumero de parametros final --> 2\n",
      "___________________________________________________________________________\n",
      "___________________________________________________________________________\n",
      "Analisis --> isoForest\n",
      "\tContaminacion --> 0.1___________________________________________________________________________\n",
      "___________________________________________________________________________\n",
      "Reduccion --> pca\n",
      "\tNumero de parametros final --> 3\n",
      "___________________________________________________________________________\n",
      "___________________________________________________________________________\n",
      "Analisis --> isoForest\n",
      "\tContaminacion --> 0.1___________________________________________________________________________\n",
      "___________________________________________________________________________\n",
      "Reduccion --> pca\n",
      "\tNumero de parametros final --> 4\n",
      "___________________________________________________________________________\n",
      "___________________________________________________________________________\n",
      "Analisis --> isoForest\n",
      "\tContaminacion --> 0.1___________________________________________________________________________\n"
     ]
    }
   ],
   "source": [
    "print(obj[0])\n",
    "print(obj[1])\n",
    "print(obj[2])"
   ]
  },
  {
   "cell_type": "code",
   "execution_count": 19,
   "id": "2bdb968c",
   "metadata": {},
   "outputs": [
    {
     "ename": "AttributeError",
     "evalue": "'Analisis' object has no attribute 'contamination'",
     "output_type": "error",
     "traceback": [
      "\u001b[0;31m---------------------------------------------------------------------------\u001b[0m",
      "\u001b[0;31mAttributeError\u001b[0m                            Traceback (most recent call last)",
      "Input \u001b[0;32mIn [19]\u001b[0m, in \u001b[0;36m<cell line: 1>\u001b[0;34m()\u001b[0m\n\u001b[0;32m----> 1\u001b[0m \u001b[38;5;28mprint\u001b[39m(obj[\u001b[38;5;241m5\u001b[39m]\u001b[38;5;241m.\u001b[39mreduccion\u001b[38;5;241m.\u001b[39mreductionN,obj[\u001b[38;5;241m5\u001b[39m]\u001b[38;5;241m.\u001b[39manalisis\u001b[38;5;241m.\u001b[39mmodeloN, \u001b[43mobj\u001b[49m\u001b[43m[\u001b[49m\u001b[38;5;241;43m5\u001b[39;49m\u001b[43m]\u001b[49m\u001b[38;5;241;43m.\u001b[39;49m\u001b[43manalisis\u001b[49m\u001b[38;5;241;43m.\u001b[39;49m\u001b[43mcontamination\u001b[49m)\n",
      "\u001b[0;31mAttributeError\u001b[0m: 'Analisis' object has no attribute 'contamination'"
     ]
    }
   ],
   "source": [
    "print(obj[5].reduccion.reductionN,obj[5].analisis.modeloN, obj[5].analisis.contamination)"
   ]
  },
  {
   "cell_type": "code",
   "execution_count": null,
   "id": "80996a14",
   "metadata": {},
   "outputs": [],
   "source": [
    "for o in obj:\n",
    "    print(o.reduccion)"
   ]
  }
 ],
 "metadata": {
  "kernelspec": {
   "display_name": "Python 3 (ipykernel)",
   "language": "python",
   "name": "python3"
  },
  "language_info": {
   "codemirror_mode": {
    "name": "ipython",
    "version": 3
   },
   "file_extension": ".py",
   "mimetype": "text/x-python",
   "name": "python",
   "nbconvert_exporter": "python",
   "pygments_lexer": "ipython3",
   "version": "3.8.6"
  }
 },
 "nbformat": 4,
 "nbformat_minor": 5
}
