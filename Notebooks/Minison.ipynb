{
 "cells": [
  {
   "cell_type": "code",
   "execution_count": 9,
   "id": "6150dea3",
   "metadata": {},
   "outputs": [],
   "source": [
    "from minisom import MiniSom \n",
    "\n",
    "import pandas as pd\n",
    "import numpy as np\n",
    "import matplotlib.pyplot as plt\n",
    "\n",
    "import random \n",
    "\n",
    "from sklearn.preprocessing import StandardScaler\n",
    "\n",
    "import keras\n",
    "from keras.datasets import mnist\n",
    "from keras.models import Sequential, Model\n",
    "from keras.layers import Dense\n",
    "from tensorflow.keras.optimizers import Adam"
   ]
  },
  {
   "cell_type": "code",
   "execution_count": 2,
   "id": "e0d4b98c",
   "metadata": {},
   "outputs": [],
   "source": [
    "def balancedCut(df ,n ,frac = [0.5], target = 'Class',classes=[0,1]):\n",
    "    random.seed(1)\n",
    "    print(f'{\"=\"*50}\\nbalancedCut\\n{\"=\"*50}')\n",
    "    print(f'Realizando seleccion de la muestra la muestra')\n",
    "    newDfs = []\n",
    "    if sum(frac) > 1:\n",
    "        print(f'Valor de la fraccion incorrecto: --> {sum(frac)} > 1')\n",
    "        \n",
    "    if len(frac) < len(classes):\n",
    "        frac.append(1-sum(frac))\n",
    "    \n",
    "    for cl,fc in zip(classes, frac):\n",
    "        ndf = df[df[target]==cl]\n",
    "        ro = ndf.shape[0]\n",
    "        print(f'Dataset de clase --> {cl}')\n",
    "        if int(fc*n) > ro:\n",
    "            newDfs.append(ndf)\n",
    "            print(f'\\tFilas: {ro}')\n",
    "        else:\n",
    "            newDfs.append(ndf.sample(n=int(fc*n)))\n",
    "            print(f'\\tFilas: {int(fc*n)}')\n",
    "    \n",
    "    return pd.concat(newDfs), newDfs[1].shape[0]/newDfs[0].shape[0]"
   ]
  },
  {
   "cell_type": "code",
   "execution_count": 20,
   "id": "c7f99790",
   "metadata": {},
   "outputs": [
    {
     "name": "stdout",
     "output_type": "stream",
     "text": [
      "==================================================\n",
      "balancedCut\n",
      "==================================================\n",
      "Realizando seleccion de la muestra la muestra\n",
      "Dataset de clase --> 0\n",
      "\tFilas: 36000\n",
      "Dataset de clase --> 1\n",
      "\tFilas: 492\n"
     ]
    }
   ],
   "source": [
    "cards = pd.read_csv(\"/home/vcalzada/Work/proyecto/modelos/creditcard.csv\")\n",
    "cards = cards.sample(frac=1)\n",
    "\n",
    "\n",
    "cards.head()\n",
    "\n",
    "df, frac = balancedCut(cards, 40000, frac=[0.9])"
   ]
  },
  {
   "cell_type": "code",
   "execution_count": 21,
   "id": "1dc2501a",
   "metadata": {
    "id": "1dc2501a"
   },
   "outputs": [],
   "source": [
    "x = df.iloc[:,0:-1].to_numpy()\n",
    "\n",
    "y = df.iloc[:,-1].to_numpy() \n",
    "scaler = StandardScaler()\n",
    "x = scaler.fit_transform(x)"
   ]
  },
  {
   "cell_type": "code",
   "execution_count": 22,
   "id": "30f7c5c8",
   "metadata": {},
   "outputs": [],
   "source": [
    "m = Sequential()\n",
    "m.add(Dense(512,  activation='elu', input_shape=(30,)))\n",
    "m.add(Dense(128,  activation='elu'))\n",
    "m.add(Dense(2,    activation='linear', name=\"bottleneck\"))\n",
    "m.add(Dense(128,  activation='elu'))\n",
    "m.add(Dense(512,  activation='elu'))\n",
    "m.add(Dense(30,  activation='sigmoid'))"
   ]
  },
  {
   "cell_type": "code",
   "execution_count": 23,
   "id": "e3574a42",
   "metadata": {},
   "outputs": [
    {
     "name": "stdout",
     "output_type": "stream",
     "text": [
      "Epoch 1/10\n",
      "1825/1825 [==============================] - 27s 14ms/step - loss: 0.9476 - val_loss: 0.9280\n",
      "Epoch 2/10\n",
      "1825/1825 [==============================] - 36s 20ms/step - loss: 0.9239 - val_loss: 0.9200\n",
      "Epoch 3/10\n",
      "1825/1825 [==============================] - 24s 13ms/step - loss: 0.9165 - val_loss: 0.9154\n",
      "Epoch 4/10\n",
      "1825/1825 [==============================] - 30s 17ms/step - loss: 0.9140 - val_loss: 0.9121\n",
      "Epoch 5/10\n",
      "1825/1825 [==============================] - 32s 17ms/step - loss: 0.9130 - val_loss: 0.9127\n",
      "Epoch 6/10\n",
      "1825/1825 [==============================] - 39s 22ms/step - loss: 0.9119 - val_loss: 0.9136\n",
      "Epoch 7/10\n",
      "1825/1825 [==============================] - 25s 14ms/step - loss: 0.9110 - val_loss: 0.9074\n",
      "Epoch 8/10\n",
      "1825/1825 [==============================] - 24s 13ms/step - loss: 0.9084 - val_loss: 0.9042\n",
      "Epoch 9/10\n",
      "1825/1825 [==============================] - 26s 14ms/step - loss: 0.9047 - val_loss: 0.9030\n",
      "Epoch 10/10\n",
      "1825/1825 [==============================] - 31s 17ms/step - loss: 0.9047 - val_loss: 0.9028\n"
     ]
    }
   ],
   "source": [
    "m.compile(loss='mean_squared_error', optimizer = Adam())\n",
    "history = m.fit(x, x, batch_size=20, epochs=10, verbose=1, \n",
    "                validation_data=(x, x))\n",
    "\n",
    "encoder = Model(m.input, m.get_layer('bottleneck').output)\n",
    "Zenc = encoder.predict(x)  # bottleneck representation\n",
    "Renc = m.predict(x)        # reconstruction"
   ]
  },
  {
   "cell_type": "code",
   "execution_count": 24,
   "id": "12d474ed",
   "metadata": {},
   "outputs": [
    {
     "name": "stdout",
     "output_type": "stream",
     "text": [
      " [ 10000 / 10000 ] 100% - 0:00:00 left \n",
      " quantization error: 17.51079699693184\n"
     ]
    }
   ],
   "source": [
    "n_neurons = 25\n",
    "m_neurons = 25\n",
    "x = Zenc\n",
    "som = MiniSom(2, 1, x.shape[1], sigma=0.99, learning_rate=.2, \n",
    "              neighborhood_function='gaussian', random_seed=0)\n",
    "\n",
    "som.train(x, 10000, verbose=True)\n",
    "\n",
    "\n"
   ]
  },
  {
   "cell_type": "code",
   "execution_count": 42,
   "id": "9f1ed802",
   "metadata": {},
   "outputs": [
    {
     "data": {
      "text/plain": [
       "Text(0, 0.5, 'frequency')"
      ]
     },
     "execution_count": 42,
     "metadata": {},
     "output_type": "execute_result"
    },
    {
     "data": {
      "image/png": "[encoded data removed]",
      "text/plain": [
       "<Figure size 432x288 with 1 Axes>"
      ]
     },
     "metadata": {
      "needs_background": "light"
     },
     "output_type": "display_data"
    }
   ],
   "source": [
    "outliers_percentage=0.057\n",
    "quantization_errors = np.linalg.norm(som.quantization(x) - x, axis=1)\n",
    "error_treshold = np.percentile(quantization_errors, \n",
    "                               100*(1-outliers_percentage)+5)\n",
    "is_outlier = quantization_errors > error_treshold\n",
    "plt.hist(quantization_errors)\n",
    "plt.axvline(error_treshold, color='k', linestyle='--')\n",
    "plt.xlabel('error')\n",
    "plt.ylabel('frequency')"
   ]
  },
  {
   "cell_type": "code",
   "execution_count": 43,
   "id": "d86809f9",
   "metadata": {},
   "outputs": [],
   "source": [
    "y_pred = [int(i) for i in is_outlier]"
   ]
  },
  {
   "cell_type": "code",
   "execution_count": 44,
   "id": "f8729498",
   "metadata": {
    "scrolled": false
   },
   "outputs": [
    {
     "data": {
      "image/png": "[encoded data removed]",
      "text/plain": [
       "<Figure size 576x576 with 1 Axes>"
      ]
     },
     "metadata": {
      "needs_background": "light"
     },
     "output_type": "display_data"
    },
    {
     "data": {
      "image/png": "[encoded data removed]",
      "text/plain": [
       "<Figure size 576x576 with 1 Axes>"
      ]
     },
     "metadata": {
      "needs_background": "light"
     },
     "output_type": "display_data"
    }
   ],
   "source": [
    "plt.figure(figsize=(8, 8))\n",
    "plt.scatter(x[y==0, 0], x[y==0, 1],\n",
    "            label='inlier',color=\"blue\")\n",
    "plt.scatter(x[y==1, 0], x[y==1, 1],\n",
    "            label='outlier',color=\"red\")\n",
    "plt.legend()\n",
    "plt.show()\n",
    "\n",
    "\n",
    "plt.figure(figsize=(8, 8))\n",
    "plt.scatter(x[~is_outlier, 0], x[~is_outlier, 1],\n",
    "            label='inlier',color=\"blue\")\n",
    "plt.scatter(x[is_outlier, 0], x[is_outlier, 1],\n",
    "            label='outlier',color=\"red\")\n",
    "plt.legend()\n",
    "plt.show()"
   ]
  },
  {
   "cell_type": "code",
   "execution_count": 45,
   "id": "096cdc85",
   "metadata": {},
   "outputs": [
    {
     "data": {
      "text/plain": [
       "<sklearn.metrics._plot.confusion_matrix.ConfusionMatrixDisplay at 0x7f2ab8fcaa30>"
      ]
     },
     "execution_count": 45,
     "metadata": {},
     "output_type": "execute_result"
    },
    {
     "data": {
      "image/png": "[encoded data removed]",
      "text/plain": [
       "<Figure size 432x288 with 2 Axes>"
      ]
     },
     "metadata": {
      "needs_background": "light"
     },
     "output_type": "display_data"
    }
   ],
   "source": [
    "from sklearn.metrics import confusion_matrix, ConfusionMatrixDisplay, classification_report\n",
    "cm = confusion_matrix(y, y_pred)\n",
    "\n",
    "disp = ConfusionMatrixDisplay(confusion_matrix=cm,display_labels=[])\n",
    "disp.plot()"
   ]
  },
  {
   "cell_type": "code",
   "execution_count": 46,
   "id": "16dec69f",
   "metadata": {},
   "outputs": [
    {
     "name": "stdout",
     "output_type": "stream",
     "text": [
      "              precision    recall  f1-score   support\n",
      "\n",
      "           0       0.99      1.00      0.99     36000\n",
      "           1       0.72      0.37      0.49       492\n",
      "\n",
      "    accuracy                           0.99     36492\n",
      "   macro avg       0.86      0.69      0.74     36492\n",
      "weighted avg       0.99      0.99      0.99     36492\n",
      "\n"
     ]
    }
   ],
   "source": [
    "print(classification_report(y,y_pred))"
   ]
  },
  {
   "cell_type": "raw",
   "id": "0caba546",
   "metadata": {},
   "source": [
    "import matplotlib.pyplot as plt\n",
    "%matplotlib inline\n",
    "\n",
    "plt.figure(figsize=(9, 9))\n",
    "\n",
    "plt.pcolor(som.distance_map().T, cmap='bone_r')  # plotting the distance map as background\n",
    "plt.colorbar()\n",
    "\n",
    "# Plotting the response for each pattern in the iris xset\n",
    "# different colors and markers for each label\n",
    "markers = ['o', 's']\n",
    "colors = ['C0', 'C1']\n",
    "for cnt, xx in enumerate(x):\n",
    "    w = som.winner(xx)  # getting the winner\n",
    "    # palce a marker on the winning position for the sample xx\n",
    "    plt.plot(w[0]+.5, w[1]+.5, markers[y[cnt]-1], markerfacecolor='None',\n",
    "             markeredgecolor=colors[y[cnt]-1], markersize=12, markeredgewidth=2)\n",
    "\n",
    "plt.show()"
   ]
  },
  {
   "cell_type": "raw",
   "id": "b8df2475",
   "metadata": {},
   "source": [
    "import matplotlib.gridspec as gridspec\n",
    "label_names ={0:'NoFr',1:'Fr'}\n",
    "labels_map = som.labels_map(x, [label_names[t] for t in y])\n",
    "\n",
    "fig = plt.figure(figsize=(9, 9))\n",
    "the_grid = gridspec.GridSpec(n_neurons, m_neurons, fig)\n",
    "for position in labels_map.keys():\n",
    "    label_fracs = [labels_map[position][l] for l in label_names.values()]\n",
    "    plt.subplot(the_grid[n_neurons-1-position[1],\n",
    "                         position[0]], aspect=1)\n",
    "    patches, texts = plt.pie(label_fracs)\n",
    "\n",
    "plt.legend(patches, label_names.values(), bbox_to_anchor=(3.5, 6.5), ncol=3)\n",
    "plt.show()"
   ]
  },
  {
   "cell_type": "raw",
   "id": "5481f06f",
   "metadata": {},
   "source": [
    "columns=['area', 'perimeter', 'compactness', 'length_kernel', 'width_kernel',\n",
    "                   'asymmetry_coefficient', 'length_kernel_groove', 'target']\n",
    "data = pd.read_csv('https://archive.ics.uci.edu/ml/machine-learning-databases/00236/seeds_dataset.txt', \n",
    "                    names=columns, \n",
    "                   sep='\\t+', engine='python')"
   ]
  },
  {
   "cell_type": "raw",
   "id": "56c623d7",
   "metadata": {},
   "source": [
    "data['target']"
   ]
  }
 ],
 "metadata": {
  "kernelspec": {
   "display_name": "Python 3 (ipykernel)",
   "language": "python",
   "name": "python3"
  },
  "language_info": {
   "codemirror_mode": {
    "name": "ipython",
    "version": 3
   },
   "file_extension": ".py",
   "mimetype": "text/x-python",
   "name": "python",
   "nbconvert_exporter": "python",
   "pygments_lexer": "ipython3",
   "version": "3.8.6"
  }
 },
 "nbformat": 4,
 "nbformat_minor": 5
}
