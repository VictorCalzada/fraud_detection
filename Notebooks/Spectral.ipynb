{
 "cells": [
  {
   "cell_type": "markdown",
   "id": "f4c40364",
   "metadata": {},
   "source": [
    "# Spectral Clustering"
   ]
  },
  {
   "cell_type": "markdown",
   "id": "ab80b229",
   "metadata": {},
   "source": [
    "<div class=\"alert alert-info\" role=\"alert\">\n",
    "    <h2>Muestra muy poco balanceada</h2>\n",
    "    Cogiendo una fracción de los datos, los casos de fraude seran muy reducidos \n",
    "</div>"
   ]
  },
  {
   "cell_type": "code",
   "execution_count": 3,
   "id": "2f2d5ae5",
   "metadata": {},
   "outputs": [
    {
     "name": "stdout",
     "output_type": "stream",
     "text": [
      "0.1\n",
      "<class 'float'>\n"
     ]
    }
   ],
   "source": [
    "a = float(input())\n",
    "print(type(a))"
   ]
  },
  {
   "cell_type": "code",
   "execution_count": null,
   "id": "805c3a33",
   "metadata": {},
   "outputs": [],
   "source": [
    "import pandas as pd\n",
    "import numpy as np\n",
    "import plotly.express as px\n",
    "import plotly.graph_objects as go\n",
    "from plotly.subplots import make_subplots\n",
    "\n",
    "from sklearn.decomposition import PCA\n",
    "from sklearn.cluster import SpectralClustering\n",
    "from sklearn.preprocessing import StandardScaler\n",
    "from sklearn.metrics import confusion_matrix, ConfusionMatrixDisplay"
   ]
  },
  {
   "cell_type": "code",
   "execution_count": null,
   "id": "0b01ae2e",
   "metadata": {},
   "outputs": [],
   "source": [
    "def balancedCut(df ,n ,frac = [0.5], target = 'Class',classes=[0,1]):\n",
    "    print(f'{\"=\"*50}\\nbalancedCut\\n{\"=\"*50}')\n",
    "    print(f'Realizando seleccion de la muestra la muestra')\n",
    "    newDfs = []\n",
    "    if sum(frac) > 1:\n",
    "        print(f'Valor de la fraccion incorrecto: --> {sum(frac)} > 1')\n",
    "        \n",
    "    if len(frac) < len(classes):\n",
    "        frac.append(1-sum(frac))\n",
    "    \n",
    "    for cl,fc in zip(classes, frac):\n",
    "        ndf = df[df[target]==cl]\n",
    "        ro = ndf.shape[0]\n",
    "        print(f'Dataset de clase --> {cl}')\n",
    "        if int(fc*n) > ro:\n",
    "            newDfs.append(ndf)\n",
    "            print(f'\\tFilas: {ro}')\n",
    "        else:\n",
    "            newDfs.append(ndf.sample(n=int(fc*n)))\n",
    "            print(f'\\tFilas: {int(fc*n)}')\n",
    "    \n",
    "    return pd.concat(newDfs)"
   ]
  },
  {
   "cell_type": "code",
   "execution_count": null,
   "id": "218fd062",
   "metadata": {},
   "outputs": [],
   "source": [
    "cards = pd.read_csv(\"/home/vcalzada/Work/proyecto/modelos/creditcard.csv\")\n",
    "cards = cards.sample(frac=1)\n",
    "\n",
    "\n",
    "cards.head()\n",
    "\n",
    "df = balancedCut(cards, 1000, frac=[0.9])"
   ]
  },
  {
   "cell_type": "code",
   "execution_count": null,
   "id": "5802d101",
   "metadata": {},
   "outputs": [],
   "source": [
    "fig = px.scatter_3d(df, x='V1',y='V2',z='V3', color='Class')\n",
    "fig.update_layout(margin=dict(l=0, r=0, b=0, t=0))\n",
    "fig.show()"
   ]
  },
  {
   "cell_type": "code",
   "execution_count": null,
   "id": "4087cdec",
   "metadata": {},
   "outputs": [],
   "source": [
    "campos = list(cards.keys())\n",
    "campos.remove(\"Class\")\n",
    "X = np.array(df[campos])\n",
    "y = np.array(df[\"Class\"])\n",
    "scaler = StandardScaler()\n",
    "X = scaler.fit_transform(X)"
   ]
  },
  {
   "cell_type": "code",
   "execution_count": null,
   "id": "870e4740",
   "metadata": {},
   "outputs": [],
   "source": [
    "y_pred = SpectralClustering(n_clusters=2,assign_labels='discretize',random_state=0).fit_predict(X[:,1:10])"
   ]
  },
  {
   "cell_type": "code",
   "execution_count": null,
   "id": "0074d632",
   "metadata": {},
   "outputs": [],
   "source": [
    "cm = confusion_matrix(y, y_pred)\n",
    "\n",
    "disp = ConfusionMatrixDisplay(confusion_matrix=cm,display_labels=[])\n",
    "disp.plot()"
   ]
  },
  {
   "cell_type": "code",
   "execution_count": null,
   "id": "ab1d7cbb",
   "metadata": {
    "scrolled": false
   },
   "outputs": [],
   "source": [
    "fig = make_subplots(rows=1, cols=2,\n",
    "                   specs=[[{'type': 'scene'}, {'type': 'scene'}]])\n",
    "t = y_pred==0\n",
    "n = y_pred==1\n",
    "fig.add_trace(go.Scatter3d(x=X[t,1],y=X[t,2],z=X[t,3], mode='markers', marker=dict(color='blue'), \n",
    "                           name='No fraude'), row=1, col=1)\n",
    "fig.add_trace(go.Scatter3d(x=X[n,1],y=X[n,2],z=X[n,3], mode='markers', marker=dict(color='orange'), \n",
    "                           name='Fraude'), row=1, col=1)\n",
    "t = y==0\n",
    "n = y==1\n",
    "fig.add_trace(go.Scatter3d(x=X[t,1],y=X[t,2],z=X[t,3], mode='markers', marker=dict(color='blue'),\n",
    "                           name = 'No fraude'), row=1, col=2)\n",
    "fig.add_trace(go.Scatter3d(x=X[n,1],y=X[n,2],z=X[n,3], mode='markers', marker=dict(color='orange'), \n",
    "                           name = 'Fraude'), row=1, col=2)\n",
    "fig.show()"
   ]
  },
  {
   "cell_type": "markdown",
   "id": "9e9401dd",
   "metadata": {},
   "source": [
    "# PCA "
   ]
  },
  {
   "cell_type": "code",
   "execution_count": null,
   "id": "25cdd785",
   "metadata": {},
   "outputs": [],
   "source": [
    "pca = PCA(n_components=5)\n",
    "pca.fit(X)\n",
    "X_pca = pca.transform(X)"
   ]
  },
  {
   "cell_type": "code",
   "execution_count": null,
   "id": "cf60f545",
   "metadata": {},
   "outputs": [],
   "source": [
    "y_pred_pca = SpectralClustering(n_clusters=2,assign_labels='discretize',random_state=0).fit_predict(X_pca)"
   ]
  },
  {
   "cell_type": "code",
   "execution_count": null,
   "id": "d621bc53",
   "metadata": {},
   "outputs": [],
   "source": [
    "cm = confusion_matrix(y, y_pred_pca)\n",
    "\n",
    "disp = ConfusionMatrixDisplay(confusion_matrix=cm,display_labels=[])\n",
    "disp.plot()"
   ]
  },
  {
   "cell_type": "code",
   "execution_count": null,
   "id": "e336f7e3",
   "metadata": {
    "scrolled": false
   },
   "outputs": [],
   "source": []
  }
 ],
 "metadata": {
  "kernelspec": {
   "display_name": "Python 3 (ipykernel)",
   "language": "python",
   "name": "python3"
  },
  "language_info": {
   "codemirror_mode": {
    "name": "ipython",
    "version": 3
   },
   "file_extension": ".py",
   "mimetype": "text/x-python",
   "name": "python",
   "nbconvert_exporter": "python",
   "pygments_lexer": "ipython3",
   "version": "3.8.6"
  }
 },
 "nbformat": 4,
 "nbformat_minor": 5
}
