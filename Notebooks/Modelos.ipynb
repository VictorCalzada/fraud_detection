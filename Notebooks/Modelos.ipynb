{
 "cells": [
  {
   "cell_type": "markdown",
   "id": "1dcfe7e7",
   "metadata": {},
   "source": [
    "# Modelos\n",
    "\n",
    "[LOF Clustering](LOF.ipynb)\n",
    "\n",
    "[Spectral Clustering](Spectral.ipynb)"
   ]
  },
  {
   "cell_type": "code",
   "execution_count": 1,
   "id": "ecd03a1b",
   "metadata": {},
   "outputs": [
    {
     "ename": "ModuleNotFoundError",
     "evalue": "No module named 'predictionModels'",
     "output_type": "error",
     "traceback": [
      "\u001b[0;31m---------------------------------------------------------------------------\u001b[0m",
      "\u001b[0;31mModuleNotFoundError\u001b[0m                       Traceback (most recent call last)",
      "Input \u001b[0;32mIn [1]\u001b[0m, in \u001b[0;36m<cell line: 1>\u001b[0;34m()\u001b[0m\n\u001b[0;32m----> 1\u001b[0m \u001b[38;5;28;01mimport\u001b[39;00m \u001b[38;5;21;01mpredictionModels\u001b[39;00m \u001b[38;5;28;01mas\u001b[39;00m \u001b[38;5;21;01mpm\u001b[39;00m\n\u001b[1;32m      2\u001b[0m \u001b[38;5;28;01mimport\u001b[39;00m \u001b[38;5;21;01mpandas\u001b[39;00m \u001b[38;5;28;01mas\u001b[39;00m \u001b[38;5;21;01mpd\u001b[39;00m\n\u001b[1;32m      3\u001b[0m \u001b[38;5;28;01mfrom\u001b[39;00m \u001b[38;5;21;01msklearn\u001b[39;00m\u001b[38;5;21;01m.\u001b[39;00m\u001b[38;5;21;01mpreprocessing\u001b[39;00m \u001b[38;5;28;01mimport\u001b[39;00m StandardScaler\n",
      "\u001b[0;31mModuleNotFoundError\u001b[0m: No module named 'predictionModels'"
     ]
    }
   ],
   "source": [
    "import predictionModels as pm\n",
    "import pandas as pd\n",
    "from sklearn.preprocessing import StandardScaler\n",
    "import matplotlib.pyplot as plt\n",
    "import random"
   ]
  },
  {
   "cell_type": "code",
   "execution_count": null,
   "id": "19af7aa6",
   "metadata": {},
   "outputs": [],
   "source": [
    "random.seed(1)\n",
    "def balancedCut(df ,n ,frac = [0.5], target = 'Class',classes=[0,1]):\n",
    "    print(f'{\"=\"*50}\\nbalancedCut\\n{\"=\"*50}')\n",
    "    print(f'Realizando seleccion de la muestra la muestra')\n",
    "    newDfs = []\n",
    "    if sum(frac) > 1:\n",
    "        print(f'Valor de la fraccion incorrecto: --> {sum(frac)} > 1')\n",
    "        \n",
    "    if len(frac) < len(classes):\n",
    "        frac.append(1-sum(frac))\n",
    "    \n",
    "    for cl,fc in zip(classes, frac):\n",
    "        ndf = df[df[target]==cl]\n",
    "        ro = ndf.shape[0]\n",
    "        print(f'Dataset de clase --> {cl}')\n",
    "        if int(fc*n) > ro:\n",
    "            newDfs.append(ndf)\n",
    "            print(f'\\tFilas: {ro}')\n",
    "        else:\n",
    "            newDfs.append(ndf.sample(n=int(fc*n)))\n",
    "            print(f'\\tFilas: {int(fc*n)}')\n",
    "    \n",
    "    return pd.concat(newDfs), newDfs[1].shape[0]/newDfs[0].shape[0]"
   ]
  },
  {
   "cell_type": "code",
   "execution_count": null,
   "id": "7166870e",
   "metadata": {},
   "outputs": [],
   "source": [
    "cards = pd.read_csv(\"/home/vcalzada/Work/proyecto/modelos/creditcard.csv\")\n",
    "cards = cards.sample(frac=1)\n",
    "\n",
    "\n",
    "cards.head()\n",
    "\n",
    "df, frac = balancedCut(cards, 30000, frac=[0.9])\n",
    "x = df.iloc[:,0:-1].to_numpy()\n",
    "\n",
    "y = df.iloc[:,-1].to_numpy() "
   ]
  },
  {
   "cell_type": "code",
   "execution_count": null,
   "id": "5208b5fa",
   "metadata": {},
   "outputs": [],
   "source": [
    "scaler = StandardScaler()\n",
    "x = scaler.fit_transform(x)"
   ]
  },
  {
   "cell_type": "code",
   "execution_count": null,
   "id": "a3007840",
   "metadata": {},
   "outputs": [],
   "source": [
    "red_pca = pm.ReductionDim('pca', x)\n",
    "red_pca.initParams(args=2)\n",
    "x_pca = red_pca.fit_predict()\n",
    "x_pca"
   ]
  },
  {
   "cell_type": "code",
   "execution_count": null,
   "id": "118886c5",
   "metadata": {},
   "outputs": [],
   "source": [
    "fig = plt.figure(figsize=(10,8))\n",
    "plt.scatter(x_pca[y==0,0], x_pca[y==0,1], color=\"blue\")\n",
    "plt.scatter(x_pca[y==1,0], x_pca[y==1,1], color=\"red\")\n",
    "plt.show()"
   ]
  },
  {
   "cell_type": "code",
   "execution_count": null,
   "id": "61431e11",
   "metadata": {},
   "outputs": [],
   "source": [
    "print(str(red_pca))"
   ]
  },
  {
   "cell_type": "code",
   "execution_count": null,
   "id": "df85c393",
   "metadata": {
    "scrolled": false
   },
   "outputs": [],
   "source": [
    "red_encoder = pm.ReductionDim('encoder', x)\n",
    "args = ([512,128], 2,18,10)\n",
    "capas, finalDim, batch_size, epochs = args\n",
    "red_encoder.initParams(args)\n",
    "x_encoder = red_encoder.fit_predict()\n",
    "x_encoder"
   ]
  },
  {
   "cell_type": "code",
   "execution_count": null,
   "id": "bb33f350",
   "metadata": {},
   "outputs": [],
   "source": [
    "fig = plt.figure(figsize=(10,8))\n",
    "plt.scatter(x_encoder[y==0,0], x_encoder[y==0,1], color=\"blue\")\n",
    "plt.scatter(x_encoder[y==1,0], x_encoder[y==1,1], color=\"red\")\n",
    "plt.show()"
   ]
  },
  {
   "cell_type": "code",
   "execution_count": null,
   "id": "837aa0e2",
   "metadata": {},
   "outputs": [],
   "source": [
    "print(red_encoder)"
   ]
  },
  {
   "cell_type": "code",
   "execution_count": null,
   "id": "37877b80",
   "metadata": {},
   "outputs": [],
   "source": [
    "mod_som = pm.Analisis('som', x_encoder)"
   ]
  },
  {
   "cell_type": "code",
   "execution_count": null,
   "id": "a8dd9fae",
   "metadata": {},
   "outputs": [],
   "source": [
    "args = [0.99,0.2,'gaussian',0.070]\n",
    "mod_som.initParams(args)\n",
    "y_pred = mod_som.fit_predict()"
   ]
  },
  {
   "cell_type": "code",
   "execution_count": null,
   "id": "ebd4a5e7",
   "metadata": {},
   "outputs": [],
   "source": [
    "\n",
    "import numpy as np\n",
    "y_pred = np.array(y_pred)"
   ]
  },
  {
   "cell_type": "code",
   "execution_count": null,
   "id": "6eb5d25c",
   "metadata": {},
   "outputs": [],
   "source": [
    "\n",
    "plt.figure(figsize=(8, 8))\n",
    "plt.scatter(x_encoder[y==0, 0], x_encoder[y==0, 1],\n",
    "            label='inlier',color=\"blue\")\n",
    "plt.scatter(x_encoder[y==1, 0], x_encoder[y==1, 1],\n",
    "            label='outlier',color=\"red\")\n",
    "plt.legend()\n",
    "plt.show()\n",
    "\n",
    "\n",
    "plt.figure(figsize=(8, 8))\n",
    "plt.scatter(x_encoder[y_pred==0, 0], x_encoder[y_pred==0, 1],\n",
    "            label='inlier',color=\"blue\")\n",
    "plt.scatter(x_encoder[y_pred==1, 0], x_encoder[y_pred==1, 1],\n",
    "            label='outlier',color=\"red\")\n",
    "plt.legend()\n",
    "plt.show()"
   ]
  },
  {
   "cell_type": "code",
   "execution_count": null,
   "id": "809c8987",
   "metadata": {},
   "outputs": [],
   "source": [
    "mod_iso = pm.Analisis('isoForest', x)"
   ]
  },
  {
   "cell_type": "code",
   "execution_count": null,
   "id": "9c559405",
   "metadata": {},
   "outputs": [],
   "source": [
    "frac"
   ]
  },
  {
   "cell_type": "code",
   "execution_count": null,
   "id": "099e60ae",
   "metadata": {},
   "outputs": [],
   "source": [
    "mod_iso.initParams(0.016)\n",
    "y_pred = mod_iso.fit_predict()"
   ]
  },
  {
   "cell_type": "code",
   "execution_count": null,
   "id": "b07fd6fa",
   "metadata": {},
   "outputs": [],
   "source": [
    "\n",
    "plt.figure(figsize=(8, 8))\n",
    "plt.scatter(x_encoder[y==0, 0], x_encoder[y==0, 1],\n",
    "            label='inlier',color=\"blue\")\n",
    "plt.scatter(x_encoder[y==1, 0], x_encoder[y==1, 1],\n",
    "            label='outlier',color=\"red\")\n",
    "plt.legend()\n",
    "plt.show()\n",
    "\n",
    "\n",
    "plt.figure(figsize=(8, 8))\n",
    "plt.scatter(x_encoder[y_pred==0, 0], x_encoder[y_pred==0, 1],\n",
    "            label='inlier',color=\"blue\")\n",
    "plt.scatter(x_encoder[y_pred==1, 0], x_encoder[y_pred==1, 1],\n",
    "            label='outlier',color=\"red\")\n",
    "plt.legend()\n",
    "plt.show()"
   ]
  },
  {
   "cell_type": "code",
   "execution_count": null,
   "id": "72768674",
   "metadata": {},
   "outputs": [],
   "source": []
  },
  {
   "cell_type": "code",
   "execution_count": null,
   "id": "49c5f613",
   "metadata": {},
   "outputs": [],
   "source": []
  }
 ],
 "metadata": {
  "kernelspec": {
   "display_name": "Python 3 (ipykernel)",
   "language": "python",
   "name": "python3"
  },
  "language_info": {
   "codemirror_mode": {
    "name": "ipython",
    "version": 3
   },
   "file_extension": ".py",
   "mimetype": "text/x-python",
   "name": "python",
   "nbconvert_exporter": "python",
   "pygments_lexer": "ipython3",
   "version": "3.8.6"
  }
 },
 "nbformat": 4,
 "nbformat_minor": 5
}
